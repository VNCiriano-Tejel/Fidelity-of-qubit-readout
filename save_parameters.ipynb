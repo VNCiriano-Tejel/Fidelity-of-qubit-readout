{
 "cells": [
  {
   "cell_type": "code",
   "execution_count": 1,
   "metadata": {
    "ExecuteTime": {
     "end_time": "2021-09-30T11:49:41.098110Z",
     "start_time": "2021-09-30T11:49:39.859827Z"
    }
   },
   "outputs": [],
   "source": [
    "import qcodes as qc\n",
    "import numpy as np\n",
    "import matplotlib.pyplot as plt\n",
    "from qcodes.data.data_set import load_data\n",
    "import scipy.signal as signal\n",
    "import scipy\n",
    "#from qcodes.plots.qcmatplotlib import MatPlot\n",
    "from qcodes.plots.pyqtgraph import QtPlot\n",
    "\n",
    "import numpy as np\n",
    "import matplotlib.pyplot as plt\n",
    "\n",
    "from scipy.interpolate import interp1d\n",
    "from scipy import integrate \n",
    "\n",
    "import math\n",
    "from lmfit import Model\n",
    "import qcodes.dataset.experiment_container as exc\n",
    "#from qcodes.dataset.plotting import plot_by_id, get_data_by_id, plot_dataset\n",
    "from qcodes.dataset.data_set import load_by_run_spec, load_by_id"
   ]
  },
  {
   "cell_type": "markdown",
   "metadata": {},
   "source": [
    "# Functions"
   ]
  },
  {
   "cell_type": "code",
   "execution_count": 2,
   "metadata": {
    "ExecuteTime": {
     "end_time": "2021-09-30T11:49:41.145815Z",
     "start_time": "2021-09-30T11:49:41.099103Z"
    },
    "code_folding": [
     0,
     27,
     44,
     147,
     177,
     242,
     259,
     269,
     316,
     338,
     365,
     370
    ]
   },
   "outputs": [],
   "source": [
    "def charge_data(id_1): # opens the data \n",
    "\t'''\n",
    "    Opens database experiment\n",
    "    Parameters\n",
    "    ----------\n",
    "    id_1: int.\n",
    "        database id.\n",
    "    Returns\n",
    "    -------\n",
    "    integer: 1d array.\n",
    "        number of trace\n",
    "    X: 2d array.\n",
    "         reflectometry traces in I.\n",
    "    Y: 2d array.\n",
    "         reflectometry traces in Q.\n",
    "    sweep: 1d array.\n",
    "        Trace time in us.\n",
    "    '''\n",
    "\n",
    "\tdataset=load_by_id(id_1)\n",
    "\n",
    "\tinteger=np.unique(dataset.get_parameter_data()[\"Distance\"][\"integer\"])\n",
    "\tX=(dataset.get_parameter_data()[\"I\"][\"I\"])\n",
    "\tY=(dataset.get_parameter_data()[\"Q\"][\"Q\"])\n",
    "\tsweep=(dataset.get_parameter_data()[\"RF_sweep\"][\"RF_sweep\"] )[0]\t \n",
    "\n",
    "\treturn integer,X, Y, sweep\n",
    "def moving_average(a, n=20) :\n",
    "\t'''\n",
    "    Moving average on array a\n",
    "    Parameters\n",
    "    ----------\n",
    "    a: 1d array.\n",
    "        array with data.\n",
    "    n: int.\n",
    "        length of the moving average. When n=20 a moving average is perform on array a every 20 points\n",
    "    Returns\n",
    "    -------\n",
    "    1d array.\n",
    "        moving average of array a\n",
    "    '''\n",
    "\tret = np.cumsum(a, dtype=float)\n",
    "\tret[n:] = ret[n:] - ret[:-n]\n",
    "\treturn ret[n - 1:] / n \n",
    "def IQ_plot(id_1,jupyter_name,sweep, X,Y,signal_start,signal_end, bg_start,bg_end):\n",
    "\t'''\n",
    "    Plots maximums over two different time intervals in the IQ plane from the traces taken.\n",
    "    Calculate the center of the signal and std for the maximums over both time intervals.\n",
    "    The first interval si a mixture between signal and background.\n",
    "    The second interval corresponds to only background since the bleep (spin up) has already happened.\n",
    "    Parameters\n",
    "    ----------\n",
    "    id_1: int.\n",
    "        database id.\n",
    "    integer: 1d array.\n",
    "        number of trace\n",
    "    jupyter_name: string.\n",
    "         title of the plot.\n",
    "    X: 2d array.\n",
    "         reflectometry traces in I.\n",
    "    Y: 2d array.\n",
    "         reflectometry traces in Q.\n",
    "    sweep: 1d array.\n",
    "        Trace time in us.\n",
    "    signal_start: float.\n",
    "        start of the first interval in us.\n",
    "    signal_end: float.\n",
    "        end of the first interval in us.\n",
    "    bg_start: float.\n",
    "        start of the second interval in us.\n",
    "    bg_end: float.\n",
    "        end of the second interval in us.\n",
    "    Returns\n",
    "    -------\n",
    "    maximum_X: float.\n",
    "        mean in I of the maximums during first interval.\n",
    "    maximum_Y: float.\n",
    "        mean in Q of the maximums during first interval.\n",
    "    background_X: float.\n",
    "        mean in I of the maximums during second interval.\n",
    "    background_Y: float.\n",
    "        mean in I of the maximums during second interval.\n",
    "    '''\n",
    "\tmaximum_X=np.zeros(len(X))\n",
    "\tmaximum_Y=np.zeros(len(X))\n",
    "\n",
    "\tbackground_X=np.zeros(len(X))\n",
    "\tbackground_Y=np.zeros(len(X))\n",
    "\n",
    "\tfor a in range(len(X)):\n",
    "\t\tminim= np.where(sweep>= signal_start)[0][0]\n",
    "\t\tmaxim= np.where(sweep>= signal_end)[0][0]\n",
    "\t\tmaximum_X[a]=X[a][minim:maxim].min()\n",
    "\t\tmaximum_Y[a]=Y[a][minim:maxim].max()\n",
    "\n",
    "\t\tminim= np.where(sweep>= bg_start)[0][0]\n",
    "\t\tmaxim= np.where(sweep>= bg_end)[0][0]\n",
    "\t\tbackground_X[a]=X[a][minim:maxim].min()\n",
    "\t\tbackground_Y[a]=Y[a][minim:maxim].max()\n",
    "\t\t\n",
    "\tfig_width_pt = 320.0  # Get this from LaTeX using \\showthe\\columnwidth\n",
    "\tinches_per_pt = 1.0/72.27\t\t\t\t# Convert pt to inch\n",
    "\tgolden_mean = (math.sqrt(5)-1.0)/2.0\t\t # Aesthetic ratio\n",
    "\tfig_width = fig_width_pt*inches_per_pt\t# width in inches\n",
    "\tfig_height = fig_width\t\t# height in inches\n",
    "\tfig_size =\t[fig_width,fig_height]\n",
    "\tplt.rcParams['legend.fontsize'] = 8\n",
    "\tplt.rcParams['figure.figsize'] = fig_size\n",
    "\t\t\n",
    "\tplt.axis(\"Equal\")\n",
    "\tplt.scatter(maximum_X,maximum_Y ,label=\"signal.max\",alpha=0.9,s=19)\n",
    "\tplt.scatter(background_X,background_Y,label=\"background.max\",alpha=0.3,s=10)\n",
    "\t\n",
    "\n",
    "\tplt.xlabel(\"I_max (V)\")\n",
    "\tplt.ylabel(\"Q_max (V)\")\n",
    "\tplt.title(str(id_1)+\" \"+str(jupyter_name))\n",
    "\n",
    "\tplt.legend()\n",
    "\n",
    "\t\t\n",
    "\ttheta = np.linspace(0, 2*np.pi, 100)\n",
    "\n",
    "\t\n",
    "\tstand_dev_maximum=0\n",
    "\t\n",
    "\tfor b in range(len(maximum_X)):\n",
    "\t\tstand_dev_maximum=stand_dev_maximum+np.sqrt((maximum_X[b]-np.mean(maximum_X))**2+(maximum_Y[b]-np.mean(maximum_Y))**2)\n",
    "\t\n",
    "\t\n",
    "\tr = stand_dev_maximum/len(maximum_X)\n",
    "\n",
    "\tcirclex = r*np.cos(theta)+np.mean(maximum_X)\n",
    "\tcircley= r*np.sin(theta)+np.mean(maximum_Y)\n",
    "\tplt.plot(circlex,circley,'k')\n",
    "\n",
    "\tstand_dev_off=0\n",
    "\tfor b in range(len(maximum_X)):\n",
    "\t\tstand_dev_off=stand_dev_off+np.sqrt((background_X[b]-np.mean(background_X))**2+(background_Y[b]-np.mean(background_Y))**2)\n",
    "\n",
    "\tr = stand_dev_off/len(maximum_X)\n",
    "\n",
    "\tcirclex = r*np.cos(theta)+np.mean(background_X)\n",
    "\tcircley= r*np.sin(theta)+np.mean(background_Y)\n",
    "\tplt.plot(circlex,circley,'k')\n",
    "\tplt.show()\n",
    "\treturn maximum_X,maximum_Y,background_X,background_Y \n",
    "def projection(integer,X, Y, sweep,angle):\n",
    "\t'''\n",
    "    projects IQ data into an axis\n",
    "    Parameters\n",
    "    ----------\n",
    "    integer: 1d array.\n",
    "        number of trace\n",
    "    X: 2d array.\n",
    "         reflectometry traces in I.\n",
    "    Y: 2d array.\n",
    "         reflectometry traces in Q.\n",
    "    sweep: 1d array.\n",
    "        Trace time in us.\n",
    "    angle: float.\n",
    "        angle in radians between I axis and axis in which the signal is going to be projected onto.\n",
    "    Returns\n",
    "    -------\n",
    "    projected: 2d array.\n",
    "        IQ traces projected to best angle.\n",
    "    projected1: 2d array.\n",
    "        IQ traces projected perpendicularly to best angle. \n",
    "    '''\n",
    "\tX=np.resize(X, (len(integer),len(sweep))) \n",
    "\tY=np.resize(Y, (len(integer),len(sweep)))\n",
    "\tprojected=np.zeros((len(integer),len(sweep)))\n",
    "\tprojected1=np.zeros((len(integer),len(sweep)))\n",
    "\tfor a in range(int(len(integer))):\n",
    "\t\tprojected[a]=X[a]*np.cos(angle)+Y[a]*np.sin(angle)\n",
    "\t\tprojected1[a]=-X[a]*np.sin(angle)+Y[a]*np.cos(angle)\n",
    "\treturn projected, projected1 # \n",
    "def model_fit1( datax, datay, function, title,xlabel,ylabel,plot, init={}, bounds={},**kwargs):\n",
    "\t'''\n",
    "    Fits data to any function\n",
    "    Parameters\n",
    "    ----------\n",
    "    datax: 1d array.\n",
    "        x- axis from the data to be fitted\n",
    "    datay: 1d array.\n",
    "        y- axis from the data to be fitted\n",
    "    function: python function\n",
    "         function to be fitted\n",
    "    title: string.\n",
    "        title of the plot.\n",
    "    xlabel: string.\n",
    "        xlabel of the plot.\n",
    "    ylabel: string.\n",
    "        ylabel of the plot.\n",
    "    plot: bool.\n",
    "        True to plot, False to dont plot\n",
    "    Returns\n",
    "    -------\n",
    "    out.best_values: 1d array.\n",
    "        value of the fitted parameters.\n",
    "    errors: 1d array.\n",
    "        std of the parameters fitted\n",
    "    '''\n",
    "\tfrom lmfit import Model\n",
    "\tgmodel = Model(function)\n",
    "\tparams = gmodel.make_params()\n",
    "\t\n",
    "\tfor param in init.keys():\n",
    "\t\tif param in params:\n",
    "\t\t\tparams[param].value = init[param]\n",
    "\n",
    "\tfor param in bounds.keys():\n",
    "\t\tif param in params:\n",
    "\t\t\tparams[param].min = init[param][0]\n",
    "\t\t\tparams[param].max = init[param][1]\n",
    "\t\n",
    "\tout = gmodel.fit(datay,params, x=datax,sigma=2, **kwargs)\n",
    "\tdely = out.eval_uncertainty(x=datax,sigma=2)\n",
    "  \n",
    "\n",
    "\tif plot:\n",
    "\t\tplt.xlabel(xlabel, {'color': 'k', 'fontsize': 15}, )\n",
    "\t\tplt.ylabel(ylabel, {'color': 'k', 'fontsize': 15})\n",
    "\t\tplt.xticks( color='k', size=12)\n",
    "\t\tplt.yticks( color='k', size=12)\n",
    "\t\tplt.title(\"Model \"+title,size=16)\n",
    "\t\tplt.plot(datax, out.best_fit, 'r-', label='best fit')\n",
    "\t\tplt.scatter(datax , datay)\n",
    "\t\t#plt.fill_between(datax , out.best_fit-dely, out.best_fit+dely,color=\"#ABABAB\",label='$\\sigma$ uncertainty band')\n",
    "\t\tplt.legend(loc='best')\n",
    "\n",
    "\t\tplt.show()\n",
    "  \n",
    "\tkeys=list(params.valuesdict().keys() )\n",
    "\n",
    "\terror = {}\n",
    "\tfor i in range(len(keys)):\n",
    "\t\ttry:\n",
    "\t\t  error[keys[i]+\"_std\"] = np.absolute(out.covar[i][i])**0.5\n",
    "\t\texcept:\n",
    "\t\t  error[keys[i]+\"_std\"] = 0\n",
    "\treturn out.best_values, error\n",
    "def gaussian_function(x, mu, sigma):\n",
    "\t'''\n",
    "    Gaussian function\n",
    "    Parameters\n",
    "    ----------\n",
    "    datax: 1d array.\n",
    "        x- axis from the data to be fitted\n",
    "    mu: float.\n",
    "        median of the gaussian\n",
    "    sigma: float.\n",
    "         standard deviation of the gaussian\n",
    "    Returns\n",
    "    -------\n",
    "    1d array.\n",
    "        Gaussian fucntion\n",
    "    '''\n",
    "\treturn 1/sigma/np.sqrt(2*np.pi)*np.exp(-1/2*((x-mu)/sigma)**2)\n",
    "def fourier_transf(I,acqtime ):\n",
    "    I=I-np.mean(I)\n",
    "    #plt.plot(I)\n",
    "    fourier = np.fft.fft(I)\n",
    "    n = I.size\n",
    "    timestep = 1/n*acqtime\n",
    "    freq = np.fft.fftfreq(n, d=timestep)\n",
    "    #plt.scatter(freq, fourier)\n",
    "    plt.xlabel(\"Frequency (Hz)\")\n",
    "    return freq[0:int(n/2)], fourier[0:int(n/2)]\n",
    "def simulate_ss_out(A,std_down,std_up ,signal_low,signal_high,t_int,t_out,t_in,t_max,n_points_time, plot_trace = 0):\n",
    "    #v2 + add T_out\n",
    "    \n",
    "    # time list \n",
    "    #n_points_time = 1952 #number of points\n",
    "    #t_max = 2000 #mus\n",
    "    t = np.array(np.linspace(0,t_max,n_points_time))\n",
    "    # Indexes of time during which we will take the max of the trace + for the bg\n",
    "    list_t = moving_average(t,t_int)\n",
    "    #minim_time= np.where(list_t>= 0)[0][0]\n",
    "    #maxim_time= np.where(list_t>= list_t.max())[0][0]\n",
    "    minim_time_bg= np.where(list_t>= 1460)[0][0]\n",
    "    maxim_time_bg= np.where(list_t>= 1860)[0][0]\n",
    "        \n",
    "    # assign spin\n",
    "    choose_spin = np.random.binomial(1,A,1) #create 1 with proba A and 0 with proba (1-A)\n",
    "    \n",
    "    if choose_spin == 1 : # spin down because A = <P_down>\n",
    "    # create a blip of spin down i.e. noise centred at signal_low and take the max\n",
    "        line_spindown = moving_average(np.random.normal(signal_low,std_down,n_points_time),t_int) \n",
    "        \n",
    "        \n",
    "        max_ss = np.max(line_spindown)\n",
    "        max_ss_bg = np.max(line_spindown[minim_time_bg:maxim_time_bg])\n",
    "        \n",
    "        if plot_trace == 1 :\n",
    "            plt.title('Spin down with Tint = %f, T_in = %f'%(t_int,t_in))\n",
    "            plt.plot(list_t,line_spindown)\n",
    "            plt.legend()\n",
    "            #plt.ylim((-0.05,0.25))\n",
    "            plt.grid()\n",
    "    \n",
    "    if choose_spin == 0 : #spin up\n",
    "    # create a blip of spin up and take the max\n",
    "        line_spinup =simple_ss_n_in_out(t, t_in, t_out,std_down, std_up,t_int,signal_low, signal_high)\n",
    "        #line_spinup = ss_n_in_out_scaled_2std(t,t_in,t_out,t_bw,std_down,std_up,t_int,signal_low,signal_high)\n",
    "        max_ss = np.max(line_spinup)\n",
    "        max_ss_bg = np.max(line_spinup[minim_time_bg:maxim_time_bg])\n",
    "        \n",
    "        if plot_trace == 1 :\n",
    "            plt.title('Spin up with Tint = %f, T_in = %f'%(t_int,t_in))\n",
    "            plt.plot(t_list,line_spinup)\n",
    "            plt.legend()\n",
    "            #plt.ylim((-0.05,0.25))\n",
    "            plt.grid()\n",
    "            \n",
    "    return(max_ss,max_ss_bg,choose_spin)  \n",
    "def simple_ss_n_in_out(t, t_in, t_out, std_low,std_high,t_int,signal_low =0, signal_high = 1):\n",
    "    ss_x=np.zeros(len(t))\n",
    "    \n",
    "    t_leave=np.random.exponential(t_out) #random t_out time\n",
    "    t_enter=np.random.exponential(t_in) #random t_in time\n",
    "    \n",
    "    i_leave = np.where(t<=t_leave)[0][-1]    \n",
    "    i_enter = np.where(t<=t_enter+t_leave)[0][-1]\n",
    "    \n",
    "    \n",
    "    ss_x[0:i_leave] = signal_low + np.random.normal(0,std_low,len(t[0:i_leave])) \n",
    "\n",
    "    if i_enter == i_leave : #means T_enter = 0\n",
    "        ss_x[i_leave:] =  signal_low + np.random.normal(0,std_low,len(t[i_leave:]))\n",
    "\n",
    "    else : \n",
    "        ss_x[i_leave:i_enter] = signal_high + np.random.normal(0,std_high,len(t[i_leave:i_enter]))\n",
    "        ss_x[i_enter:] = signal_low + np.random.normal(0,std_high,len(t[i_enter:])) #+1 to make it continuous]\n",
    "\n",
    "    # test another type of rolling avergae\n",
    "    ss_x = moving_average(ss_x,t_int)\n",
    "    return ss_x\n",
    "def histogram_data (data,Tint, number_bins =60, range_min = 0, range_max = 0.3):\n",
    "    x = np.array(data.maximum_distance)\n",
    "    y = np.array(data.maximum_bg)\n",
    "    \n",
    "    #make histogram\n",
    "    hist_max, bin_edges_max = np.histogram(x, bins=number_bins, range=(range_min,range_max))    \n",
    "    hist_max_bg, bin_edges_max_bg = np.histogram(y, bins=number_bins,range=(range_min,range_max) ) \n",
    "    \n",
    "    plt.figure()\n",
    "    plt.hist(x, bins=number_bins, range=(range_min,range_max),alpha = 0.7, label='signal')\n",
    "    #plt.hist(y, bins=number_bins, range=(range_min,range_max), alpha = 0.7,label='background' )\n",
    "    plt.title(\"histogram at Tint = %f us\" %Tint) \n",
    "    plt.show()\n",
    "    plt.legend()\n",
    "    #plt.savefig('1histogram.png')\n",
    "    \n",
    "    \n",
    "    #plt.figure()\n",
    "    plt.plot(get_inter_bins(bin_edges_max),hist_max, label='signal')\n",
    "    #plt.plot(get_inter_bins(bin_edges_max_bg),hist_max_bg,label ='background')\n",
    "    plt.legend()\n",
    "    plt.xlabel('Distance(V)')\n",
    "    plt.grid()\n",
    "    #plt.title('Tint = 2.5us')\n",
    "\n",
    "    return(get_inter_bins(bin_edges_max),hist_max,get_inter_bins(bin_edges_max_bg),hist_max_bg)\n",
    "# Create list with center of bin_edges so that we can plot the histogram as a curve \n",
    "def get_inter_bins(bins):\n",
    "    res = []\n",
    "    for i in range (len(bins)-1):\n",
    "        res.append( 1/2*(bins[i]+bins[i+1]))\n",
    "    return(res)\n",
    "def simulate_histogram_updown_Virginia(A,range_min,range_max,std_down,std_up, signal_low,signal_high,t_int,t_out,t_in,t_max,n_points_time,n_traces,num_bins = 60,plot_histo = 1):\n",
    "    #returns the histograms of spin up and down\n",
    "    \n",
    "    max_ss_up = []\n",
    "    max_ss_down = []\n",
    "    max_ss_bg = []\n",
    "\n",
    "    # Do many traces and get max\n",
    "    for i in range(n_traces):\n",
    "        ss_readout = simulate_ss_out(A,std_down,std_up,signal_low,signal_high,t_int,t_out,t_in,t_max,n_points_time, 0)\n",
    "\n",
    "        if ss_readout[2] == 1 : #choose_spin = 1 so spin is down\n",
    "            max_ss_down.append(ss_readout[0])\n",
    "            max_ss_bg.append(ss_readout[1])\n",
    "\n",
    "        if ss_readout[2] == 0 : #choose_spin = 0 so spin is up\n",
    "            max_ss_up.append(ss_readout[0])\n",
    "            max_ss_bg.append(ss_readout[1])\n",
    "        \n",
    "        #if i==np.int(n_traces/2):\n",
    "        #    print('Progress>50%')\n",
    "    \n",
    "    max_ss_up = np.array(max_ss_up)\n",
    "    max_ss_down = np.array(max_ss_down)\n",
    "    \n",
    "    ma = np.append(max_ss_up,max_ss_down)\n",
    "    max_ss_bg =np.array(max_ss_bg)\n",
    "    \n",
    "\n",
    "    hist_max_ss_up, bin_edges_max_ss_up = np.histogram(max_ss_up,bins=num_bins,range = (range_min,range_max))    \n",
    "    hist_max_ss_down, bin_edges_max_ss_down = np.histogram(max_ss_down, bins=num_bins,range=(range_min,range_max) )\n",
    "\n",
    "    print('number of traces for bg =',len(max_ss_bg),'number of up traces =',len(max_ss_up))\n",
    "    if plot_histo == 1:\n",
    "        # Plot the histogram \n",
    "        plt.hist(max_ss_up,bins=num_bins,range = (range_min,range_max), label = 'spin up', alpha = 0.5)  \n",
    "        plt.hist(max_ss_down,bins=num_bins,range = (range_min,range_max), label = 'spin down', alpha = 0.5)\n",
    "        plt.xlabel(\"Signal\")\n",
    "        plt.ylabel(\"Probability\")\n",
    "        plt.title('Simulated histogram')\n",
    "        print('Parameters for the simulation :')\n",
    "        print('T_int = %f us, T_in = %f us, T_out = %f us, T_bw = %f us' %(t_int,t_in,t_out,t_bw))\n",
    "        print('A = %f, std = %f'%(A,std))\n",
    "        plt.legend()\n",
    "        plt.show()\n",
    "        #plt.savefig('1histogram.png')\n",
    "\n",
    "\n",
    "    #return(get_inter_bins(bin_edges_max_ss),hist_max_ss,ma)\n",
    "    return(get_inter_bins(bin_edges_max_ss_up),hist_max_ss_up,get_inter_bins(bin_edges_max_ss_down),hist_max_ss_down)\n",
    "\n",
    "def fidelity_Virginia(threshold_signal, A, range_min,range_max,std_down,std_up, signal_low,signal_high,t_int,t_out,t_in,t_max,n_points_time,n_traces,num_bins = 60,plot_histo = 1, plot_distrib=0):\n",
    "    print(t_int)\n",
    "    res = simulate_histogram_updown_Virginia(A,range_min,range_max,std_bg,std_up, signal_low,signal_high,t_int,t_out,t_in,t_max,n_points_time,n_traces,num_bins , plot_histo)\n",
    "    \n",
    "    histo_up = (res[0],res[1])\n",
    "    histo_down = (res[2],res[3])\n",
    "    \n",
    "    #plot_distrib = 0\n",
    "    if plot_distrib == 1:\n",
    "        # -----------------------\n",
    "        plt.plot(histo_up[0], histo_up[1],label='spin up signal')\n",
    "        plt.plot(histo_down[0], histo_down[1],label='spin down signal')\n",
    "\n",
    "\n",
    "        # Caption\n",
    "        #------------------------\n",
    "        plt.legend()\n",
    "        plt.xlabel(\"Signal\")\n",
    "        plt.ylabel(\"Probability\")\n",
    "        plt.title('Simulated histogram Tin=%f'%t_in)\n",
    "        #plt.savefig('2_histogram_Tin=%f.png'%t_in)\n",
    "\n",
    "    f_hist_up = interp1d(histo_up[0], histo_up[1],kind='cubic')\n",
    "    f_hist_down = interp1d(histo_down[0], histo_down[1],kind='cubic')\n",
    "    \n",
    "    def f_total(x):\n",
    "        return(f_hist_up(x)+f_hist_down(x))\n",
    "    \n",
    "    fidelity_up = []\n",
    "    fidelity_down = []\n",
    "    fidelity_error = []\n",
    "    \n",
    "    if type(threshold_signal)==np.ndarray or type(threshold_signal)==list:\n",
    "        for signal in threshold_signal:\n",
    "            integ_up = integrate.quad(f_hist_up, np.min(histo_up[0]), signal)\n",
    "            integ_down = integrate.quad(f_hist_down, signal, np.max(histo_down[0]))\n",
    "\n",
    "            #integ_total = integrate.quad(f_total, range_min, range_max)\n",
    "            integ_total = np.array(integrate.quad(f_hist_up, np.min(histo_up[0]), np.max(histo_up[0]))) + np.array(integrate.quad(f_hist_down,  np.min(histo_down[0]),  np.max(histo_down[0])))\n",
    "\n",
    "            #print(integ_total)\n",
    "            error_total_integral = np.abs((histo_up[0][2]-histo_up[0][1])*n_traces - integ_total[0])\n",
    "            \n",
    "            fidelity_up.append(1-integ_up[0]/integ_total[0])\n",
    "            fidelity_down.append(1-integ_down[0]/integ_total[0])\n",
    "            fidelity_error.append(error_total_integral)\n",
    "            \n",
    "        return(fidelity_down,fidelity_up,fidelity_error)\n",
    "\n",
    "    \n",
    "    elif type(threshold_signal)==float or type(threshold_signal)==int:\n",
    "        integ_up = integrate.quad(f_hist_up, np.min(histo_up[0]), signal)\n",
    "        integ_down = integrate.quad(f_hist_down, signal, np.max(histo_down[0]))\n",
    "\n",
    "        #integ_total = integrate.quad(f_total, range_min, range_max)\n",
    "        integ_total = np.array(integrate.quad(f_hist_up, np.min(histo_up[0]), np.max(histo_up[0]))) + np.array(integrate.quad(f_hist_down,  np.min(histo_down[0]),  np.max(histo_down[0])))\n",
    "\n",
    "        #print(integ_total)\n",
    "        error_total_integral = np.abs((histo_up[0][2]-histo_up[0][1])*n_traces - integ_total[0])\n",
    "           \n",
    "        return(1-integ_down[0]/integ_total[0],1-integ_up[0]/integ_total[0],error_total_integral)"
   ]
  },
  {
   "cell_type": "code",
   "execution_count": 3,
   "metadata": {
    "ExecuteTime": {
     "end_time": "2021-09-30T11:49:41.161760Z",
     "start_time": "2021-09-30T11:49:41.146811Z"
    },
    "code_folding": [
     1,
     27,
     92
    ]
   },
   "outputs": [],
   "source": [
    "# perform a fit using lmfit given inital values and bounds\n",
    "def fit(x, y, func, init={}, bounds={}, fixed = {}, steps = {}, step_size = 1e-7):\n",
    "    \n",
    "    gmodel = Model(func)\n",
    "    params = gmodel.make_params()\n",
    "    \n",
    "    for param in fixed.keys():\n",
    "        if param in params:\n",
    "            params[param].set(fixed[param],vary=False)\n",
    "    \n",
    "    for param in init.keys():\n",
    "        if param in params:\n",
    "            params[param].value = init[param]\n",
    "\n",
    "    for param in bounds.keys():\n",
    "        if param in params:\n",
    "            params[param].min = bounds[param][0]\n",
    "            params[param].max = bounds[param][1]\n",
    "    \n",
    "    for param in steps.keys():\n",
    "        if param in params:\n",
    "            params[param].set(brute_step=steps[param])\n",
    "    \n",
    "            \n",
    "    #return gmodel.fit(y, params, x=x,method='brute')\n",
    "    return (gmodel.fit(y, params, x=x, fit_kws = {'epsfcn':step_size}))\n",
    "\n",
    "def simulate_histogram_out(A,range_min,range_max,std_down,std_up, signal_low,signal_high,t_int,t_out,t_in,t_max,n_points_time,n_traces,num_bins = 60,plot_histo = 1): \n",
    "    max_ss_up = []\n",
    "    max_ss_down = []\n",
    "    max_ss_bg = []\n",
    "\n",
    "    # Do many traces and get max\n",
    "    for i in range(n_traces):\n",
    "        \n",
    "        # Plot the traces for the first 5 traces \n",
    "        #if i<5 :\n",
    "        #    ss_readout = simulate_ss_out(A,std_down,signal_low,signal_high,t_int,t_out,t_in,t_max,n_points_time, 1)\n",
    "\n",
    "        #else :\n",
    "        ss_readout = simulate_ss_out(A,std_down,std_up,signal_low,signal_high,t_int,t_out,t_in,t_max,n_points_time, 0)\n",
    "            \n",
    "        if ss_readout[2] == 1 : #choose_spin = 1 so spin is down\n",
    "            max_ss_down.append(ss_readout[0])\n",
    "            max_ss_bg.append(ss_readout[1])\n",
    "\n",
    "        if ss_readout[2] == 0 : #choose_spin = 0 so spin is up\n",
    "            max_ss_up.append(ss_readout[0])\n",
    "            max_ss_bg.append(ss_readout[1])\n",
    "        \n",
    "        #if i==np.int(n_traces/2):\n",
    "        #    print('Progress>50%')\n",
    "    \n",
    "    ma = np.append(np.array(max_ss_up),np.array(max_ss_down))\n",
    "    max_ss_bg = np.array(max_ss_bg)\n",
    "\n",
    "\n",
    "    hist_max_ss, bin_edges_max_ss = np.histogram(ma,bins=num_bins,range = (range_min,range_max))    \n",
    "    hist_max_ss_bg, bin_edges_max_ss_bg = np.histogram(max_ss_bg, bins=num_bins,range=(range_min,range_max) )\n",
    "    \n",
    "    bin_axis_ss= bin_edges_max_ss[0:-1]+( bin_edges_max_ss[1]- bin_edges_max_ss[0])/2\n",
    "    normalisation=( bin_edges_max_ss[1]- bin_edges_max_ss[0])*n_traces\n",
    "    \n",
    "    \n",
    "    #print('number of traces for bg =',len(max_ss_bg),'number of up traces =',len(max_ss_up))\n",
    "    if plot_histo == 1:\n",
    "        # Plot the histogram \n",
    "        plt.figure()\n",
    "        plt.hist(ma,bins=num_bins,label='total', alpha = 0.6,range = (range_min,range_max))\n",
    "        plt.hist(max_ss_bg,bins=num_bins ,label='background', alpha = 0.5,range = (range_min,range_max))\n",
    "        plt.xlabel(\"Signal\")\n",
    "        plt.ylabel(\"Probability\")\n",
    "        plt.title('Simulated histogram')\n",
    "        print('Parameters for the simulation :')\n",
    "        print('T_int = %f us, T_in = %f us, T_out = %f us' %(t_int,t_in,t_out))\n",
    "        print('A = %f, std = %f'%(A,std_down))\n",
    "        plt.legend()\n",
    "        plt.show()\n",
    "        #plt.savefig('1histogram.png')\n",
    "\n",
    "        #Plot the histogram as lines \n",
    "        plt.title('Simulated histogram as lines')\n",
    "        plt.plot(get_inter_bins(bin_edges_max_ss),hist_max_ss, label='signal')\n",
    "        plt.plot(get_inter_bins(bin_edges_max_ss_bg),hist_max_ss_bg,label ='background')\n",
    "        plt.legend()\n",
    "        plt.xlabel('Distance(V)')\n",
    "        plt.grid()\n",
    "        #plt.title('Tint = 2.5us')\n",
    "\n",
    "    return(bin_axis_ss,hist_max_ss/normalisation)\n",
    "\n",
    "\n",
    "def fit_histogram_v2(x,A,range_min,range_max,std_low, std_up,signal_low,signal_high,t_int,t_out,t_in,t_max,n_points_time,n_traces,num_bins = 60, plot_histo = 0):\n",
    "    #interpolate the histogram after generating it\n",
    "    \n",
    "    #print('x=',x)\n",
    "    #print('signal_high=',signal_high)\n",
    "    #print(\"std_up\",std_up)\n",
    "    #print(\"A\",A)\n",
    "    (inter_bin_simu, hist_max_simu) =  simulate_histogram_out(A,range_min,range_max,std_low,std_up, signal_low,signal_high,t_int,t_out,t_in,t_max,n_points_time,n_traces,num_bins ,plot_histo  )\n",
    "    f_hist_inter = interp1d(inter_bin_simu, hist_max_simu, kind='cubic')\n",
    "    \n",
    "    return(f_hist_inter(x))"
   ]
  },
  {
   "cell_type": "code",
   "execution_count": 4,
   "metadata": {
    "ExecuteTime": {
     "end_time": "2021-09-30T11:49:41.177708Z",
     "start_time": "2021-09-30T11:49:41.162752Z"
    },
    "code_folding": []
   },
   "outputs": [],
   "source": [
    "def simple_ss_n_in_out_sim(t, t_in, t_out, std_low, std_up, signal_low =0, signal_high = 1):\n",
    "    ss_x=np.zeros(len(t))\n",
    "    \n",
    "    t_leave=np.random.exponential(t_out) #random t_out time\n",
    "    t_enter=np.random.exponential(t_in) #random t_in time\n",
    "    \n",
    "    i_leave = np.where(t<=t_leave)[0][-1]    \n",
    "    i_enter = np.where(t<=t_enter+t_leave)[0][-1]\n",
    "    \n",
    "    \n",
    "    ss_x[0:i_leave] = signal_low + np.random.normal(0,std_low,len(t[0:i_leave])) \n",
    "\n",
    "    if i_enter == i_leave : #means T_enter = 0\n",
    "        ss_x[i_leave:] =  signal_low + np.random.normal(0,std_low,len(t[i_leave:]))\n",
    "\n",
    "    else : \n",
    "        ss_x[i_leave:i_enter] = signal_high + np.random.normal(0,std_low,len(t[i_leave:i_enter]))\n",
    "        ss_x[i_enter:] = signal_low + np.random.normal(0,std_low,len(t[i_enter:])) #+1 to make it continuous]\n",
    "\n",
    "    # test another type of rolling avergae\n",
    "   # ss_x = moving_average(ss_x,t_int)\n",
    "    return ss_x\n",
    "\n",
    "\n",
    "\n",
    "def simulate_distance(A,std_down,std_up ,signal_low,signal_high,t_out,t_in,n_points_time, n_traces,sweep):\n",
    "    ss = []\n",
    "    spin_number=np.empty(0)\n",
    "    \n",
    "    for i in range(n_traces):\n",
    "        choose_spin = np.random.binomial(1,A,1) #create 1 with proba A and 0 with proba (1-A)\n",
    "        spin_number = np.append(spin_number, choose_spin)\n",
    "        \n",
    "        if choose_spin == 1 : # spin down because A = <P_down>\n",
    "        # create a blip of spin down i.e. noise centred at signal_low and take the max\n",
    "            line_spin_down = signal_low + np.random.normal(0,std_down,n_points_time)\n",
    "            ss.append(line_spin_down )\n",
    "            \n",
    "            \n",
    "        if choose_spin == 0 : #spin up\n",
    "        # create a blip of spin up and take the max\n",
    "            line_spin_up =simple_ss_n_in_out_sim(sweep, t_in, t_out,std_down, std_up,signal_low, signal_high)\n",
    "            \n",
    "            ss.append( line_spin_up )\n",
    "            \n",
    "    ss=np.array(ss)\n",
    "    return(ss,spin_number)  "
   ]
  },
  {
   "cell_type": "markdown",
   "metadata": {},
   "source": [
    "#  Open data"
   ]
  },
  {
   "cell_type": "code",
   "execution_count": 5,
   "metadata": {
    "ExecuteTime": {
     "end_time": "2021-09-30T11:49:44.288200Z",
     "start_time": "2021-09-30T11:49:44.271306Z"
    }
   },
   "outputs": [],
   "source": [
    "# load database\n",
    "qc.config.core.db_location = './fidelity_vs_power_readout-0.01112.db' \n",
    "#qc.config.core.db_location = './fidelity_vs_readout_pos.db' "
   ]
  },
  {
   "cell_type": "code",
   "execution_count": 6,
   "metadata": {
    "ExecuteTime": {
     "end_time": "2021-09-30T11:50:09.300890Z",
     "start_time": "2021-09-30T11:49:47.433030Z"
    }
   },
   "outputs": [],
   "source": [
    "# open data\n",
    "id_1=2\n",
    "integer,X, Y,  sweep=charge_data(id_1)\n"
   ]
  },
  {
   "cell_type": "code",
   "execution_count": 7,
   "metadata": {
    "ExecuteTime": {
     "end_time": "2021-09-30T11:50:09.316785Z",
     "start_time": "2021-09-30T11:50:09.301814Z"
    }
   },
   "outputs": [
    {
     "data": {
      "text/plain": [
       "10001"
      ]
     },
     "execution_count": 7,
     "metadata": {},
     "output_type": "execute_result"
    }
   ],
   "source": [
    "len(X)"
   ]
  },
  {
   "cell_type": "markdown",
   "metadata": {},
   "source": [
    "## project on IQ plane"
   ]
  },
  {
   "cell_type": "code",
   "execution_count": 8,
   "metadata": {
    "ExecuteTime": {
     "end_time": "2021-09-30T11:50:09.601828Z",
     "start_time": "2021-09-30T11:50:09.317777Z"
    }
   },
   "outputs": [
    {
     "name": "stdout",
     "output_type": "stream",
     "text": [
      "1952\n"
     ]
    }
   ],
   "source": [
    "## Increase integration time to better determine the angle in the IQ plane\n",
    "# create new arrays\n",
    "factor = 41 # factor*T_int_original=Tint\n",
    "\n",
    "X_40=np.zeros((len(X),len(moving_average(Y[0], factor))))\n",
    "Y_40=np.zeros((len(X),len(moving_average(Y[0], factor))))\n",
    "\n",
    "acquisition_time=2000 # time of the trace in us\n",
    "number_points=len(sweep) # number of points in the trace\n",
    "print(number_points)\n",
    "T_int_original=acquisition_time/number_points # original integration time (1us)\n",
    "T_int=factor*T_int_original # new integration time\n",
    "\n",
    "\n",
    "# new I and Q with moving averaged\n",
    "X_40=np.zeros((len(X),len(moving_average(Y[0], factor))))\n",
    "Y_40=np.zeros((len(X),len(moving_average(Y[0],factor))))\n",
    "sweep_40=np.zeros(len(moving_average(Y[0], factor)))\n",
    "\n",
    "\n",
    "for a in range(len(X)):\n",
    "    X_40[a]=moving_average(X[a], factor)\n",
    "    Y_40[a]=moving_average(Y[a], factor)\n",
    "sweep_40=moving_average(sweep, factor)\n",
    "\n"
   ]
  },
  {
   "cell_type": "code",
   "execution_count": 9,
   "metadata": {
    "ExecuteTime": {
     "end_time": "2021-09-30T11:50:10.326324Z",
     "start_time": "2021-09-30T11:50:09.602822Z"
    }
   },
   "outputs": [
    {
     "data": {
      "image/png": "[encoded data removed]",
      "text/plain": [
       "<Figure size 318.804x318.804 with 1 Axes>"
      ]
     },
     "metadata": {
      "needs_background": "light"
     },
     "output_type": "display_data"
    }
   ],
   "source": [
    "# plot of the maximums IQ plane for different traces during the time segment between\n",
    "#signal_start-signal end (blue)- mixture of signal and background maximums,\n",
    "#and bg_start-bg_end(orange)- mostly only the maximum of the background since the bleep should already have ocurred\n",
    "\n",
    "%matplotlib inline\n",
    "\n",
    "\n",
    "title=\"B_voltage=0.123\"\n",
    "signal_start=0  # in us\n",
    "signal_end=400  # \n",
    "\n",
    "bg_start=1460\n",
    "bg_end=1860\n",
    "\n",
    "# IQ_plot: get the max of X and Y for signal and bg time window. The circles are centred at the mean and radius = std\n",
    "\n",
    "X_signal, Y_signal, X_bg, Y_bg=IQ_plot(str(id_1),title, sweep_40,X_40,Y_40,signal_start,signal_end, bg_start,bg_end) # maximum of the signal"
   ]
  },
  {
   "cell_type": "code",
   "execution_count": 10,
   "metadata": {
    "ExecuteTime": {
     "end_time": "2021-09-30T11:50:10.595391Z",
     "start_time": "2021-09-30T11:50:10.327211Z"
    }
   },
   "outputs": [],
   "source": [
    "# finds the angle called theta between the X axis and the line between the center of the orange and blue circles.\n",
    "#In our case is not between 90 and -90 so we have to add np.pi\n",
    "\n",
    "angle=np.arctan((np.mean(Y_signal)-np.mean(Y_bg) )/(np.mean(X_signal)-np.mean(X_bg) ) )+np.pi\n",
    "\n",
    "distance, rubbish=projection(integer,X_40, Y_40,  sweep_40, angle)"
   ]
  },
  {
   "cell_type": "code",
   "execution_count": 11,
   "metadata": {
    "ExecuteTime": {
     "end_time": "2021-09-30T11:50:10.611409Z",
     "start_time": "2021-09-30T11:50:10.596384Z"
    }
   },
   "outputs": [
    {
     "data": {
      "text/plain": [
       "1.7231561940480011"
      ]
     },
     "execution_count": 11,
     "metadata": {},
     "output_type": "execute_result"
    }
   ],
   "source": [
    "angle"
   ]
  },
  {
   "cell_type": "markdown",
   "metadata": {
    "ExecuteTime": {
     "end_time": "2021-08-22T10:23:31.810816Z",
     "start_time": "2021-08-22T10:23:31.798895Z"
    }
   },
   "source": [
    "# distance integration time 1"
   ]
  },
  {
   "cell_type": "code",
   "execution_count": 12,
   "metadata": {
    "ExecuteTime": {
     "end_time": "2021-09-30T11:50:10.911528Z",
     "start_time": "2021-09-30T11:50:10.612405Z"
    }
   },
   "outputs": [],
   "source": [
    "\n",
    "distance, rubbish=projection(integer,X, Y,  sweep, angle)"
   ]
  },
  {
   "cell_type": "code",
   "execution_count": 13,
   "metadata": {
    "ExecuteTime": {
     "end_time": "2021-09-30T11:50:10.926655Z",
     "start_time": "2021-09-30T11:50:10.912521Z"
    }
   },
   "outputs": [],
   "source": [
    "#np.savez('./compressed-traces-JPA-off-2.npz', distance)"
   ]
  },
  {
   "cell_type": "code",
   "execution_count": 14,
   "metadata": {
    "ExecuteTime": {
     "end_time": "2021-09-30T11:50:10.942162Z",
     "start_time": "2021-09-30T11:50:10.927662Z"
    }
   },
   "outputs": [],
   "source": [
    "\n",
    "#distance=np.load('./JPA_off_traces_simulated-2.npz')['sim_distance']\n"
   ]
  },
  {
   "cell_type": "code",
   "execution_count": 15,
   "metadata": {
    "ExecuteTime": {
     "end_time": "2021-09-30T11:50:10.957731Z",
     "start_time": "2021-09-30T11:50:10.944154Z"
    }
   },
   "outputs": [],
   "source": [
    "#plt.plot(file['arr_0'][5])"
   ]
  },
  {
   "cell_type": "markdown",
   "metadata": {},
   "source": [
    "##  calculate parameters"
   ]
  },
  {
   "cell_type": "code",
   "execution_count": 16,
   "metadata": {
    "ExecuteTime": {
     "end_time": "2021-09-30T11:50:10.972992Z",
     "start_time": "2021-09-30T11:50:10.958667Z"
    }
   },
   "outputs": [],
   "source": [
    "# parameters to be extracted\n",
    "signal_parameters={\n",
    "  \"mean_bg\": 0,\n",
    "  \"std_bg\": 0,\n",
    "  \"mean_up\": 0,\n",
    "  \"std_up\": 0,\n",
    "  \"t_int\": 0,\n",
    "  \"t_out\": 0,\n",
    "}\n",
    "\n",
    "signal_parameters_fit={\n",
    "  \"mean_bg\": 0,\n",
    "  \"std_bg\": 0,\n",
    "  \"mean_up\": 0,\n",
    "  \"std_up\": 0,\n",
    "  \"t_int\": 0,\n",
    "  \"t_out\": 0,\n",
    "}"
   ]
  },
  {
   "cell_type": "markdown",
   "metadata": {},
   "source": [
    "###  on t_int and t_out\n",
    "\n",
    "where t_out is the time that it takes for the electron to leave the dot (time before the bleep)\n",
    "\n",
    "t_in time that the electron takes to come back to the dot (bleep duration)"
   ]
  },
  {
   "cell_type": "code",
   "execution_count": 17,
   "metadata": {
    "ExecuteTime": {
     "end_time": "2021-09-30T11:50:11.115649Z",
     "start_time": "2021-09-30T11:50:10.974066Z"
    }
   },
   "outputs": [
    {
     "name": "stdout",
     "output_type": "stream",
     "text": [
      "1952\n"
     ]
    }
   ],
   "source": [
    "## Increase integration time to better determine the angle in the IQ plane\n",
    "# create new arrays\n",
    "factor = 20 # factor*T_int_original=Tint\n",
    "#sweep=np.linspace(0,2000,len(distance[0]))\n",
    "\n",
    "distance_40=np.zeros((len(distance),len( moving_average(distance[0], factor))))\n",
    "\n",
    "\n",
    "acquisition_time=2000 # time of the trace in us\n",
    "number_points=len(sweep) # number of points in the trace\n",
    "print(number_points)\n",
    "T_int_original=acquisition_time/number_points # original integration time (1us)\n",
    "T_int=factor*T_int_original # new integration time\n",
    "\n",
    "# new I and Q with moving averaged\n",
    "distance_40=np.zeros((len(distance),len(moving_average(distance[0], factor))))\n",
    "sweep_40=np.zeros(len(moving_average(distance[0], factor)))\n",
    "\n",
    "\n",
    "for a in range(len(distance)):\n",
    "    distance_40[a]=moving_average(distance[a], factor)\n",
    "sweep_40=moving_average(sweep, factor)\n"
   ]
  },
  {
   "cell_type": "markdown",
   "metadata": {},
   "source": [
    "####  histogram of the maximums"
   ]
  },
  {
   "cell_type": "code",
   "execution_count": 20,
   "metadata": {
    "ExecuteTime": {
     "end_time": "2021-09-30T11:50:47.036723Z",
     "start_time": "2021-09-30T11:50:46.835779Z"
    }
   },
   "outputs": [],
   "source": [
    "maximum=np.zeros(len(distance)) # trace maximum during first 400 us\n",
    "max_background_distance=np.zeros(len(distance)) # trace maximum during last 400 us\n",
    "\n",
    "for a in range(len(distance)):\n",
    "    minim= np.where(sweep_40>= 0)[0][0]\n",
    "    maxim= np.where(sweep_40>= sweep_40.max())[0][0]\n",
    "\n",
    "    \n",
    "    \n",
    "    maximum[a]=distance_40[a][minim:maxim].max()\n",
    "    \n",
    "    minim= np.where(sweep_40>= 1460)[0][0]\n",
    "    maxim= np.where(sweep_40>= 1860)[0][0]\n",
    "\n",
    "    \n",
    "    max_background_distance[a]=(distance_40[a][minim:maxim]).max()\n",
    "    \n",
    "# create histogram for the maximums  \n",
    "hist_max, bin_edges_max = np.histogram(maximum, bins=60,range=(maximum.min(),maximum.max()))    \n",
    "hist_max_bg, bin_edges_max_bg = np.histogram(max_background_distance, bins=60,range=(maximum.min(),maximum.max()))   \n"
   ]
  },
  {
   "cell_type": "code",
   "execution_count": 21,
   "metadata": {
    "ExecuteTime": {
     "end_time": "2021-09-30T11:50:47.551377Z",
     "start_time": "2021-09-30T11:50:47.399369Z"
    }
   },
   "outputs": [
    {
     "data": {
      "text/plain": [
       "Text(0, 0.5, 'histogram')"
      ]
     },
     "execution_count": 21,
     "metadata": {},
     "output_type": "execute_result"
    },
    {
     "data": {
      "image/png": "[encoded data removed]",
      "text/plain": [
       "<Figure size 432x288 with 1 Axes>"
      ]
     },
     "metadata": {
      "needs_background": "light"
     },
     "output_type": "display_data"
    }
   ],
   "source": [
    "%matplotlib inline \n",
    "\n",
    "\n",
    "bin_axis=bin_edges_max[0:-1]+(bin_edges_max[1]-bin_edges_max[0])/2\n",
    "normalisation=10000*(bin_edges_max[1]-bin_edges_max[0])\n",
    "plt.bar(bin_axis, hist_max/normalisation, width=bin_edges_max[1]-bin_edges_max[0],label=\"background\",alpha=0.5)\n",
    "plt.plot(bin_axis, hist_max/normalisation)\n",
    "#Tin=factor*2.5\n",
    "Tin = T_int\n",
    "plt.title(\"maximum\"+str(id_1)+\" Tin=\"+str(Tin)+\" us\" +\" 14_long_tunneling\")\n",
    "plt.legend()\n",
    "\n",
    "plt.xlabel(\"distance (V)\")\n",
    "plt.ylabel(\"histogram\")"
   ]
  },
  {
   "cell_type": "markdown",
   "metadata": {},
   "source": [
    "### JPA  plot traces 10us Tint"
   ]
  },
  {
   "cell_type": "code",
   "execution_count": 65,
   "metadata": {
    "ExecuteTime": {
     "end_time": "2021-09-30T11:42:16.683477Z",
     "start_time": "2021-09-30T11:42:16.403490Z"
    }
   },
   "outputs": [
    {
     "name": "stderr",
     "output_type": "stream",
     "text": [
      "C:\\Users\\virgi\\AppData\\Local\\Temp/ipykernel_15324/3104885129.py:29: MatplotlibDeprecationWarning: savefig() got unexpected keyword argument \"rasterized\" which is no longer supported as of 3.3 and will become an error two minor releases later\n",
      "  plt.savefig(\"JPA_OFF_TRACES.pdf\",dpi=600, bbox_inches = \"tight\", rasterized='True')\n"
     ]
    },
    {
     "data": {
      "image/png": "[encoded data removed]",
      "text/plain": [
       "<Figure size 239.103x147.774 with 1 Axes>"
      ]
     },
     "metadata": {
      "needs_background": "light"
     },
     "output_type": "display_data"
    }
   ],
   "source": [
    "# plots 2 traces to compare spin up and down already projected\n",
    "fig_width_pt = 240.0  # Get this from LaTeX using \\showthe\\columnwidth\n",
    "inches_per_pt = 1.0/72.27\t\t\t\t# Convert pt to inch\n",
    "golden_mean = (math.sqrt(5)-1.0)/2.0\t\t # Aesthetic ratio\n",
    "fig_width = fig_width_pt*inches_per_pt\t# width in inches\n",
    "fig_height = fig_width*golden_mean\t\t# height in inches\n",
    "fig_size =\t[fig_width,fig_height]\n",
    "plt.rcParams['legend.fontsize'] = 8\n",
    "plt.rcParams['figure.figsize'] = fig_size\n",
    "plt.xlim((sweep_40.min(), sweep_40.max()))\n",
    "\n",
    "#plt.ylim((y.min(), y.max())) \n",
    "plt.xlabel(\"Time ($\\mu s$) \", {'color': 'k', 'fontsize': 14})\n",
    "plt.ylabel(\"rf signal (V)\", {'color': 'k', 'fontsize': 14})\n",
    "plt.xticks( color='k', size=12)\n",
    "plt.yticks( color='k', size=12)\n",
    "#plt.ylim(0,30)\n",
    "\n",
    "\n",
    "plt.title(\"Single shot traces\",size=16)\n",
    "#plt.plot(datax, out.best_fit, 'r-', label='best fit')\n",
    "plt.scatter(sweep_40,distance_40[107],color=(120/255,120/255,120/255), marker='.',s=7, label=r'$ \\uparrow$' )\n",
    "plt.scatter(sweep_40,distance_40[300],color= (255/255,66/255,66/255),marker='.',s=7, label=r'$ \\downarrow$' )\n",
    "#plt.legend(loc=1, fontsize=10)\n",
    "\n",
    "\n",
    "\n",
    "\n",
    "plt.savefig(\"JPA_OFF_TRACES.pdf\",dpi=600, bbox_inches = \"tight\", rasterized='True')\n",
    "\n"
   ]
  },
  {
   "cell_type": "code",
   "execution_count": 66,
   "metadata": {
    "ExecuteTime": {
     "end_time": "2021-09-30T11:42:17.353590Z",
     "start_time": "2021-09-30T11:42:17.266692Z"
    }
   },
   "outputs": [],
   "source": [
    "## choose a threshold above which it's consider a bleep\n",
    "t_thershold=-2.53\n",
    "\n",
    "# select window for t_int\n",
    "minim= np.where(sweep_40>= 40)[0][0]\n",
    "maxim= np.where(sweep_40>= 300)[0][0]\n",
    "\n",
    "t_in=np.zeros(len(distance)) # bleep duration\n",
    "t_out=np.zeros(len(distance)) # times at which bleep starts\n",
    "\n",
    "for a in range(len(distance)):\n",
    "    \n",
    "    if np.any(distance_40[a][minim:maxim]>= t_thershold):\n",
    "        out = np.where(distance_40[a][minim:maxim]>= t_thershold)[0][0] # smallest time at which the signal is above the threshold\n",
    "        t_out[a]=sweep_40[out+minim]\n",
    "        inside = np.where(distance_40[a][minim:maxim]>=t_thershold)[0][-1] # last time at which signal is above the threshold\n",
    "        t_in[a]=sweep_40[inside+minim]-t_out[a] # t_in= last point of the bllep- first point of the bleep\n",
    "        \n",
    "t_in = np.delete(t_in, np.where(t_in== 0)[0])\n",
    "t_out = np.delete(t_out, np.where(t_out== 0)[0])\n",
    "hist_in,bin_edges_in= np.histogram(t_in, bins=60,range=(t_in.min(),(t_in).max()))\n",
    "hist_out,bin_edges_out= np.histogram(t_out, bins=60,range=(t_out.min(),(t_out).max()))"
   ]
  },
  {
   "cell_type": "code",
   "execution_count": 67,
   "metadata": {
    "ExecuteTime": {
     "end_time": "2021-09-30T11:42:18.022877Z",
     "start_time": "2021-09-30T11:42:17.931158Z"
    }
   },
   "outputs": [
    {
     "name": "stderr",
     "output_type": "stream",
     "text": [
      "c:\\users\\virgi\\anaconda3\\envs\\qcodes\\lib\\site-packages\\lmfit\\model.py:968: UserWarning: The keyword argument sigma does not match any arguments of the model function. It will be ignored.\n",
      "  warnings.warn(\"The keyword argument %s does not \" % name +\n"
     ]
    },
    {
     "data": {
      "image/png": "[encoded data removed]",
      "text/plain": [
       "<Figure size 432x288 with 1 Axes>"
      ]
     },
     "metadata": {
      "needs_background": "light"
     },
     "output_type": "display_data"
    }
   ],
   "source": [
    "# Fit T_out to an exponential\n",
    "def exponential(x, A,T_out):\n",
    "    return A*np.exp(-x/T_out)\n",
    "%matplotlib inline\n",
    "\n",
    "time_out, time_out_error=model_fit1( bin_edges_out[1:-1], hist_out[1::],exponential, \"T_out\"+str(id_1),\"T_out (us)\",\"histogram\",1, init={\"A\":200,'T_out':18})\n",
    "\n",
    "signal_parameters[\"t_out\"]=time_out[\"T_out\"]"
   ]
  },
  {
   "cell_type": "code",
   "execution_count": 68,
   "metadata": {
    "ExecuteTime": {
     "end_time": "2021-09-30T11:42:18.831752Z",
     "start_time": "2021-09-30T11:42:18.724185Z"
    }
   },
   "outputs": [],
   "source": [
    "## choose a threshold above which it's consider a bleep\n",
    "\n",
    "\n",
    "# select window for t_int\n",
    "minim= np.where(sweep_40>= 20)[0][0]\n",
    "maxim= np.where(sweep_40>= 1900)[0][0]\n",
    "\n",
    "t_in=np.zeros(len(integer)) # bleep duration\n",
    "t_out=np.zeros(len(integer)) # times at which bleep starts\n",
    "\n",
    "for a in range(len(integer)):\n",
    "    \n",
    "    if np.any(distance_40[a][minim:maxim]>= t_thershold):\n",
    "        out = np.where(distance_40[a][minim:maxim]>= t_thershold)[0][0] # smallest time at which the signal is above the threshold\n",
    "        t_out[a]=sweep_40[out+minim]\n",
    "        inside = np.where(distance_40[a][minim:maxim]>=t_thershold)[0][-1] # last time at which signal is above the threshold\n",
    "        t_in[a]=sweep_40[inside+minim]-t_out[a] # t_in= last point of the bllep- first point of the bleep\n",
    "        \n",
    "t_in = np.delete(t_in, np.where(t_in== 0)[0])\n",
    "t_out = np.delete(t_out, np.where(t_out== 0)[0])\n",
    "hist_in,bin_edges_in= np.histogram(t_in, bins=100,range=(t_in.min(),(t_in).max()))\n",
    "hist_out,bin_edges_out= np.histogram(t_out, bins=100,range=(t_out.min(),(t_out).max()))"
   ]
  },
  {
   "cell_type": "code",
   "execution_count": 69,
   "metadata": {
    "ExecuteTime": {
     "end_time": "2021-09-30T11:42:19.518860Z",
     "start_time": "2021-09-30T11:42:19.406781Z"
    },
    "scrolled": true
   },
   "outputs": [
    {
     "name": "stderr",
     "output_type": "stream",
     "text": [
      "c:\\users\\virgi\\anaconda3\\envs\\qcodes\\lib\\site-packages\\lmfit\\model.py:968: UserWarning: The keyword argument sigma does not match any arguments of the model function. It will be ignored.\n",
      "  warnings.warn(\"The keyword argument %s does not \" % name +\n"
     ]
    },
    {
     "data": {
      "image/png": "[encoded data removed]",
      "text/plain": [
       "<Figure size 432x288 with 1 Axes>"
      ]
     },
     "metadata": {
      "needs_background": "light"
     },
     "output_type": "display_data"
    }
   ],
   "source": [
    "def exponential(x, A,T_in):\n",
    "    return A*np.exp(-x/T_in)\n",
    "%matplotlib inline\n",
    "\n",
    "time_in, time_in_error=model_fit1( bin_edges_in[2:-2], hist_in[2:-1],exponential, \"T_in\"+str(id_1),\"T_in (us)\",\"histogram\",1, init={\"A\":200,'T_in':40})\n",
    "signal_parameters[\"t_in\"]=time_in[\"T_in\"]"
   ]
  },
  {
   "cell_type": "code",
   "execution_count": 70,
   "metadata": {
    "ExecuteTime": {
     "end_time": "2021-09-30T11:42:20.144558Z",
     "start_time": "2021-09-30T11:42:20.139575Z"
    }
   },
   "outputs": [
    {
     "data": {
      "text/plain": [
       "{'mean_bg': 0,\n",
       " 'std_bg': 0,\n",
       " 'mean_up': 0,\n",
       " 'std_up': 0,\n",
       " 't_int': 0,\n",
       " 't_out': 47.833033656780664,\n",
       " 't_in': 436.06703990665557}"
      ]
     },
     "execution_count": 70,
     "metadata": {},
     "output_type": "execute_result"
    }
   ],
   "source": [
    "signal_parameters"
   ]
  },
  {
   "cell_type": "code",
   "execution_count": null,
   "metadata": {
    "ExecuteTime": {
     "end_time": "2021-08-22T10:23:33.324267Z",
     "start_time": "2021-08-22T10:23:32.562844Z"
    }
   },
   "outputs": [],
   "source": []
  },
  {
   "cell_type": "markdown",
   "metadata": {},
   "source": [
    "### Getting noise\n"
   ]
  },
  {
   "cell_type": "code",
   "execution_count": 71,
   "metadata": {
    "ExecuteTime": {
     "end_time": "2021-09-30T11:42:25.161325Z",
     "start_time": "2021-09-30T11:42:25.111565Z"
    }
   },
   "outputs": [],
   "source": [
    "# GETTing std and mean from background for I and Q\n",
    "minim= np.where(sweep>= 1600)[0][0]\n",
    "maxim= np.where(sweep>= 2000)[0][0]\n",
    "\n",
    "std_distance=np.std(np.transpose(distance)[minim:maxim]) # mean of the background I\n",
    "signal_low_distance=np.mean(np.transpose(distance)[minim:maxim]) # std of the background I\n",
    "signal_parameters[\"mean_bg\"]=signal_low_distance\n",
    "signal_parameters[\"std_bg\"]=std_distance"
   ]
  },
  {
   "cell_type": "code",
   "execution_count": 76,
   "metadata": {
    "ExecuteTime": {
     "end_time": "2021-09-30T11:43:18.327352Z",
     "start_time": "2021-09-30T11:43:18.237514Z"
    }
   },
   "outputs": [
    {
     "data": {
      "image/png": "[encoded data removed]",
      "text/plain": [
       "<Figure size 432x288 with 1 Axes>"
      ]
     },
     "metadata": {
      "needs_background": "light"
     },
     "output_type": "display_data"
    }
   ],
   "source": [
    "# vs power\n",
    "# for 5    12\n",
    "# for 4    1\n",
    "# for 3    490\n",
    "# for 2    300\n",
    "# for 1    0\n",
    "\n",
    "# vs voltage\n",
    "\n",
    "# for 1   10\n",
    "# for 2   12\n",
    "# for 3   300\n",
    "# for 4   10\n",
    "# for 5   107\n",
    "\n",
    "id_number=300\n",
    "plt.plot(distance[id_number][0:500])\n",
    "signal_parameters[\"mean_up\"]=np.mean(distance[id_number][0:500])\n",
    "signal_parameters[\"std_up\"]=np.std(distance[id_number][100:300])"
   ]
  },
  {
   "cell_type": "code",
   "execution_count": 28,
   "metadata": {
    "ExecuteTime": {
     "end_time": "2021-09-30T11:28:46.562243Z",
     "start_time": "2021-09-30T11:28:43.582681Z"
    }
   },
   "outputs": [],
   "source": [
    "up_down=np.zeros(len(distance))\n",
    "maximum=np.zeros(len(distance))\n",
    "background_distance=np.zeros(len(distance))\n",
    "max_background_distance=np.zeros(len(distance))\n",
    "\n",
    "for a in range(len(distance)):\n",
    "    minim= np.where(sweep_40>= 0)[0][0]\n",
    "    maxim= np.where(sweep_40>= 399)[0][0]\n",
    "\n",
    "    \n",
    "    up_down[a]=np.mean(distance[a][minim:maxim])\n",
    "    maximum[a]=distance[a][minim:maxim].max()\n",
    "    \n",
    "    minim= np.where(sweep_40>= 1460)[0][0]\n",
    "    maxim= np.where(sweep_40>= 1860)[0][0]\n",
    "\n",
    "    background_distance[a]=np.mean(distance[a][minim:maxim])\n",
    "    max_background_distance[a]=(distance[a][minim:maxim]).max()\n",
    "    \n",
    "  \n",
    "hist_max, bin_edges_max = np.histogram(maximum, bins=60,range=(maximum.min(),maximum.max()))    \n",
    "hist_max_bg, bin_edges_max_bg = np.histogram(max_background_distance, bins=60,range=(maximum.min(),maximum.max()))   \n"
   ]
  },
  {
   "cell_type": "code",
   "execution_count": 29,
   "metadata": {
    "ExecuteTime": {
     "end_time": "2021-09-30T11:28:46.720657Z",
     "start_time": "2021-09-30T11:28:46.563279Z"
    }
   },
   "outputs": [
    {
     "data": {
      "text/plain": [
       "Text(0, 0.5, 'histogram')"
      ]
     },
     "execution_count": 29,
     "metadata": {},
     "output_type": "execute_result"
    },
    {
     "data": {
      "image/png": "[encoded data removed]",
      "text/plain": [
       "<Figure size 432x288 with 1 Axes>"
      ]
     },
     "metadata": {
      "needs_background": "light"
     },
     "output_type": "display_data"
    }
   ],
   "source": [
    "%matplotlib inline \n",
    "## 30 first us removed\n",
    "bin_axis_bg=bin_edges_max_bg[0:-1]+(bin_edges_max_bg[1]-bin_edges_max_bg[0])/2\n",
    "\n",
    "plt.bar(bin_axis_bg, hist_max_bg, width=bin_edges_max_bg[1]-bin_edges_max_bg[0],label=\"background\",alpha=0.5)\n",
    "plt.plot(bin_axis_bg, hist_max_bg)\n",
    "#Tin=factor*2.5\n",
    "Tin = T_int\n",
    "plt.title(\"maximum\"+str(id_1)+\" Tin=\"+str(Tin)+\" us\" +\" 14_long_tunneling\")\n",
    "plt.legend()\n",
    "\n",
    "plt.xlabel(\"distance (V)\")\n",
    "plt.ylabel(\"histogram\")"
   ]
  },
  {
   "cell_type": "code",
   "execution_count": 30,
   "metadata": {
    "ExecuteTime": {
     "end_time": "2021-09-30T11:28:46.736600Z",
     "start_time": "2021-09-30T11:28:46.720657Z"
    }
   },
   "outputs": [],
   "source": [
    "def fmax_down(x, n_points, std, signal_low):\n",
    "    PDF_max=np.zeros(len(x))\n",
    "    for a in range(len(x)):\n",
    "        gaussian=1/std/np.sqrt(2*np.pi)*np.exp(-1/2*((x[a]-signal_low)/std)**2)\n",
    "        F_function=1/2*(1+math.erf((x[a]-signal_low)/std/np.sqrt(2)))\n",
    "        PDF_max[a]=n_points*F_function**(n_points-1)*gaussian\n",
    "    return PDF_max"
   ]
  },
  {
   "cell_type": "code",
   "execution_count": 31,
   "metadata": {
    "ExecuteTime": {
     "end_time": "2021-09-30T11:28:46.847130Z",
     "start_time": "2021-09-30T11:28:46.738593Z"
    }
   },
   "outputs": [],
   "source": [
    "delta_t=(maxim-minim)\n",
    "mean_bg=np.mean(background_distance)\n",
    "std_bg=np.std(distance[a][minim:maxim])\n",
    "normalisation=(bin_edges_max_bg[1]-bin_edges_max_bg[0])*10000\n",
    "\n",
    "fit_results=fit(bin_edges_max_bg[0:-1], hist_max_bg/normalisation, fmax_down, init={\"signal_low\":mean_bg,\"std\":std_bg},fixed = {'n_points':delta_t})"
   ]
  },
  {
   "cell_type": "code",
   "execution_count": 32,
   "metadata": {
    "ExecuteTime": {
     "end_time": "2021-09-30T11:28:46.987495Z",
     "start_time": "2021-09-30T11:28:46.848131Z"
    }
   },
   "outputs": [
    {
     "data": {
      "text/plain": [
       "(<Figure size 432x432 with 2 Axes>, GridSpec(2, 1, height_ratios=[1, 4]))"
      ]
     },
     "execution_count": 32,
     "metadata": {},
     "output_type": "execute_result"
    },
    {
     "data": {
      "image/png": "[encoded data removed]",
      "text/plain": [
       "<Figure size 432x432 with 2 Axes>"
      ]
     },
     "metadata": {
      "needs_background": "light"
     },
     "output_type": "display_data"
    }
   ],
   "source": [
    "fit_results.plot()"
   ]
  },
  {
   "cell_type": "code",
   "execution_count": 33,
   "metadata": {
    "ExecuteTime": {
     "end_time": "2021-09-30T11:28:51.141440Z",
     "start_time": "2021-09-30T11:28:51.133461Z"
    },
    "scrolled": true
   },
   "outputs": [
    {
     "data": {
      "text/html": [
       "<h2> Model</h2> Model(fmax_down) <h2>Fit Statistics</h2><table><tr><td>fitting method</td><td>leastsq</td><td></td></tr><tr><td># function evals</td><td>174</td><td></td></tr><tr><td># data points</td><td>60</td><td></td></tr><tr><td># variables</td><td>2</td><td></td></tr><tr><td>chi-square</td><td> 81609.1701</td><td></td></tr><tr><td>reduced chi-square</td><td> 1407.05466</td><td></td></tr><tr><td>Akaike info crit.</td><td> 436.921141</td><td></td></tr><tr><td>Bayesian info crit.</td><td> 441.109830</td><td></td></tr></table><h2>Variables</h2><table><tr><th> name </th><th> value </th><th> standard error </th><th> relative error </th><th> initial value </th><th> min </th><th> max </th><th> vary </th></tr><tr><td> n_points </td><td>  390.000000 </td><td>  0.00000000 </td><td> (0.00%) </td><td> 390 </td><td>        -inf </td><td>         inf </td><td> False </td></tr><tr><td> std </td><td>  0.03338962 </td><td>  0.03572266 </td><td> (106.99%) </td><td> 0.10520112256241161 </td><td>        -inf </td><td>         inf </td><td> True </td></tr><tr><td> signal_low </td><td> -2.45809003 </td><td>  0.10013666 </td><td> (4.07%) </td><td> -2.6424063231800567 </td><td>        -inf </td><td>         inf </td><td> True </td></tr></table><h2>Correlations (unreported correlations are < 0.100)</h2><table><tr><td>std</td><td>signal_low</td><td>-0.9948</td></tr></table>"
      ],
      "text/plain": [
       "<lmfit.model.ModelResult at 0x291f099e070>"
      ]
     },
     "execution_count": 33,
     "metadata": {},
     "output_type": "execute_result"
    }
   ],
   "source": [
    "fit_results"
   ]
  },
  {
   "cell_type": "markdown",
   "metadata": {},
   "source": [
    "## JPA off Final parameters"
   ]
  },
  {
   "cell_type": "code",
   "execution_count": 34,
   "metadata": {
    "ExecuteTime": {
     "end_time": "2021-09-30T11:28:52.824346Z",
     "start_time": "2021-09-30T11:28:52.805407Z"
    }
   },
   "outputs": [
    {
     "data": {
      "text/plain": [
       "{'mean_bg': -2.6427917615361505,\n",
       " 'std_bg': 0.10148564935088496,\n",
       " 'mean_up': -2.646304100938416,\n",
       " 'std_up': 0.09590352698577818,\n",
       " 't_int': 0,\n",
       " 't_out': 56.63873533617122,\n",
       " 't_in': 453.85162520899223}"
      ]
     },
     "execution_count": 34,
     "metadata": {},
     "output_type": "execute_result"
    }
   ],
   "source": [
    "signal_parameters"
   ]
  },
  {
   "cell_type": "markdown",
   "metadata": {},
   "source": [
    "# Fit to experiements tint=0"
   ]
  },
  {
   "cell_type": "code",
   "execution_count": 38,
   "metadata": {
    "ExecuteTime": {
     "end_time": "2021-09-30T11:29:21.959617Z",
     "start_time": "2021-09-30T11:29:21.945693Z"
    }
   },
   "outputs": [],
   "source": [
    "signal_parameters\n",
    "signal_parameters[\"std_up\"]=signal_parameters[\"std_bg\"]"
   ]
  },
  {
   "cell_type": "code",
   "execution_count": 39,
   "metadata": {
    "ExecuteTime": {
     "end_time": "2021-09-30T11:29:24.134026Z",
     "start_time": "2021-09-30T11:29:23.228162Z"
    }
   },
   "outputs": [],
   "source": [
    "# REAL DATA HISTOGRAM\n",
    "maximum=np.zeros(len(distance))\n",
    "max_background_distance=np.zeros(len(distance))\n",
    "\n",
    "for a in range(len(distance)):\n",
    "    minim= np.where(sweep>= 0)[0][0]\n",
    "    maxim= np.where(sweep>= 2000)[0][0]\n",
    "\n",
    "    \n",
    "    maximum[a]=distance[a][minim:maxim].max()\n",
    "    \n",
    "    \n",
    "  \n",
    "hist_max, bin_edges_max = np.histogram(maximum, bins=60,range=(maximum.min(),maximum.max()))    \n"
   ]
  },
  {
   "cell_type": "code",
   "execution_count": 40,
   "metadata": {
    "ExecuteTime": {
     "end_time": "2021-09-30T11:29:32.868499Z",
     "start_time": "2021-09-30T11:29:32.067342Z"
    }
   },
   "outputs": [],
   "source": [
    "# SIMULATION- CREATE DATA\n",
    "\n",
    "signal_low=signal_parameters[\"mean_bg\"]\n",
    "signal_high=signal_parameters[\"mean_up\"]\n",
    "std_bg=signal_parameters[\"std_bg\"]\n",
    "std_up=signal_parameters[\"std_up\"]\n",
    "\n",
    "\n",
    "t_in=signal_parameters[\"t_in\"]\n",
    "t_out=signal_parameters[\"t_out\"]\n",
    "\n",
    "A=0.5\n",
    "\n",
    "n_traces=10000\n",
    "n_points_time=1952\n",
    "\n",
    "range_min=maximum.min()\n",
    "range_max=maximum.max()\n",
    "\n",
    "sim_distance, spin_sim= simulate_distance(A,std_bg,std_up ,signal_low,signal_high,t_out,t_in,n_points_time, n_traces,sweep)\n",
    "   \n",
    "\n",
    "# SIMULATION HISTOGRAM\n",
    "maximum_sim=np.zeros(len(sim_distance))\n",
    "\n",
    "for a in range(len(sim_distance)):\n",
    "    minim= np.where(sweep>= 0)[0][0]\n",
    "    maxim= np.where(sweep>= 2000)[0][0]\n",
    "\n",
    "    \n",
    "    maximum_sim[a]=sim_distance[a][minim:maxim].max()\n",
    "    \n",
    "    \n",
    "  \n",
    "hist_max_sim, bin_edges_max_sim = np.histogram(maximum_sim, bins=60,range=(maximum_sim.min(),maximum_sim.max()))    \n"
   ]
  },
  {
   "cell_type": "code",
   "execution_count": 41,
   "metadata": {
    "ExecuteTime": {
     "end_time": "2021-09-30T11:29:34.276650Z",
     "start_time": "2021-09-30T11:29:34.054159Z"
    }
   },
   "outputs": [
    {
     "name": "stderr",
     "output_type": "stream",
     "text": [
      "No handles with labels found to put in legend.\n"
     ]
    },
    {
     "data": {
      "text/plain": [
       "Text(0, 0.5, 'histogram')"
      ]
     },
     "execution_count": 41,
     "metadata": {},
     "output_type": "execute_result"
    },
    {
     "data": {
      "image/png": "[encoded data removed]",
      "text/plain": [
       "<Figure size 432x288 with 1 Axes>"
      ]
     },
     "metadata": {
      "needs_background": "light"
     },
     "output_type": "display_data"
    }
   ],
   "source": [
    "%matplotlib inline \n",
    "## 30 first us removed\n",
    "bin_axis=bin_edges_max[0:-1]+(bin_edges_max[1]-bin_edges_max[0])/2\n",
    "normalisation=10000*(bin_edges_max[1]-bin_edges_max[0])\n",
    "plt.bar(bin_axis, hist_max/normalisation, width=bin_edges_max[1]-bin_edges_max[0],alpha=0.5)\n",
    "plt.plot(bin_axis, hist_max/normalisation)\n",
    "\n",
    "\n",
    "bin_axis=bin_edges_max_sim[0:-1]+(bin_edges_max_sim[1]-bin_edges_max_sim[0])/2\n",
    "normalisation=10000*(bin_edges_max_sim[1]-bin_edges_max_sim[0])\n",
    "plt.bar(bin_axis, hist_max_sim/normalisation, width=bin_edges_max_sim[1]-bin_edges_max_sim[0],alpha=0.5)\n",
    "plt.plot(bin_axis, hist_max_sim/normalisation)\n",
    "\n",
    "#Tin=factor*2.5\n",
    "Tin = T_int\n",
    "plt.title(\"maximum\"+str(id_1)+\" Tin=\"+str(Tin)+\" us\" +\" 14_long_tunneling\")\n",
    "plt.legend()\n",
    "\n",
    "plt.xlabel(\"distance (V)\")\n",
    "plt.ylabel(\"histogram\")"
   ]
  },
  {
   "cell_type": "markdown",
   "metadata": {},
   "source": [
    "## Tint=20"
   ]
  },
  {
   "cell_type": "code",
   "execution_count": 26,
   "metadata": {
    "ExecuteTime": {
     "end_time": "2021-09-30T11:46:36.354361Z",
     "start_time": "2021-09-30T11:46:36.092606Z"
    }
   },
   "outputs": [
    {
     "name": "stdout",
     "output_type": "stream",
     "text": [
      "1952\n"
     ]
    }
   ],
   "source": [
    "## REAL DATA MOVING AVERAGE\n",
    "factor = 20 # factor*T_int_original=Tint\n",
    "num_bins=100\n",
    "distance_40=np.zeros((len(distance),len( moving_average(distance[0], factor))))\n",
    "\n",
    "\n",
    "acquisition_time=2000 # time of the trace in us\n",
    "number_points=len(sweep) # number of points in the trace\n",
    "print(number_points)\n",
    "T_int_original=acquisition_time/number_points # original integration time (1us)\n",
    "T_int=factor*T_int_original # new integration time\n",
    "\n",
    "\n",
    "# new I and Q with moving averaged\n",
    "distance_40=np.zeros((len(distance),len(moving_average(distance[0], factor))))\n",
    "sweep_40=np.zeros(len(moving_average(distance[0], factor)))\n",
    "\n",
    "\n",
    "for a in range(len(X)):\n",
    "    distance_40[a]=moving_average(distance[a], factor)\n",
    "sweep_40=moving_average(sweep, factor)\n",
    "\n",
    "# HISTOGRAM WITH REAL DATA\n",
    "maximum=np.zeros(len(distance_40))\n",
    "max_background_distance=np.zeros(len(distance_40))\n",
    "\n",
    "for a in range(len(distance)):\n",
    "    minim= np.where(sweep_40>= 0)[0][0]\n",
    "    maxim= np.where(sweep_40>= sweep_40.max())[0][0]\n",
    "\n",
    "    \n",
    "    maximum[a]=distance_40[a][minim:maxim].max()\n",
    "    \n",
    "range_min=maximum.min()\n",
    "range_max=maximum.max()\n",
    "  \n",
    "hist_max, bin_edges_max = np.histogram(maximum, bins=num_bins,range=(maximum.min(),maximum.max()))    \n"
   ]
  },
  {
   "cell_type": "code",
   "execution_count": 1038,
   "metadata": {
    "ExecuteTime": {
     "end_time": "2021-09-07T16:05:52.168492Z",
     "start_time": "2021-09-07T16:05:51.909443Z"
    }
   },
   "outputs": [],
   "source": [
    "## SIMULATION MOVING AVERAGE\n",
    "\n",
    "sim_distance_40=np.zeros((len(sim_distance),len( moving_average(sim_distance[0], factor))))\n",
    "\n",
    "\n",
    "# new I and Q with moving averaged\n",
    "sim_distance_40=np.zeros((len(sim_distance),len(moving_average(sim_distance[0], factor))))\n",
    "\n",
    "\n",
    "for a in range(len(sim_distance)):\n",
    "    sim_distance_40[a]=moving_average(sim_distance[a], factor)\n",
    "\n",
    "# HISTOGRAM WITH SIMULATION\n",
    "maximum_sim=np.zeros(len(sim_distance_40))\n",
    "\n",
    "for a in range(len(sim_distance)):\n",
    "    minim= np.where(sweep>= 0)[0][0]\n",
    "    maxim= np.where(sweep>= sweep_40.max())[0][0]\n",
    "\n",
    "    \n",
    "    maximum_sim[a]=sim_distance_40[a][minim:maxim].max()\n",
    "    \n",
    "    \n",
    "  \n",
    "hist_max_sim, bin_edges_max_sim = np.histogram(maximum_sim, bins=num_bins,range=(maximum_sim.min(),maximum_sim.max()))    "
   ]
  },
  {
   "cell_type": "code",
   "execution_count": 27,
   "metadata": {
    "ExecuteTime": {
     "end_time": "2021-09-30T11:46:39.680935Z",
     "start_time": "2021-09-30T11:46:39.505792Z"
    }
   },
   "outputs": [
    {
     "ename": "NameError",
     "evalue": "name 'bin_edges_max_sim' is not defined",
     "output_type": "error",
     "traceback": [
      "\u001b[1;31m---------------------------------------------------------------------------\u001b[0m",
      "\u001b[1;31mNameError\u001b[0m                                 Traceback (most recent call last)",
      "\u001b[1;32m~\\AppData\\Local\\Temp/ipykernel_900/906644973.py\u001b[0m in \u001b[0;36m<module>\u001b[1;34m\u001b[0m\n\u001b[0;32m      7\u001b[0m \u001b[1;33m\u001b[0m\u001b[0m\n\u001b[0;32m      8\u001b[0m \u001b[1;33m\u001b[0m\u001b[0m\n\u001b[1;32m----> 9\u001b[1;33m \u001b[0mbin_axis_sim\u001b[0m\u001b[1;33m=\u001b[0m\u001b[0mbin_edges_max_sim\u001b[0m\u001b[1;33m[\u001b[0m\u001b[1;36m0\u001b[0m\u001b[1;33m:\u001b[0m\u001b[1;33m-\u001b[0m\u001b[1;36m1\u001b[0m\u001b[1;33m]\u001b[0m\u001b[1;33m+\u001b[0m\u001b[1;33m(\u001b[0m\u001b[0mbin_edges_max_sim\u001b[0m\u001b[1;33m[\u001b[0m\u001b[1;36m1\u001b[0m\u001b[1;33m]\u001b[0m\u001b[1;33m-\u001b[0m\u001b[0mbin_edges_max_sim\u001b[0m\u001b[1;33m[\u001b[0m\u001b[1;36m0\u001b[0m\u001b[1;33m]\u001b[0m\u001b[1;33m)\u001b[0m\u001b[1;33m/\u001b[0m\u001b[1;36m2\u001b[0m\u001b[1;33m\u001b[0m\u001b[1;33m\u001b[0m\u001b[0m\n\u001b[0m\u001b[0;32m     10\u001b[0m \u001b[0mnormalisation_sim\u001b[0m\u001b[1;33m=\u001b[0m\u001b[1;36m10000\u001b[0m\u001b[1;33m*\u001b[0m\u001b[1;33m(\u001b[0m\u001b[0mbin_edges_max_sim\u001b[0m\u001b[1;33m[\u001b[0m\u001b[1;36m1\u001b[0m\u001b[1;33m]\u001b[0m\u001b[1;33m-\u001b[0m\u001b[0mbin_edges_max_sim\u001b[0m\u001b[1;33m[\u001b[0m\u001b[1;36m0\u001b[0m\u001b[1;33m]\u001b[0m\u001b[1;33m)\u001b[0m\u001b[1;33m\u001b[0m\u001b[1;33m\u001b[0m\u001b[0m\n\u001b[0;32m     11\u001b[0m \u001b[0mplt\u001b[0m\u001b[1;33m.\u001b[0m\u001b[0mbar\u001b[0m\u001b[1;33m(\u001b[0m\u001b[0mbin_axis_sim\u001b[0m\u001b[1;33m,\u001b[0m \u001b[0mhist_max_sim\u001b[0m\u001b[1;33m/\u001b[0m\u001b[0mnormalisation_sim\u001b[0m\u001b[1;33m,\u001b[0m \u001b[0mwidth\u001b[0m\u001b[1;33m=\u001b[0m\u001b[0mbin_edges_max_sim\u001b[0m\u001b[1;33m[\u001b[0m\u001b[1;36m1\u001b[0m\u001b[1;33m]\u001b[0m\u001b[1;33m-\u001b[0m\u001b[0mbin_edges_max_sim\u001b[0m\u001b[1;33m[\u001b[0m\u001b[1;36m0\u001b[0m\u001b[1;33m]\u001b[0m\u001b[1;33m,\u001b[0m\u001b[0malpha\u001b[0m\u001b[1;33m=\u001b[0m\u001b[1;36m0.5\u001b[0m\u001b[1;33m)\u001b[0m\u001b[1;33m\u001b[0m\u001b[1;33m\u001b[0m\u001b[0m\n",
      "\u001b[1;31mNameError\u001b[0m: name 'bin_edges_max_sim' is not defined"
     ]
    },
    {
     "data": {
      "image/png": "[encoded data removed]",
      "text/plain": [
       "<Figure size 432x288 with 1 Axes>"
      ]
     },
     "metadata": {
      "needs_background": "light"
     },
     "output_type": "display_data"
    }
   ],
   "source": [
    "%matplotlib inline \n",
    "## PLOT\n",
    "bin_axis=bin_edges_max[0:-1]+(bin_edges_max[1]-bin_edges_max[0])/2\n",
    "normalisation=10000*(bin_edges_max[1]-bin_edges_max[0])\n",
    "plt.bar(bin_axis, hist_max/normalisation, width=bin_edges_max[1]-bin_edges_max[0],alpha=0.5)\n",
    "plt.plot(bin_axis, hist_max/normalisation)\n",
    "\n",
    "\n",
    "bin_axis_sim=bin_edges_max_sim[0:-1]+(bin_edges_max_sim[1]-bin_edges_max_sim[0])/2\n",
    "normalisation_sim=10000*(bin_edges_max_sim[1]-bin_edges_max_sim[0])\n",
    "plt.bar(bin_axis_sim, hist_max_sim/normalisation_sim, width=bin_edges_max_sim[1]-bin_edges_max_sim[0],alpha=0.5)\n",
    "plt.plot(bin_axis_sim, hist_max_sim/normalisation_sim)\n",
    "\n",
    "\n",
    "Tin = T_int\n",
    "plt.title(\"maximum\"+str(id_1)+\" Tin=\"+str(Tin)+\" us\" +\" 14_long_tunneling\")\n",
    "plt.legend()\n",
    "\n",
    "plt.xlabel(\"distance (V)\")\n",
    "plt.ylabel(\"histogram\")"
   ]
  },
  {
   "cell_type": "code",
   "execution_count": 1040,
   "metadata": {
    "ExecuteTime": {
     "end_time": "2021-09-07T16:05:54.537714Z",
     "start_time": "2021-09-07T16:05:54.530738Z"
    }
   },
   "outputs": [
    {
     "data": {
      "text/plain": [
       "-3.3152444813454167"
      ]
     },
     "execution_count": 1040,
     "metadata": {},
     "output_type": "execute_result"
    }
   ],
   "source": [
    "maximum.min()"
   ]
  },
  {
   "cell_type": "markdown",
   "metadata": {},
   "source": [
    "## fit parameters"
   ]
  },
  {
   "cell_type": "code",
   "execution_count": 1045,
   "metadata": {
    "ExecuteTime": {
     "end_time": "2021-09-07T16:07:05.718342Z",
     "start_time": "2021-09-07T16:06:34.040565Z"
    }
   },
   "outputs": [],
   "source": [
    "signal_low=signal_parameters[\"mean_bg\"]\n",
    "signal_high=signal_parameters[\"mean_up\"]\n",
    "std_bg=signal_parameters[\"std_bg\"]\n",
    "std_up=signal_parameters[\"std_up\"]\n",
    "\n",
    "\n",
    "t_in=signal_parameters[\"t_in\"]\n",
    "t_out=signal_parameters[\"t_out\"]\n",
    "\n",
    "A=0.5\n",
    "t_int=factor\n",
    "num_bins = num_bins\n",
    "n_traces=10000\n",
    "t_max = 2000\n",
    "n_points_time=1952\n",
    "\n",
    "range_min=maximum.min()\n",
    "range_max=maximum.max()\n",
    "\n",
    "\n",
    "\n",
    "fitresult= fit(bin_axis, hist_max/normalisation,fit_histogram_v2, fixed = {'range_min':range_min,'range_max':range_max,'t_int':t_int,'t_out':t_out, 't_in':t_in, 't_max':t_max, 'n_points_time': n_points_time, 'n_traces':n_traces, 'num_bins':num_bins, 'plot_histo':0, 'signal_low': signal_low , 'std_low': std_bg}, init = {'std_up':std_up, \"A\":A,\"signal_high\":signal_high,},bounds={'std_up':[0.09,0.12], \"A\":[0.45,0.55]}, step_size = 2e-2 )\n"
   ]
  },
  {
   "cell_type": "code",
   "execution_count": 1046,
   "metadata": {
    "ExecuteTime": {
     "end_time": "2021-09-07T16:07:08.199242Z",
     "start_time": "2021-09-07T16:07:05.720237Z"
    }
   },
   "outputs": [
    {
     "data": {
      "text/plain": [
       "(<Figure size 239.103x239.103 with 2 Axes>,\n",
       " GridSpec(2, 1, height_ratios=[1, 4]))"
      ]
     },
     "execution_count": 1046,
     "metadata": {},
     "output_type": "execute_result"
    },
    {
     "data": {
      "image/png": "[encoded data removed]",
      "text/plain": [
       "<Figure size 239.103x239.103 with 2 Axes>"
      ]
     },
     "metadata": {
      "needs_background": "light"
     },
     "output_type": "display_data"
    }
   ],
   "source": [
    "fitresult.plot()"
   ]
  },
  {
   "cell_type": "code",
   "execution_count": 1047,
   "metadata": {
    "ExecuteTime": {
     "end_time": "2021-09-07T16:07:08.214236Z",
     "start_time": "2021-09-07T16:07:08.201223Z"
    }
   },
   "outputs": [],
   "source": [
    "factor_ntraces = 10\n",
    "\n",
    "A = fitresult.params['A'].value\n",
    "range_min = fitresult.params['range_min'].value\n",
    "range_max = fitresult.params['range_max'].value\n",
    "std_low = fitresult.params['std_low'].value \n",
    "std_up = fitresult.params['std_up'].value\n",
    "signal_low = fitresult.params['signal_low'].value \n",
    "signal_high = fitresult.params['signal_high'].value\n",
    "t_int = fitresult.params['t_int'].value\n",
    "t_out = fitresult.params['t_out'].value\n",
    "t_in = fitresult.params['t_in'].value\n",
    "t_max = fitresult.params['t_max'].value\n",
    "n_points_time = fitresult.params['n_points_time'].value \n",
    "n_traces = fitresult.params['n_traces'].value * factor_ntraces \n",
    "num_bins = fitresult.params['num_bins'].value\n",
    "num_bins = 100"
   ]
  },
  {
   "cell_type": "markdown",
   "metadata": {},
   "source": [
    "####  definitive parameters fit"
   ]
  },
  {
   "cell_type": "code",
   "execution_count": 1048,
   "metadata": {
    "ExecuteTime": {
     "end_time": "2021-09-07T16:07:08.230125Z",
     "start_time": "2021-09-07T16:07:08.216174Z"
    }
   },
   "outputs": [],
   "source": [
    "signal_parameters_fit={\n",
    "  \"mean_bg\": 0,\n",
    "  \"std_bg\": 0,\n",
    "  \"mean_up\": 0,\n",
    "  \"std_up\": 0,\n",
    "  \"t_int\": 0,\n",
    "  \"t_out\": 0,\n",
    "    \"A\":0,\n",
    "}\n",
    "\n",
    "signal_parameters_fit[\"A\"]=A\n",
    "signal_parameters_fit[\"std_bg\"]=std_low\n",
    "signal_parameters_fit[\"std_up\"]=std_up\n",
    "signal_parameters_fit[\"mean_bg\"]=signal_low\n",
    "signal_parameters_fit[\"mean_up\"]=signal_high\n",
    "signal_parameters_fit[\"t_int\"]=t_int\n",
    "signal_parameters_fit[\"t_in\"]=t_in\n",
    "signal_parameters_fit[\"t_out\"]=t_out"
   ]
  },
  {
   "cell_type": "code",
   "execution_count": 1049,
   "metadata": {
    "ExecuteTime": {
     "end_time": "2021-09-07T16:07:08.245075Z",
     "start_time": "2021-09-07T16:07:08.231118Z"
    }
   },
   "outputs": [
    {
     "data": {
      "text/plain": [
       "{'mean_bg': -3.3493535124031806,\n",
       " 'std_bg': 0.10143317709914586,\n",
       " 'mean_up': -3.224155519095218,\n",
       " 'std_up': 0.10172068194686833,\n",
       " 't_int': 20,\n",
       " 't_out': 22.419067336281234,\n",
       " 'A': 0.500042687664294,\n",
       " 't_in': 313.81919653814515}"
      ]
     },
     "execution_count": 1049,
     "metadata": {},
     "output_type": "execute_result"
    }
   ],
   "source": [
    "signal_parameters_fit"
   ]
  },
  {
   "cell_type": "code",
   "execution_count": 1050,
   "metadata": {
    "ExecuteTime": {
     "end_time": "2021-09-07T16:07:08.261019Z",
     "start_time": "2021-09-07T16:07:08.246068Z"
    }
   },
   "outputs": [],
   "source": [
    "import json\n",
    "with open('JPA_off_vs_power_'+str(id_1)+'.json', 'w') as fp:\n",
    "    json.dump(signal_parameters_fit, fp)\n"
   ]
  },
  {
   "cell_type": "code",
   "execution_count": null,
   "metadata": {
    "ExecuteTime": {
     "end_time": "2021-09-06T14:31:54.487777Z",
     "start_time": "2021-09-06T14:31:54.482776Z"
    }
   },
   "outputs": [],
   "source": []
  },
  {
   "cell_type": "code",
   "execution_count": null,
   "metadata": {
    "ExecuteTime": {
     "end_time": "2021-09-07T15:42:30.349139Z",
     "start_time": "2021-09-07T15:42:30.335252Z"
    }
   },
   "outputs": [],
   "source": []
  },
  {
   "cell_type": "code",
   "execution_count": 28,
   "metadata": {
    "ExecuteTime": {
     "end_time": "2021-09-30T11:27:10.382036Z",
     "start_time": "2021-09-30T11:27:08.763487Z"
    }
   },
   "outputs": [
    {
     "name": "stderr",
     "output_type": "stream",
     "text": [
      "C:\\Users\\virgi\\AppData\\Local\\Temp/ipykernel_3128/3013448970.py:42: MatplotlibDeprecationWarning: savefig() got unexpected keyword argument \"rasterized\" which is no longer supported as of 3.3 and will become an error two minor releases later\n",
      "  plt.savefig(\"histogram.png\",dpi=600, bbox_inches = \"tight\", rasterized='True')\n"
     ]
    },
    {
     "data": {
      "image/png": "[encoded data removed]",
      "text/plain": [
       "<Figure size 239.103x147.774 with 1 Axes>"
      ]
     },
     "metadata": {
      "needs_background": "light"
     },
     "output_type": "display_data"
    }
   ],
   "source": [
    "## Comparing data and simulation\n",
    "\n",
    "\n",
    "fig_width_pt = 240.0  # Get this from LaTeX using \\showthe\\columnwidth\n",
    "inches_per_pt = 1.0/72.27\t\t\t\t# Convert pt to inch\n",
    "golden_mean = (math.sqrt(5)-1.0)/2.0\t\t # Aesthetic ratio\n",
    "fig_width = fig_width_pt*inches_per_pt\t# width in inches\n",
    "fig_height = fig_width*golden_mean\t\t# height in inches\n",
    "fig_size =\t[fig_width,fig_height]\n",
    "plt.rcParams['legend.fontsize'] = 8\n",
    "plt.rcParams['figure.figsize'] = fig_size\n",
    "t_max=2000\n",
    "n_points_time=1952\n",
    "n_traces=10000\n",
    "# Plot data as histogram\n",
    "# -----------------------\n",
    "bin_axis=bin_edges_max[0:-1]+(bin_edges_max[1]-bin_edges_max[0])/2\n",
    "normalisation=10000*(bin_edges_max[1]-bin_edges_max[0])\n",
    "plt.bar(bin_axis, hist_max/normalisation, width=bin_edges_max[1]-bin_edges_max[0],label=\"data\",alpha=0.5)\n",
    "\n",
    "# Plot simulation as curve\n",
    "# -----------------------\n",
    "bins, histo=simulate_histogram_out(A,range_min,range_max,std_low,std_up, signal_low,signal_high,t_int,t_out,t_in,t_max,n_points_time,n_traces,num_bins , 0)\n",
    "#f_hist_inter = interp1d(bins,histo, kind='cubic')\n",
    "x=np.linspace(-3,0,1000)\n",
    "#plt.plot(x,f_hist_inter(x), label='best fit')\n",
    "plt.plot(bins, histo, label='best fit')\n",
    "\n",
    "# Caption\n",
    "#------------------------\n",
    "plt.legend()\n",
    "plt.xlabel(\"Signal\")\n",
    "plt.ylabel(\"Probability\")\n",
    "plt.title('Simulated histogram vs data_ Tint=%f'%t_int)\n",
    "\n",
    "plt.xlabel(\"RF signal (V) \", {'color': 'k', 'fontsize': 14})\n",
    "plt.ylabel(\"Probability\", {'color': 'k', 'fontsize': 14})\n",
    "plt.xticks( color='k', size=12)\n",
    "plt.yticks( color='k', size=12)\n",
    "#plt.ylim(0,30)\n",
    "plt.title(\"Simulated histogram fitted to data_1\",size=16)\n",
    "plt.savefig(\"histogram.png\",dpi=600, bbox_inches = \"tight\", rasterized='True')\n",
    "\n"
   ]
  },
  {
   "cell_type": "code",
   "execution_count": 26,
   "metadata": {
    "ExecuteTime": {
     "end_time": "2021-09-30T11:27:05.737520Z",
     "start_time": "2021-09-30T11:27:05.732602Z"
    }
   },
   "outputs": [],
   "source": [
    "import json\n",
    "with open('JPA_off_vs_power_2.json', 'r') as file:\n",
    "    signal_parameters_fit_read=json.load(file)"
   ]
  },
  {
   "cell_type": "code",
   "execution_count": 27,
   "metadata": {
    "ExecuteTime": {
     "end_time": "2021-09-30T11:27:06.407295Z",
     "start_time": "2021-09-30T11:27:06.399323Z"
    }
   },
   "outputs": [],
   "source": [
    "A=signal_parameters_fit_read[\"A\"]\n",
    "std_low=signal_parameters_fit_read[\"std_bg\"]\n",
    "std_up=signal_parameters_fit_read[\"std_up\"]\n",
    "signal_low=signal_parameters_fit_read[\"mean_bg\"]\n",
    "signal_high=signal_parameters_fit_read[\"mean_up\"]\n",
    "t_int=20\n",
    "t_in=signal_parameters_fit_read[\"t_in\"]\n",
    "t_out=signal_parameters_fit_read[\"t_out\"]"
   ]
  },
  {
   "cell_type": "code",
   "execution_count": 19,
   "metadata": {
    "ExecuteTime": {
     "end_time": "2021-09-30T11:25:24.543789Z",
     "start_time": "2021-09-30T11:25:24.539802Z"
    }
   },
   "outputs": [
    {
     "data": {
      "text/plain": [
       "{'mean_bg': -3.3493535124031806,\n",
       " 'std_bg': 0.10143317709914586,\n",
       " 'mean_up': -3.224155519095218,\n",
       " 'std_up': 0.10172068194686833,\n",
       " 't_int': 20,\n",
       " 't_out': 22.419067336281234,\n",
       " 'A': 0.500042687664294,\n",
       " 't_in': 313.81919653814515}"
      ]
     },
     "execution_count": 19,
     "metadata": {},
     "output_type": "execute_result"
    }
   ],
   "source": [
    "signal_parameters_fit_read"
   ]
  },
  {
   "cell_type": "code",
   "execution_count": 1136,
   "metadata": {
    "ExecuteTime": {
     "end_time": "2021-09-07T16:21:52.364957Z",
     "start_time": "2021-09-07T16:21:34.456803Z"
    }
   },
   "outputs": [],
   "source": [
    "# Calculate fidelity as David\n",
    "\n",
    "# SIMULATION- CREATE DATA\n",
    "\n",
    "signal_low=signal_parameters_fit_read[\"mean_bg\"]\n",
    "signal_high=signal_parameters_fit_read[\"mean_up\"]\n",
    "std_bg=signal_parameters_fit_read[\"std_bg\"]\n",
    "std_up=signal_parameters_fit_read[\"std_up\"]\n",
    "\n",
    "\n",
    "t_in=signal_parameters_fit_read[\"t_in\"]\n",
    "t_out=signal_parameters_fit_read[\"t_out\"]\n",
    "\n",
    "A=signal_parameters_fit_read[\"A\"]\n",
    "\n",
    "n_traces=100000\n",
    "n_points_time=1952\n",
    "\n",
    "\n",
    "\n",
    "sim_distance, spin_sim= simulate_distance(A,std_bg,std_up ,signal_low,signal_high,t_out,t_in,n_points_time, n_traces,sweep)\n",
    "\n",
    "## SIMULATION MOVING AVERAGE\n",
    "\n",
    "sim_distance_40=np.zeros((len(sim_distance),len( moving_average(sim_distance[0], factor))))\n",
    "\n",
    "\n",
    "# new I and Q with moving averaged\n",
    "sim_distance_40=np.zeros((len(sim_distance),len(moving_average(sim_distance[0], factor))))\n",
    "\n",
    "\n",
    "for a in range(len(sim_distance)):\n",
    "    sim_distance_40[a]=moving_average(sim_distance[a], factor)\n",
    "\n",
    "# HISTOGRAM WITH SIMULATION\n",
    "maximum_sim=np.zeros(len(sim_distance_40))\n",
    "\n",
    "for a in range(len(sim_distance)):\n",
    "    minim= np.where(sweep>= 0)[0][0]\n",
    "    maxim= np.where(sweep>= sweep_40.max())[0][0]\n",
    "\n",
    "    \n",
    "    maximum_sim[a]=sim_distance_40[a][minim:maxim].max()\n",
    "range_min=maximum_sim.min()\n",
    "range_max=maximum_sim.max()"
   ]
  },
  {
   "cell_type": "code",
   "execution_count": 1137,
   "metadata": {
    "ExecuteTime": {
     "end_time": "2021-09-07T16:21:52.380905Z",
     "start_time": "2021-09-07T16:21:52.365957Z"
    }
   },
   "outputs": [
    {
     "data": {
      "text/plain": [
       "\"np.savez('./JPA_off_traces_simulated-2.npz', sim_distance=sim_distance, spin_sim=spin_sim)\\nnp.load('./JPA_off_traces.npz').files\""
      ]
     },
     "execution_count": 1137,
     "metadata": {},
     "output_type": "execute_result"
    }
   ],
   "source": [
    "\"\"\"np.savez('./JPA_off_traces_simulated-2.npz', sim_distance=sim_distance, spin_sim=spin_sim)\n",
    "np.load('./JPA_off_traces.npz').files\"\"\""
   ]
  },
  {
   "cell_type": "code",
   "execution_count": 1138,
   "metadata": {
    "ExecuteTime": {
     "end_time": "2021-09-07T16:21:52.396091Z",
     "start_time": "2021-09-07T16:21:52.381902Z"
    }
   },
   "outputs": [],
   "source": [
    "epsilon=0.005\n",
    "signal_threshold = np.linspace(range_min + epsilon, range_max - epsilon,50)\n",
    "\n",
    "fidelity_up = []\n",
    "fidelity_down = []\n",
    "\n",
    "spin_up_maximums=maximum_sim[np.where(spin_sim==0)[0]]\n",
    "spin_down_maximums=maximum_sim[np.where(spin_sim==1)[0]]\n",
    "for signal in signal_threshold:\n",
    "            \n",
    "            integ_up=len(np.where(spin_up_maximums<=signal)[0])\n",
    "            integ_down=len(np.where(spin_down_maximums>=signal)[0])\n",
    "            \n",
    "            fidelity_up.append(1-integ_up/n_traces)\n",
    "            fidelity_down.append(1-integ_down/n_traces)\n",
    "           "
   ]
  },
  {
   "cell_type": "code",
   "execution_count": 1139,
   "metadata": {
    "ExecuteTime": {
     "end_time": "2021-09-07T16:21:52.458585Z",
     "start_time": "2021-09-07T16:21:52.398080Z"
    }
   },
   "outputs": [
    {
     "data": {
      "text/plain": [
       "[<matplotlib.lines.Line2D at 0x1e590e3ab50>]"
      ]
     },
     "execution_count": 1139,
     "metadata": {},
     "output_type": "execute_result"
    },
    {
     "data": {
      "image/png": "[encoded data removed]",
      "text/plain": [
       "<Figure size 239.103x147.774 with 1 Axes>"
      ]
     },
     "metadata": {
      "needs_background": "light"
     },
     "output_type": "display_data"
    }
   ],
   "source": [
    "plt.plot(signal_threshold,fidelity_up)\n",
    "plt.plot(signal_threshold,fidelity_down)"
   ]
  },
  {
   "cell_type": "code",
   "execution_count": 1140,
   "metadata": {
    "ExecuteTime": {
     "end_time": "2021-09-07T16:21:52.474532Z",
     "start_time": "2021-09-07T16:21:52.459582Z"
    }
   },
   "outputs": [
    {
     "data": {
      "text/plain": [
       "0.9734500000000001"
      ]
     },
     "execution_count": 1140,
     "metadata": {},
     "output_type": "execute_result"
    }
   ],
   "source": [
    "visibility=np.array(fidelity_up)+np.array(fidelity_down)-1\n",
    "visibility.max()"
   ]
  },
  {
   "cell_type": "code",
   "execution_count": 1130,
   "metadata": {
    "ExecuteTime": {
     "end_time": "2021-09-07T16:19:26.356118Z",
     "start_time": "2021-09-07T16:19:08.570902Z"
    },
    "scrolled": true
   },
   "outputs": [
    {
     "name": "stdout",
     "output_type": "stream",
     "text": [
      "20\n",
      "number of traces for bg = 100000 number of up traces = 50103\n"
     ]
    },
    {
     "name": "stderr",
     "output_type": "stream",
     "text": [
      "C:\\Users\\virgi\\AppData\\Local\\Temp/ipykernel_19416/4279502438.py:457: IntegrationWarning: The maximum number of subdivisions (50) has been achieved.\n",
      "  If increasing the limit yields no improvement it is advised to analyze \n",
      "  the integrand in order to determine the difficulties.  If the position of a \n",
      "  local difficulty can be determined (singularity, discontinuity) one will \n",
      "  probably gain from splitting up the interval and calling the integrator \n",
      "  on the subranges.  Perhaps a special-purpose integrator should be used.\n",
      "  integ_down = integrate.quad(f_hist_down, signal, np.max(histo_down[0]))\n",
      "C:\\Users\\virgi\\AppData\\Local\\Temp/ipykernel_19416/4279502438.py:460: IntegrationWarning: The maximum number of subdivisions (50) has been achieved.\n",
      "  If increasing the limit yields no improvement it is advised to analyze \n",
      "  the integrand in order to determine the difficulties.  If the position of a \n",
      "  local difficulty can be determined (singularity, discontinuity) one will \n",
      "  probably gain from splitting up the interval and calling the integrator \n",
      "  on the subranges.  Perhaps a special-purpose integrator should be used.\n",
      "  integ_total = np.array(integrate.quad(f_hist_up, np.min(histo_up[0]), np.max(histo_up[0]))) + np.array(integrate.quad(f_hist_down,  np.min(histo_down[0]),  np.max(histo_down[0])))\n",
      "C:\\Users\\virgi\\AppData\\Local\\Temp/ipykernel_19416/4279502438.py:456: IntegrationWarning: The maximum number of subdivisions (50) has been achieved.\n",
      "  If increasing the limit yields no improvement it is advised to analyze \n",
      "  the integrand in order to determine the difficulties.  If the position of a \n",
      "  local difficulty can be determined (singularity, discontinuity) one will \n",
      "  probably gain from splitting up the interval and calling the integrator \n",
      "  on the subranges.  Perhaps a special-purpose integrator should be used.\n",
      "  integ_up = integrate.quad(f_hist_up, np.min(histo_up[0]), signal)\n"
     ]
    }
   ],
   "source": [
    "# CALCULATE FIDELITY AS CONSTANCE\n",
    "\n",
    "epsilon = 0.005 \n",
    "#epsilon is so that we make sure we don't integrate out of the boundaries of the interpolated function\n",
    "#n_traces = int(n_traces/factor_ntraces)\n",
    "\n",
    "signal_threshold = np.linspace(range_min + epsilon, range_max - epsilon,50)\n",
    "t_max=2000\n",
    "\n",
    "fidelity_down, fidelity_up, error = fidelity_Virginia(signal_threshold,A,range_min,range_max,std_low,std_up, signal_low,signal_high,t_int,t_out,t_in,t_max,n_points_time,n_traces,num_bins , 0)\n"
   ]
  },
  {
   "cell_type": "code",
   "execution_count": 1131,
   "metadata": {
    "ExecuteTime": {
     "end_time": "2021-09-07T16:19:26.595277Z",
     "start_time": "2021-09-07T16:19:26.357062Z"
    }
   },
   "outputs": [
    {
     "name": "stdout",
     "output_type": "stream",
     "text": [
      "max visibility = 0.9733414945702967 at -2.546989572545515\n"
     ]
    },
    {
     "name": "stderr",
     "output_type": "stream",
     "text": [
      "C:\\Users\\virgi\\AppData\\Local\\Temp/ipykernel_19416/3730769154.py:23: MatplotlibDeprecationWarning: savefig() got unexpected keyword argument \"rasterized\" which is no longer supported as of 3.3 and will become an error two minor releases later\n",
      "  plt.savefig(\"fidelity.png\",dpi=600, bbox_inches = \"tight\", rasterized='True')\n"
     ]
    },
    {
     "data": {
      "image/png": "[encoded data removed]",
      "text/plain": [
       "<Figure size 239.103x147.774 with 1 Axes>"
      ]
     },
     "metadata": {
      "needs_background": "light"
     },
     "output_type": "display_data"
    }
   ],
   "source": [
    "plt.figure()\n",
    "fig_width_pt = 240.0  # Get this from LaTeX using \\showthe\\columnwidth\n",
    "inches_per_pt = 1.0/72.27\t\t\t\t# Convert pt to inch\n",
    "golden_mean = (math.sqrt(5)-1.0)/2.0\t\t # Aesthetic ratio\n",
    "fig_width = fig_width_pt*inches_per_pt\t# width in inches\n",
    "fig_height = fig_width*golden_mean\t\t# height in inches\n",
    "fig_size =\t[fig_width,fig_height]\n",
    "plt.rcParams['legend.fontsize'] = 8\n",
    "plt.rcParams['figure.figsize'] = fig_size\n",
    "\n",
    "plt.plot(signal_threshold-signal_low,fidelity_down, color=(120/255,120/255,120/255), label=r' Spin down')#Fidelity$_{\\downarrow}$')\n",
    "\n",
    "\n",
    "plt.plot(signal_threshold-signal_low,fidelity_up, color= (255/255,66/255,66/255), label=r'Spin up')#Fidelity$_{\\uparrow}$' )\n",
    "plt.plot(signal_threshold-signal_low,np.array(fidelity_up)+np.array(fidelity_down)-1,'--',label='Visbility',c='k')\n",
    "\n",
    "plt.legend(loc=1, fontsize=8)\n",
    "plt.xlabel(\"Threshold voltage (V) \", {'color': 'k', 'fontsize': 14})\n",
    "plt.ylabel(\"Fidelity\", {'color': 'k', 'fontsize': 14})\n",
    "plt.xticks( color='k', size=12)\n",
    "plt.yticks( color='k', size=12)\n",
    "\n",
    "plt.savefig(\"fidelity.png\",dpi=600, bbox_inches = \"tight\", rasterized='True')\n",
    "print(\"max visibility =\", np.max(np.array(fidelity_up)+np.array(fidelity_down)-1),'at', signal_threshold[np.argmax(np.array(fidelity_up)+np.array(fidelity_down)-1)])"
   ]
  },
  {
   "cell_type": "code",
   "execution_count": 1132,
   "metadata": {
    "ExecuteTime": {
     "end_time": "2021-09-07T16:19:26.610230Z",
     "start_time": "2021-09-07T16:19:26.596272Z"
    }
   },
   "outputs": [
    {
     "data": {
      "text/plain": [
       "0.9733414945702967"
      ]
     },
     "execution_count": 1132,
     "metadata": {},
     "output_type": "execute_result"
    }
   ],
   "source": [
    "visibility=np.array(fidelity_up)+np.array(fidelity_down)-1\n",
    "visibility.max()"
   ]
  },
  {
   "cell_type": "code",
   "execution_count": null,
   "metadata": {},
   "outputs": [],
   "source": []
  },
  {
   "cell_type": "code",
   "execution_count": null,
   "metadata": {},
   "outputs": [],
   "source": []
  }
 ],
 "metadata": {
  "kernelspec": {
   "display_name": "Python 3 (ipykernel)",
   "language": "python",
   "name": "python3"
  },
  "language_info": {
   "codemirror_mode": {
    "name": "ipython",
    "version": 3
   },
   "file_extension": ".py",
   "mimetype": "text/x-python",
   "name": "python",
   "nbconvert_exporter": "python",
   "pygments_lexer": "ipython3",
   "version": "3.8.11"
  },
  "toc": {
   "base_numbering": 1,
   "nav_menu": {},
   "number_sections": true,
   "sideBar": true,
   "skip_h1_title": false,
   "title_cell": "Table of Contents",
   "title_sidebar": "Contents",
   "toc_cell": false,
   "toc_position": {
    "height": "549.588px",
    "left": "21px",
    "top": "145.284px",
    "width": "383.925px"
   },
   "toc_section_display": true,
   "toc_window_display": true
  }
 },
 "nbformat": 4,
 "nbformat_minor": 4
}
