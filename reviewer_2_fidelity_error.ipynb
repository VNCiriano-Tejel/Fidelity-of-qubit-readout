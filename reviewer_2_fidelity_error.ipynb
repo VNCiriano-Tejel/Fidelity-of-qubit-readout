{
 "cells": [
  {
   "cell_type": "code",
   "execution_count": 1,
   "metadata": {
    "ExecuteTime": {
     "end_time": "2022-08-18T16:11:30.502763Z",
     "start_time": "2022-08-18T16:11:25.342748Z"
    }
   },
   "outputs": [],
   "source": [
    "import qcodes as qc\n",
    "import numpy as np\n",
    "import matplotlib.pyplot as plt\n",
    "from qcodes.data.data_set import load_data\n",
    "import scipy.signal as signal\n",
    "import scipy\n",
    "#from qcodes.plots.qcmatplotlib import MatPlot\n",
    "from qcodes.plots.pyqtgraph import QtPlot\n",
    "\n",
    "import numpy as np\n",
    "import matplotlib.pyplot as plt\n",
    "\n",
    "from scipy.interpolate import interp1d\n",
    "from scipy import integrate \n",
    "\n",
    "import math\n",
    "from lmfit import Model\n",
    "import qcodes.dataset.experiment_container as exc\n",
    "#from qcodes.dataset.plotting import plot_by_id, get_data_by_id, plot_dataset\n",
    "from qcodes.dataset.data_set import load_by_run_spec, load_by_id"
   ]
  },
  {
   "cell_type": "markdown",
   "metadata": {},
   "source": [
    "# Functions"
   ]
  },
  {
   "cell_type": "code",
   "execution_count": 2,
   "metadata": {
    "ExecuteTime": {
     "end_time": "2022-08-18T16:11:30.550600Z",
     "start_time": "2022-08-18T16:11:30.504760Z"
    },
    "code_folding": [
     0,
     27,
     44,
     147,
     177,
     242,
     259,
     269,
     316,
     338,
     365,
     370,
     420
    ]
   },
   "outputs": [],
   "source": [
    "def charge_data(id_1): # opens the data \n",
    "\t'''\n",
    "    Opens database experiment\n",
    "    Parameters\n",
    "    ----------\n",
    "    id_1: int.\n",
    "        database id.\n",
    "    Returns\n",
    "    -------\n",
    "    integer: 1d array.\n",
    "        number of trace\n",
    "    X: 2d array.\n",
    "         reflectometry traces in I.\n",
    "    Y: 2d array.\n",
    "         reflectometry traces in Q.\n",
    "    sweep: 1d array.\n",
    "        Trace time in us.\n",
    "    '''\n",
    "\n",
    "\tdataset=load_by_id(id_1)\n",
    "\n",
    "\tinteger=np.unique(dataset.get_parameter_data()[\"Distance\"][\"integer\"])\n",
    "\tX=(dataset.get_parameter_data()[\"I\"][\"I\"])\n",
    "\tY=(dataset.get_parameter_data()[\"Q\"][\"Q\"])\n",
    "\tsweep=(dataset.get_parameter_data()[\"RF_sweep\"][\"RF_sweep\"] )[0]\t \n",
    "\n",
    "\treturn integer,X, Y, sweep\n",
    "def moving_average(a, n=20) :\n",
    "\t'''\n",
    "    Moving average on array a\n",
    "    Parameters\n",
    "    ----------\n",
    "    a: 1d array.\n",
    "        array with data.\n",
    "    n: int.\n",
    "        length of the moving average. When n=20 a moving average is perform on array a every 20 points\n",
    "    Returns\n",
    "    -------\n",
    "    1d array.\n",
    "        moving average of array a\n",
    "    '''\n",
    "\tret = np.cumsum(a, dtype=float)\n",
    "\tret[n:] = ret[n:] - ret[:-n]\n",
    "\treturn ret[n - 1:] / n \n",
    "def IQ_plot(id_1,jupyter_name,sweep, X,Y,signal_start,signal_end, bg_start,bg_end):\n",
    "\t'''\n",
    "    Plots maximums over two different time intervals in the IQ plane from the traces taken.\n",
    "    Calculate the center of the signal and std for the maximums over both time intervals.\n",
    "    The first interval si a mixture between signal and background.\n",
    "    The second interval corresponds to only background since the bleep (spin up) has already happened.\n",
    "    Parameters\n",
    "    ----------\n",
    "    id_1: int.\n",
    "        database id.\n",
    "    integer: 1d array.\n",
    "        number of trace\n",
    "    jupyter_name: string.\n",
    "         title of the plot.\n",
    "    X: 2d array.\n",
    "         reflectometry traces in I.\n",
    "    Y: 2d array.\n",
    "         reflectometry traces in Q.\n",
    "    sweep: 1d array.\n",
    "        Trace time in us.\n",
    "    signal_start: float.\n",
    "        start of the first interval in us.\n",
    "    signal_end: float.\n",
    "        end of the first interval in us.\n",
    "    bg_start: float.\n",
    "        start of the second interval in us.\n",
    "    bg_end: float.\n",
    "        end of the second interval in us.\n",
    "    Returns\n",
    "    -------\n",
    "    maximum_X: float.\n",
    "        mean in I of the maximums during first interval.\n",
    "    maximum_Y: float.\n",
    "        mean in Q of the maximums during first interval.\n",
    "    background_X: float.\n",
    "        mean in I of the maximums during second interval.\n",
    "    background_Y: float.\n",
    "        mean in I of the maximums during second interval.\n",
    "    '''\n",
    "\tmaximum_X=np.zeros(len(X))\n",
    "\tmaximum_Y=np.zeros(len(X))\n",
    "\n",
    "\tbackground_X=np.zeros(len(X))\n",
    "\tbackground_Y=np.zeros(len(X))\n",
    "\n",
    "\tfor a in range(len(X)):\n",
    "\t\tminim= np.where(sweep>= signal_start)[0][0]\n",
    "\t\tmaxim= np.where(sweep>= signal_end)[0][0]\n",
    "\t\tmaximum_X[a]=X[a][minim:maxim].min()\n",
    "\t\tmaximum_Y[a]=Y[a][minim:maxim].max()\n",
    "\n",
    "\t\tminim= np.where(sweep>= bg_start)[0][0]\n",
    "\t\tmaxim= np.where(sweep>= bg_end)[0][0]\n",
    "\t\tbackground_X[a]=X[a][minim:maxim].min()\n",
    "\t\tbackground_Y[a]=Y[a][minim:maxim].max()\n",
    "\t\t\n",
    "\tfig_width_pt = 320.0  # Get this from LaTeX using \\showthe\\columnwidth\n",
    "\tinches_per_pt = 1.0/72.27\t\t\t\t# Convert pt to inch\n",
    "\tgolden_mean = (math.sqrt(5)-1.0)/2.0\t\t # Aesthetic ratio\n",
    "\tfig_width = fig_width_pt*inches_per_pt\t# width in inches\n",
    "\tfig_height = fig_width\t\t# height in inches\n",
    "\tfig_size =\t[fig_width,fig_height]\n",
    "\tplt.rcParams['legend.fontsize'] = 8\n",
    "\tplt.rcParams['figure.figsize'] = fig_size\n",
    "\t\t\n",
    "\tplt.axis(\"Equal\")\n",
    "\tplt.scatter(maximum_X,maximum_Y ,label=\"signal.max\",alpha=0.9,s=19)\n",
    "\tplt.scatter(background_X,background_Y,label=\"background.max\",alpha=0.3,s=10)\n",
    "\t\n",
    "\n",
    "\tplt.xlabel(\"I_max (V)\")\n",
    "\tplt.ylabel(\"Q_max (V)\")\n",
    "\tplt.title(str(id_1)+\" \"+str(jupyter_name))\n",
    "\n",
    "\tplt.legend()\n",
    "\n",
    "\t\t\n",
    "\ttheta = np.linspace(0, 2*np.pi, 100)\n",
    "\n",
    "\t\n",
    "\tstand_dev_maximum=0\n",
    "\t\n",
    "\tfor b in range(len(maximum_X)):\n",
    "\t\tstand_dev_maximum=stand_dev_maximum+np.sqrt((maximum_X[b]-np.mean(maximum_X))**2+(maximum_Y[b]-np.mean(maximum_Y))**2)\n",
    "\t\n",
    "\t\n",
    "\tr = stand_dev_maximum/len(maximum_X)\n",
    "\n",
    "\tcirclex = r*np.cos(theta)+np.mean(maximum_X)\n",
    "\tcircley= r*np.sin(theta)+np.mean(maximum_Y)\n",
    "\tplt.plot(circlex,circley,'k')\n",
    "\n",
    "\tstand_dev_off=0\n",
    "\tfor b in range(len(maximum_X)):\n",
    "\t\tstand_dev_off=stand_dev_off+np.sqrt((background_X[b]-np.mean(background_X))**2+(background_Y[b]-np.mean(background_Y))**2)\n",
    "\n",
    "\tr = stand_dev_off/len(maximum_X)\n",
    "\n",
    "\tcirclex = r*np.cos(theta)+np.mean(background_X)\n",
    "\tcircley= r*np.sin(theta)+np.mean(background_Y)\n",
    "\tplt.plot(circlex,circley,'k')\n",
    "\tplt.show()\n",
    "\treturn maximum_X,maximum_Y,background_X,background_Y \n",
    "def projection(integer,X, Y, sweep,angle):\n",
    "\t'''\n",
    "    projects IQ data into an axis\n",
    "    Parameters\n",
    "    ----------\n",
    "    integer: 1d array.\n",
    "        number of trace\n",
    "    X: 2d array.\n",
    "         reflectometry traces in I.\n",
    "    Y: 2d array.\n",
    "         reflectometry traces in Q.\n",
    "    sweep: 1d array.\n",
    "        Trace time in us.\n",
    "    angle: float.\n",
    "        angle in radians between I axis and axis in which the signal is going to be projected onto.\n",
    "    Returns\n",
    "    -------\n",
    "    projected: 2d array.\n",
    "        IQ traces projected to best angle.\n",
    "    projected1: 2d array.\n",
    "        IQ traces projected perpendicularly to best angle. \n",
    "    '''\n",
    "\tX=np.resize(X, (len(integer),len(sweep))) \n",
    "\tY=np.resize(Y, (len(integer),len(sweep)))\n",
    "\tprojected=np.zeros((len(integer),len(sweep)))\n",
    "\tprojected1=np.zeros((len(integer),len(sweep)))\n",
    "\tfor a in range(int(len(integer))):\n",
    "\t\tprojected[a]=X[a]*np.cos(angle)+Y[a]*np.sin(angle)\n",
    "\t\tprojected1[a]=-X[a]*np.sin(angle)+Y[a]*np.cos(angle)\n",
    "\treturn projected, projected1 # \n",
    "def model_fit1( datax, datay, function, title,xlabel,ylabel,plot, init={}, bounds={},**kwargs):\n",
    "\t'''\n",
    "    Fits data to any function\n",
    "    Parameters\n",
    "    ----------\n",
    "    datax: 1d array.\n",
    "        x- axis from the data to be fitted\n",
    "    datay: 1d array.\n",
    "        y- axis from the data to be fitted\n",
    "    function: python function\n",
    "         function to be fitted\n",
    "    title: string.\n",
    "        title of the plot.\n",
    "    xlabel: string.\n",
    "        xlabel of the plot.\n",
    "    ylabel: string.\n",
    "        ylabel of the plot.\n",
    "    plot: bool.\n",
    "        True to plot, False to dont plot\n",
    "    Returns\n",
    "    -------\n",
    "    out.best_values: 1d array.\n",
    "        value of the fitted parameters.\n",
    "    errors: 1d array.\n",
    "        std of the parameters fitted\n",
    "    '''\n",
    "\tfrom lmfit import Model\n",
    "\tgmodel = Model(function)\n",
    "\tparams = gmodel.make_params()\n",
    "\t\n",
    "\tfor param in init.keys():\n",
    "\t\tif param in params:\n",
    "\t\t\tparams[param].value = init[param]\n",
    "\n",
    "\tfor param in bounds.keys():\n",
    "\t\tif param in params:\n",
    "\t\t\tparams[param].min = init[param][0]\n",
    "\t\t\tparams[param].max = init[param][1]\n",
    "\t\n",
    "\tout = gmodel.fit(datay,params, x=datax,sigma=2, **kwargs)\n",
    "\tdely = out.eval_uncertainty(x=datax,sigma=2)\n",
    "  \n",
    "\n",
    "\tif plot:\n",
    "\t\tplt.xlabel(xlabel, {'color': 'k', 'fontsize': 15}, )\n",
    "\t\tplt.ylabel(ylabel, {'color': 'k', 'fontsize': 15})\n",
    "\t\tplt.xticks( color='k', size=12)\n",
    "\t\tplt.yticks( color='k', size=12)\n",
    "\t\tplt.title(\"Model \"+title,size=16)\n",
    "\t\tplt.plot(datax, out.best_fit, 'r-', label='best fit')\n",
    "\t\tplt.scatter(datax , datay)\n",
    "\t\t#plt.fill_between(datax , out.best_fit-dely, out.best_fit+dely,color=\"#ABABAB\",label='$\\sigma$ uncertainty band')\n",
    "\t\tplt.legend(loc='best')\n",
    "\n",
    "\t\tplt.show()\n",
    "  \n",
    "\tkeys=list(params.valuesdict().keys() )\n",
    "\n",
    "\terror = {}\n",
    "\tfor i in range(len(keys)):\n",
    "\t\ttry:\n",
    "\t\t  error[keys[i]+\"_std\"] = np.absolute(out.covar[i][i])**0.5\n",
    "\t\texcept:\n",
    "\t\t  error[keys[i]+\"_std\"] = 0\n",
    "\treturn out.best_values, error\n",
    "def gaussian_function(x, mu, sigma):\n",
    "\t'''\n",
    "    Gaussian function\n",
    "    Parameters\n",
    "    ----------\n",
    "    datax: 1d array.\n",
    "        x- axis from the data to be fitted\n",
    "    mu: float.\n",
    "        median of the gaussian\n",
    "    sigma: float.\n",
    "         standard deviation of the gaussian\n",
    "    Returns\n",
    "    -------\n",
    "    1d array.\n",
    "        Gaussian fucntion\n",
    "    '''\n",
    "\treturn 1/sigma/np.sqrt(2*np.pi)*np.exp(-1/2*((x-mu)/sigma)**2)\n",
    "def fourier_transf(I,acqtime ):\n",
    "    I=I-np.mean(I)\n",
    "    #plt.plot(I)\n",
    "    fourier = np.fft.fft(I)\n",
    "    n = I.size\n",
    "    timestep = 1/n*acqtime\n",
    "    freq = np.fft.fftfreq(n, d=timestep)\n",
    "    #plt.scatter(freq, fourier)\n",
    "    plt.xlabel(\"Frequency (Hz)\")\n",
    "    return freq[0:int(n/2)], fourier[0:int(n/2)]\n",
    "def simulate_ss_out(A,std_down,std_up ,signal_low,signal_high,t_int,t_out,t_in,t_max,n_points_time, plot_trace = 0):\n",
    "    #v2 + add T_out\n",
    "    \n",
    "    # time list \n",
    "    #n_points_time = 1952 #number of points\n",
    "    #t_max = 2000 #mus\n",
    "    t = np.array(np.linspace(0,2000,n_points_time))\n",
    "    \n",
    "    # Indexes of time during which we will take the max of the trace + for the bg\n",
    "    \n",
    "    meas_time=t[(t<=t_max)]\n",
    "    #minim_time_bg= np.where(list_t>= 1460)[0][0]\n",
    "    #maxim_time_bg= np.where(list_t>= 1860)[0][0]\n",
    "        \n",
    "    # assign spin\n",
    "    choose_spin = np.random.binomial(1,A,1) #create 1 with proba A and 0 with proba (1-A)\n",
    "    \n",
    "    if choose_spin == 1 : # spin down because A = <P_down>\n",
    "    # create a blip of spin down i.e. noise centred at signal_low and take the max\n",
    "        line_spindown = moving_average(np.random.normal(signal_low,std_down,len(meas_time)),t_int) \n",
    "        \n",
    "        \n",
    "        max_ss = np.max(line_spindown)\n",
    "        #max_ss_bg = np.max(line_spindown[minim_time_bg:maxim_time_bg])\n",
    "        \n",
    "        if plot_trace == 1 :\n",
    "            plt.title('Spin down with Tint = %f, T_in = %f'%(t_int,t_in))\n",
    "            plt.plot(list_t,line_spindown)\n",
    "            plt.legend()\n",
    "            #plt.ylim((-0.05,0.25))\n",
    "            plt.grid()\n",
    "    \n",
    "    if choose_spin == 0 : #spin up\n",
    "    # create a blip of spin up and take the max\n",
    "        line_spinup =simple_ss_n_in_out(meas_time, t_in, t_out,std_down, std_up,t_int,signal_low, signal_high)\n",
    "        #line_spinup = ss_n_in_out_scaled_2std(t,t_in,t_out,t_bw,std_down,std_up,t_int,signal_low,signal_high)\n",
    "        max_ss = np.max(line_spinup)\n",
    "        #max_ss_bg = np.max(line_spinup[minim_time_bg:maxim_time_bg])\n",
    "        \n",
    "        if plot_trace == 1 :\n",
    "            plt.title('Spin up with Tint = %f, T_in = %f'%(t_int,t_in))\n",
    "            plt.plot(t_list,line_spinup)\n",
    "            plt.legend()\n",
    "            #plt.ylim((-0.05,0.25))\n",
    "            plt.grid()\n",
    "            \n",
    "    return(max_ss,choose_spin)  \n",
    "def simple_ss_n_in_out(t, t_in, t_out, std_low,std_high,t_int,signal_low =0, signal_high = 1):\n",
    "    ss_x=np.zeros(len(t))\n",
    "    \n",
    "    t_leave=np.random.exponential(t_out) #random t_out time\n",
    "    t_enter=np.random.exponential(t_in) #random t_in time\n",
    "    \n",
    "    i_leave = np.where(t<=t_leave)[0][-1]    \n",
    "    i_enter = np.where(t<=t_enter+t_leave)[0][-1]\n",
    "    \n",
    "    \n",
    "    ss_x[0:i_leave] = signal_low + np.random.normal(0,std_low,len(t[0:i_leave])) \n",
    "\n",
    "    if i_enter == i_leave : #means T_enter = 0\n",
    "        ss_x[i_leave:] =  signal_low + np.random.normal(0,std_low,len(t[i_leave:]))\n",
    "\n",
    "    else : \n",
    "        ss_x[i_leave:i_enter] = signal_high + np.random.normal(0,std_high,len(t[i_leave:i_enter]))\n",
    "        ss_x[i_enter:] = signal_low + np.random.normal(0,std_high,len(t[i_enter:])) #+1 to make it continuous]\n",
    "\n",
    "    # test another type of rolling avergae\n",
    "    ss_x = moving_average(ss_x,t_int)\n",
    "    return ss_x\n",
    "def histogram_data (data,Tint, number_bins =60, range_min = 0, range_max = 0.3):\n",
    "    x = np.array(data.maximum_distance)\n",
    "    y = np.array(data.maximum_bg)\n",
    "    \n",
    "    #make histogram\n",
    "    hist_max, bin_edges_max = np.histogram(x, bins=number_bins, range=(range_min,range_max))    \n",
    "    hist_max_bg, bin_edges_max_bg = np.histogram(y, bins=number_bins,range=(range_min,range_max) ) \n",
    "    \n",
    "    plt.figure()\n",
    "    plt.hist(x, bins=number_bins, range=(range_min,range_max),alpha = 0.7, label='signal')\n",
    "    #plt.hist(y, bins=number_bins, range=(range_min,range_max), alpha = 0.7,label='background' )\n",
    "    plt.title(\"histogram at Tint = %f us\" %Tint) \n",
    "    plt.show()\n",
    "    plt.legend()\n",
    "    #plt.savefig('1histogram.png')\n",
    "    \n",
    "    \n",
    "    #plt.figure()\n",
    "    plt.plot(get_inter_bins(bin_edges_max),hist_max, label='signal')\n",
    "    #plt.plot(get_inter_bins(bin_edges_max_bg),hist_max_bg,label ='background')\n",
    "    plt.legend()\n",
    "    plt.xlabel('Distance(V)')\n",
    "    plt.grid()\n",
    "    #plt.title('Tint = 2.5us')\n",
    "\n",
    "    return(get_inter_bins(bin_edges_max),hist_max,get_inter_bins(bin_edges_max_bg),hist_max_bg)\n",
    "# Create list with center of bin_edges so that we can plot the histogram as a curve \n",
    "def get_inter_bins(bins):\n",
    "    res = []\n",
    "    for i in range (len(bins)-1):\n",
    "        res.append( 1/2*(bins[i]+bins[i+1]))\n",
    "    return(res)\n",
    "def simulate_histogram_updown_Virginia(A,range_min,range_max,std_down,std_up, signal_low,signal_high,t_int,t_out,t_in,t_max,n_points_time,n_traces,num_bins = 60,plot_histo = 1):\n",
    "    #returns the histograms of spin up and down\n",
    "    \n",
    "    max_ss_up = []\n",
    "    max_ss_down = []\n",
    "    \n",
    "\n",
    "    # Do many traces and get max\n",
    "    for i in range(n_traces):\n",
    "        ss_readout = simulate_ss_out(A,std_down,std_up,signal_low,signal_high,t_int,t_out,t_in,t_max,n_points_time, 0)\n",
    "\n",
    "        if ss_readout[1] == 1 : #choose_spin = 1 so spin is down\n",
    "            max_ss_down.append(ss_readout[0])\n",
    "            \n",
    "\n",
    "        if ss_readout[1] == 0 : #choose_spin = 0 so spin is up\n",
    "            max_ss_up.append(ss_readout[0])\n",
    "            \n",
    "        \n",
    "        #if i==np.int(n_traces/2):\n",
    "        #    print('Progress>50%')\n",
    "    \n",
    "    max_ss_up = np.array(max_ss_up)\n",
    "    max_ss_down = np.array(max_ss_down)\n",
    "    \n",
    "    ma = np.append(max_ss_up,max_ss_down)\n",
    "   \n",
    "    \n",
    "\n",
    "    hist_max_ss_up, bin_edges_max_ss_up = np.histogram(max_ss_up,bins=num_bins,range = (range_min,range_max))    \n",
    "    hist_max_ss_down, bin_edges_max_ss_down = np.histogram(max_ss_down, bins=num_bins,range=(range_min,range_max) )\n",
    "\n",
    "    if plot_histo == 1:\n",
    "        # Plot the histogram \n",
    "        plt.hist(max_ss_up,bins=num_bins,range = (range_min,range_max), label = 'spin up', alpha = 0.5)  \n",
    "        plt.hist(max_ss_down,bins=num_bins,range = (range_min,range_max), label = 'spin down', alpha = 0.5)\n",
    "        plt.xlabel(\"Signal\")\n",
    "        plt.ylabel(\"Probability\")\n",
    "        plt.title('Simulated histogram')\n",
    "        print('Parameters for the simulation :')\n",
    "        print('T_int = %f us, T_in = %f us, T_out = %f us, T_bw = %f us' %(t_int,t_in,t_out,t_bw))\n",
    "        print('A = %f, std = %f'%(A,std))\n",
    "        plt.legend()\n",
    "        plt.show()\n",
    "        #plt.savefig('1histogram.png')\n",
    "\n",
    "\n",
    "    #return(get_inter_bins(bin_edges_max_ss),hist_max_ss,ma)\n",
    "    return(get_inter_bins(bin_edges_max_ss_up),hist_max_ss_up,get_inter_bins(bin_edges_max_ss_down),hist_max_ss_down)\n",
    "\n",
    "def fidelity_Virginia(threshold_signal, A, range_min,range_max,std_down,std_up, signal_low,signal_high,t_int,t_out,t_in,t_max,n_points_time,n_traces,num_bins = 60,plot_histo = 1, plot_distrib=0):\n",
    "    print(t_int)\n",
    "    res = simulate_histogram_updown_Virginia(A,range_min,range_max,std_bg,std_up, signal_low,signal_high,t_int,t_out,t_in,t_max,n_points_time,n_traces,num_bins , plot_histo)\n",
    "    \n",
    "    histo_up = (res[0],res[1])\n",
    "    histo_down = (res[2],res[3])\n",
    "    \n",
    "    #plot_distrib = 0\n",
    "    if plot_distrib == 1:\n",
    "        # -----------------------\n",
    "        plt.plot(histo_up[0], histo_up[1],label='spin up signal')\n",
    "        plt.plot(histo_down[0], histo_down[1],label='spin down signal')\n",
    "\n",
    "\n",
    "        # Caption\n",
    "        #------------------------\n",
    "        plt.legend()\n",
    "        plt.xlabel(\"Signal\")\n",
    "        plt.ylabel(\"Probability\")\n",
    "        plt.title('Simulated histogram Tin=%f'%t_in)\n",
    "        #plt.savefig('2_histogram_Tin=%f.png'%t_in)\n",
    "\n",
    "    f_hist_up = interp1d(histo_up[0], histo_up[1],kind='cubic')\n",
    "    f_hist_down = interp1d(histo_down[0], histo_down[1],kind='cubic')\n",
    "    \n",
    "    def f_total(x):\n",
    "        return(f_hist_up(x)+f_hist_down(x))\n",
    "    \n",
    "    fidelity_up = []\n",
    "    fidelity_down = []\n",
    "    fidelity_error = []\n",
    "    \n",
    "    if type(threshold_signal)==np.ndarray or type(threshold_signal)==list:\n",
    "        for signal in threshold_signal:\n",
    "            integ_up = integrate.quad(f_hist_up, np.min(histo_up[0]), signal)\n",
    "            integ_down = integrate.quad(f_hist_down, signal, np.max(histo_down[0]))\n",
    "\n",
    "            #integ_total = integrate.quad(f_total, range_min, range_max)\n",
    "            integ_total = np.array(integrate.quad(f_hist_up, np.min(histo_up[0]), np.max(histo_up[0]))) + np.array(integrate.quad(f_hist_down,  np.min(histo_down[0]),  np.max(histo_down[0])))\n",
    "\n",
    "            #print(integ_total)\n",
    "            error_total_integral = np.abs((histo_up[0][2]-histo_up[0][1])*n_traces - integ_total[0])\n",
    "            \n",
    "            fidelity_up.append(1-integ_up[0]/integ_total[0])\n",
    "            fidelity_down.append(1-integ_down[0]/integ_total[0])\n",
    "            fidelity_error.append(error_total_integral)\n",
    "            \n",
    "        return(fidelity_down,fidelity_up,fidelity_error)\n",
    "\n",
    "    \n",
    "    elif type(threshold_signal)==float or type(threshold_signal)==int:\n",
    "        integ_up = integrate.quad(f_hist_up, np.min(histo_up[0]), signal)\n",
    "        integ_down = integrate.quad(f_hist_down, signal, np.max(histo_down[0]))\n",
    "\n",
    "        #integ_total = integrate.quad(f_total, range_min, range_max)\n",
    "        integ_total = np.array(integrate.quad(f_hist_up, np.min(histo_up[0]), np.max(histo_up[0]))) + np.array(integrate.quad(f_hist_down,  np.min(histo_down[0]),  np.max(histo_down[0])))\n",
    "\n",
    "        #print(integ_total)\n",
    "        error_total_integral = np.abs((histo_up[0][2]-histo_up[0][1])*n_traces - integ_total[0])\n",
    "           \n",
    "        return(1-integ_down[0]/integ_total[0],1-integ_up[0]/integ_total[0],error_total_integral)"
   ]
  },
  {
   "cell_type": "code",
   "execution_count": 3,
   "metadata": {
    "ExecuteTime": {
     "end_time": "2022-08-18T16:11:31.248850Z",
     "start_time": "2022-08-18T16:11:31.236897Z"
    },
    "code_folding": [
     1,
     29,
     94
    ]
   },
   "outputs": [],
   "source": [
    "# perform a fit using lmfit given inital values and bounds\n",
    "def fit(x, y, func, init={}, bounds={}, fixed = {}, steps = {}, step_size = 1e-7):\n",
    "    \n",
    "    gmodel = Model(func)\n",
    "    params = gmodel.make_params()\n",
    "    \n",
    "    for param in fixed.keys():\n",
    "        if param in params:\n",
    "            params[param].set(fixed[param],vary=False)\n",
    "    \n",
    "    for param in init.keys():\n",
    "        if param in params:\n",
    "            params[param].value = init[param]\n",
    "\n",
    "    for param in bounds.keys():\n",
    "        if param in params:\n",
    "            params[param].min = bounds[param][0]\n",
    "            params[param].max = bounds[param][1]\n",
    "    \n",
    "    for param in steps.keys():\n",
    "        if param in params:\n",
    "            params[param].set(brute_step=steps[param])\n",
    "    \n",
    "            \n",
    "    #return gmodel.fit(y, params, x=x,method='brute')\n",
    "    return (gmodel.fit(y, params, x=x, fit_kws = {'epsfcn':step_size}))\n",
    "\n",
    "\n",
    "\n",
    "def simulate_histogram_out(A,range_min,range_max,std_down,std_up, signal_low,signal_high,t_int,t_out,t_in,t_max,n_points_time,n_traces,num_bins = 60,plot_histo = 1): \n",
    "    max_ss_up = []\n",
    "    max_ss_down = []\n",
    "    max_ss_bg = []\n",
    "\n",
    "    # Do many traces and get max\n",
    "    for i in range(n_traces):\n",
    "        \n",
    "        # Plot the traces for the first 5 traces \n",
    "        #if i<5 :\n",
    "        #    ss_readout = simulate_ss_out(A,std_down,signal_low,signal_high,t_int,t_out,t_in,t_max,n_points_time, 1)\n",
    "\n",
    "        #else :\n",
    "        ss_readout = simulate_ss_out(A,std_down,std_up,signal_low,signal_high,t_int,t_out,t_in,t_max,n_points_time, 0)\n",
    "            \n",
    "        if ss_readout[1] == 1 : #choose_spin = 1 so spin is down\n",
    "            max_ss_down.append(ss_readout[0])\n",
    "            #max_ss_bg.append(ss_readout[1])\n",
    "\n",
    "        if ss_readout[1] == 0 : #choose_spin = 0 so spin is up\n",
    "            max_ss_up.append(ss_readout[0])\n",
    "            #max_ss_bg.append(ss_readout[1])\n",
    "        \n",
    "        #if i==np.int(n_traces/2):\n",
    "        #    print('Progress>50%')\n",
    "    \n",
    "    ma = np.append(np.array(max_ss_up),np.array(max_ss_down))\n",
    "    #max_ss_bg = np.array(max_ss_bg)\n",
    "\n",
    "\n",
    "    hist_max_ss, bin_edges_max_ss = np.histogram(ma,bins=num_bins,range = (range_min,range_max))    \n",
    "    #hist_max_ss_bg, bin_edges_max_ss_bg = np.histogram(max_ss_bg, bins=num_bins,range=(range_min,range_max) )\n",
    "    \n",
    "    bin_axis_ss= bin_edges_max_ss[0:-1]+( bin_edges_max_ss[1]- bin_edges_max_ss[0])/2\n",
    "    normalisation=( bin_edges_max_ss[1]- bin_edges_max_ss[0])*n_traces\n",
    "    \n",
    "    \n",
    "    #print('number of traces for bg =',len(max_ss_bg),'number of up traces =',len(max_ss_up))\n",
    "    if plot_histo == 1:\n",
    "        # Plot the histogram \n",
    "        plt.figure()\n",
    "        plt.hist(ma,bins=num_bins,label='total', alpha = 0.6,range = (range_min,range_max))\n",
    "        #plt.hist(max_ss_bg,bins=num_bins ,label='background', alpha = 0.5,range = (range_min,range_max))\n",
    "        plt.xlabel(\"Signal\")\n",
    "        plt.ylabel(\"Probability\")\n",
    "        plt.title('Simulated histogram')\n",
    "        print('Parameters for the simulation :')\n",
    "        print('T_int = %f us, T_in = %f us, T_out = %f us' %(t_int,t_in,t_out))\n",
    "        print('A = %f, std = %f'%(A,std_down))\n",
    "        plt.legend()\n",
    "        plt.show()\n",
    "        #plt.savefig('1histogram.png')\n",
    "\n",
    "        #Plot the histogram as lines \n",
    "        plt.title('Simulated histogram as lines')\n",
    "        plt.plot(get_inter_bins(bin_edges_max_ss),hist_max_ss, label='signal')\n",
    "        plt.plot(get_inter_bins(bin_edges_max_ss_bg),hist_max_ss_bg,label ='background')\n",
    "        plt.legend()\n",
    "        plt.xlabel('Distance(V)')\n",
    "        plt.grid()\n",
    "        #plt.title('Tint = 2.5us')\n",
    "\n",
    "    return(bin_axis_ss,hist_max_ss/normalisation)\n",
    "\n",
    "\n",
    "def fit_histogram_v2(x,A,range_min,range_max,std_low, std_up,signal_low,signal_high,t_int,t_out,t_in,t_max,n_points_time,n_traces,num_bins = 60, plot_histo = 0):\n",
    "    #interpolate the histogram after generating it\n",
    "    \n",
    "    #print('x=',x)\n",
    "    #print('signal_high=',signal_high)\n",
    "    #print(\"std_up\",std_up)\n",
    "    #print(\"A\",A)\n",
    "    (inter_bin_simu, hist_max_simu) =  simulate_histogram_out(A,range_min,range_max,std_low,std_up, signal_low,signal_high,t_int,t_out,t_in,t_max,n_points_time,n_traces,num_bins ,plot_histo  )\n",
    "    f_hist_inter = interp1d(inter_bin_simu, hist_max_simu, kind='cubic')\n",
    "    \n",
    "    return(f_hist_inter(x))"
   ]
  },
  {
   "cell_type": "code",
   "execution_count": 4,
   "metadata": {
    "ExecuteTime": {
     "end_time": "2022-08-18T16:11:31.480323Z",
     "start_time": "2022-08-18T16:11:31.460735Z"
    },
    "code_folding": [
     48
    ]
   },
   "outputs": [],
   "source": [
    "def simple_ss_n_in_out_sim(t, t_in, t_out, std_low, std_up, signal_low =0, signal_high = 1):\n",
    "    ss_x=np.zeros(len(t))\n",
    "    \n",
    "    t_leave=np.random.exponential(t_out) #random t_out time\n",
    "    t_enter=np.random.exponential(t_in) #random t_in time\n",
    "    \n",
    "    i_leave = np.where(t<=t_leave)[0][-1]    \n",
    "    i_enter = np.where(t<=t_enter+t_leave)[0][-1]\n",
    "    \n",
    "    \n",
    "    ss_x[0:i_leave] = signal_low + np.random.normal(0,std_low,len(t[0:i_leave])) \n",
    "\n",
    "    if i_enter == i_leave : #means T_enter = 0\n",
    "        ss_x[i_leave:] =  signal_low + np.random.normal(0,std_low,len(t[i_leave:]))\n",
    "\n",
    "    else : \n",
    "        ss_x[i_leave:i_enter] = signal_high + np.random.normal(0,std_low,len(t[i_leave:i_enter]))\n",
    "        ss_x[i_enter:] = signal_low + np.random.normal(0,std_low,len(t[i_enter:])) #+1 to make it continuous]\n",
    "\n",
    "    # test another type of rolling avergae\n",
    "   # ss_x = moving_average(ss_x,t_int)\n",
    "    return ss_x\n",
    "\n",
    "\n",
    "\n",
    "def simulate_distance(A,std_down,std_up ,signal_low,signal_high,t_out,t_in,n_points_time, n_traces,sweep):\n",
    "    ss = []\n",
    "    spin_number=np.empty(0)\n",
    "    \n",
    "    for i in range(n_traces):\n",
    "        choose_spin = np.random.binomial(1,A,1) #create 1 with proba A and 0 with proba (1-A)\n",
    "        spin_number = np.append(spin_number, choose_spin)\n",
    "        \n",
    "        if choose_spin == 1 : # spin down because A = <P_down>\n",
    "        # create a blip of spin down i.e. noise centred at signal_low and take the max\n",
    "            line_spin_down = signal_low + np.random.normal(0,std_down,n_points_time)\n",
    "            ss.append(line_spin_down )\n",
    "            \n",
    "            \n",
    "        if choose_spin == 0 : #spin up\n",
    "        # create a blip of spin up and take the max\n",
    "            line_spin_up =simple_ss_n_in_out_sim(sweep, t_in, t_out,std_down, std_up,signal_low, signal_high)\n",
    "            \n",
    "            ss.append( line_spin_up )\n",
    "            \n",
    "    ss=np.array(ss)\n",
    "    return(ss,spin_number)  \n",
    "\n",
    "def standard_deviation_error(x):\n",
    "    mean=np.mean(x)\n",
    "    n=len(x)\n",
    "    mu_4=1/n*np.sum((x-mean)**4)\n",
    "    se_s2=np.sqrt(1/n*(mu_4-(n-3)/(n-1)*np.std(x)**4))\n",
    "    return se_s2"
   ]
  },
  {
   "cell_type": "markdown",
   "metadata": {},
   "source": [
    "Standard deviation of standard deviation\n",
    "\n",
    "$se(s^2)= \\sqrt{\\frac{1}{n}(\\mu_4 -\\frac{n-3}{n-1}\\sigma^4)}$\n",
    "\n",
    "where $\\mu_4= E(X-\\mu)^4=\\frac{1}{n}[(x_1-\\mu)^4+...]$"
   ]
  },
  {
   "cell_type": "markdown",
   "metadata": {},
   "source": [
    "# Open file"
   ]
  },
  {
   "cell_type": "code",
   "execution_count": 5,
   "metadata": {
    "ExecuteTime": {
     "end_time": "2022-08-18T16:11:45.221990Z",
     "start_time": "2022-08-18T16:11:45.217006Z"
    }
   },
   "outputs": [],
   "source": [
    "import json\n",
    "id_1=2\n",
    "with open('JPA_off_vs_power_'+str(id_1)+'.json', 'r') as file:\n",
    "    signal_parameters_fit_read=json.load(file)"
   ]
  },
  {
   "cell_type": "markdown",
   "metadata": {},
   "source": [
    "# Error virginia"
   ]
  },
  {
   "cell_type": "markdown",
   "metadata": {},
   "source": [
    "### Predicted parameters (F_M) calculated like this"
   ]
  },
  {
   "cell_type": "code",
   "execution_count": 16,
   "metadata": {
    "ExecuteTime": {
     "end_time": "2022-08-18T16:16:33.813602Z",
     "start_time": "2022-08-18T16:16:33.799647Z"
    }
   },
   "outputs": [
    {
     "name": "stdout",
     "output_type": "stream",
     "text": [
      "[  0.   1.   2.   3.   4.   5.   6.   7.   8.   9.  10.  11.  12.  13.\n",
      "  14.  15.  16.  17.  18.  19.  20.  21.  22.  23.  24.  25.  26.  27.\n",
      "  28.  29.  30.  31.  32.  33.  34.  35.  36.  37.  38.  39.  40.  41.\n",
      "  42.  43.  44.  45.  46.  47.  48.  49.  50.  51.  52.  53.  54.  55.\n",
      "  56.  57.  58.  59.  60.  61.  62.  63.  64.  65.  66.  67.  68.  69.\n",
      "  70.  71.  72.  73.  74.  75.  76.  77.  78.  79.  80.  81.  82.  83.\n",
      "  84.  85.  86.  87.  88.  89.  90.  91.  92.  93.  94.  95.  96.  97.\n",
      "  98.  99. 100.]\n"
     ]
    }
   ],
   "source": [
    "# Generates distance\n",
    "\n",
    "# SIMULATION- CREATE DATA\n",
    "\n",
    "signal_low=signal_parameters_fit_read[\"mean_bg\"]\n",
    "signal_high=signal_parameters_fit_read[\"mean_up\"]\n",
    "std_bg=signal_parameters_fit_read[\"std_bg\"]\n",
    "std_up=signal_parameters_fit_read[\"std_up\"]\n",
    "\n",
    "\n",
    "t_in=signal_parameters_fit_read[\"t_in\"]\n",
    "t_out=signal_parameters_fit_read[\"t_out\"]\n",
    "\n",
    "A=signal_parameters_fit_read[\"A\"]\n",
    "\n",
    "t_max=[434]\n",
    "factor=20\n",
    "\n",
    "n_traces=100000\n",
    "n_points_time=434\n",
    "acquisition_time=435\n",
    "\n",
    "sweep_rem=np.linspace(0,acquisition_time,n_points_time)\n",
    "\n",
    "repetitions=100\n",
    "repetitions=np.linspace(0,repetitions, repetitions+1)\n",
    "print(repetitions)\n",
    "\n",
    "visibility_2D_map=np.zeros( len(repetitions))\n",
    "fidelity_up_def=np.zeros( len(repetitions))\n",
    "fidelity_down_def=np.zeros( len(repetitions))"
   ]
  },
  {
   "cell_type": "code",
   "execution_count": 17,
   "metadata": {
    "ExecuteTime": {
     "end_time": "2022-08-18T16:36:22.859708Z",
     "start_time": "2022-08-18T16:16:35.156995Z"
    },
    "scrolled": true
   },
   "outputs": [
    {
     "name": "stdout",
     "output_type": "stream",
     "text": [
      "0.0\n",
      "1.0\n",
      "2.0\n",
      "3.0\n",
      "4.0\n",
      "5.0\n",
      "6.0\n",
      "7.0\n",
      "8.0\n",
      "9.0\n",
      "10.0\n",
      "11.0\n",
      "12.0\n",
      "13.0\n",
      "14.0\n",
      "15.0\n",
      "16.0\n",
      "17.0\n",
      "18.0\n",
      "19.0\n",
      "20.0\n",
      "21.0\n",
      "22.0\n",
      "23.0\n",
      "24.0\n",
      "25.0\n",
      "26.0\n",
      "27.0\n",
      "28.0\n",
      "29.0\n",
      "30.0\n",
      "31.0\n",
      "32.0\n",
      "33.0\n",
      "34.0\n",
      "35.0\n",
      "36.0\n",
      "37.0\n",
      "38.0\n",
      "39.0\n",
      "40.0\n",
      "41.0\n",
      "42.0\n",
      "43.0\n",
      "44.0\n",
      "45.0\n",
      "46.0\n",
      "47.0\n",
      "48.0\n",
      "49.0\n",
      "50.0\n",
      "51.0\n",
      "52.0\n",
      "53.0\n",
      "54.0\n",
      "55.0\n",
      "56.0\n",
      "57.0\n",
      "58.0\n",
      "59.0\n",
      "60.0\n",
      "61.0\n",
      "62.0\n",
      "63.0\n",
      "64.0\n",
      "65.0\n",
      "66.0\n",
      "67.0\n",
      "68.0\n",
      "69.0\n",
      "70.0\n",
      "71.0\n",
      "72.0\n",
      "73.0\n",
      "74.0\n",
      "75.0\n",
      "76.0\n",
      "77.0\n",
      "78.0\n",
      "79.0\n",
      "80.0\n",
      "81.0\n",
      "82.0\n",
      "83.0\n",
      "84.0\n",
      "85.0\n",
      "86.0\n",
      "87.0\n",
      "88.0\n",
      "89.0\n",
      "90.0\n",
      "91.0\n",
      "92.0\n",
      "93.0\n",
      "94.0\n",
      "95.0\n",
      "96.0\n",
      "97.0\n",
      "98.0\n",
      "99.0\n",
      "100.0\n"
     ]
    }
   ],
   "source": [
    "for d in repetitions:\n",
    "    sim_distance_rem, spin_sim= simulate_distance(A,std_bg,std_up ,signal_low,signal_high,t_out,t_in,n_points_time, n_traces,sweep)\n",
    "\n",
    "\n",
    "\n",
    "\n",
    "    #for c in range(len(t_max)):\n",
    "\n",
    "    ## Define your t_max\n",
    "    #t_max=200\n",
    "    #n_point_max= np.where(sweep>= t_max)[0][0]\n",
    "\n",
    "    #to_remove=np.linspace(n_point_max,n_points_time-1,n_points_time-n_point_max )\n",
    "    #to_remove=to_remove.astype(int)\n",
    "    #sweep_rem = sweep[0:n_point_max]\n",
    "    #sim_distance_rem=np.delete(sim_distance, to_remove,1)\n",
    "\n",
    "    #for b in range(len(factor)):\n",
    "    ## SIMULATION MOVING AVERAGE\n",
    "    #factor=10\n",
    "    sim_distance_40_rem=np.zeros((len(sim_distance_rem),len( moving_average(sim_distance_rem[0], factor))))\n",
    "    sweep_40_rem=np.zeros(len(moving_average(sim_distance_rem[0], factor)))\n",
    "\n",
    "    for a in range(len(sim_distance_rem)):\n",
    "        sim_distance_40_rem[a]=moving_average(sim_distance_rem[a], factor)\n",
    "\n",
    "    sweep_40_rem=moving_average(sweep_rem, factor)\n",
    "\n",
    "\n",
    "\n",
    "    # HISTOGRAM WITH SIMULATION\n",
    "    maximum_sim_rem=np.zeros(len(sim_distance_40_rem))\n",
    "\n",
    "    for a in range(len(sim_distance_rem)):\n",
    "        minim= np.where(sweep_40_rem>= 0)[0][0]\n",
    "        maxim= np.where(sweep_40_rem>= sweep_40_rem.max())[0][0]\n",
    "\n",
    "\n",
    "        maximum_sim_rem[a]=sim_distance_40_rem[a][minim:maxim].max()\n",
    "    range_min=maximum_sim_rem.min()\n",
    "    range_max=maximum_sim_rem.max()\n",
    "\n",
    "    ## fidelity with histogram\n",
    "\n",
    "\n",
    "    epsilon=0.005\n",
    "    signal_threshold = np.linspace(range_min + epsilon, range_max - epsilon,50)\n",
    "\n",
    "    fidelity_up = []\n",
    "    fidelity_down = []\n",
    "\n",
    "    spin_up_maximums=maximum_sim_rem[np.where(spin_sim==0)[0]]\n",
    "    spin_down_maximums=maximum_sim_rem[np.where(spin_sim==1)[0]]\n",
    "    for signal in signal_threshold:\n",
    "\n",
    "                integ_up=len(np.where(spin_up_maximums<=signal)[0])\n",
    "                integ_down=len(np.where(spin_down_maximums>=signal)[0])\n",
    "\n",
    "                fidelity_up.append(1-integ_up/n_traces)\n",
    "                fidelity_down.append(1-integ_down/n_traces)\n",
    "\n",
    "\n",
    "    visibility=np.array(fidelity_up)+np.array(fidelity_down)-1\n",
    "    integer=np.where(visibility==visibility.max())[0][0]\n",
    "    fidelity_up_def[int(d)]=np.array(fidelity_up)[integer]\n",
    "    fidelity_down_def[int(d)]=np.array(fidelity_down)[integer]\n",
    "    visibility_2D_map[int(d)]=visibility.max()\n",
    "    #print (\"visibility\",visibility_2D_map[c][b])\n",
    "    print (d)\n",
    "    #plt.plot(factor,visibility_2D_map[c],label=\"t_max=\"+str(t_max[c]))\n",
    "    #plt.legend()\n",
    "    #plt.show()"
   ]
  },
  {
   "cell_type": "code",
   "execution_count": 18,
   "metadata": {
    "ExecuteTime": {
     "end_time": "2022-08-18T16:36:22.875653Z",
     "start_time": "2022-08-18T16:36:22.861702Z"
    }
   },
   "outputs": [
    {
     "data": {
      "text/plain": [
       "0.9771399009900991"
      ]
     },
     "execution_count": 18,
     "metadata": {},
     "output_type": "execute_result"
    }
   ],
   "source": [
    "np.mean(visibility_2D_map)"
   ]
  },
  {
   "cell_type": "code",
   "execution_count": 19,
   "metadata": {
    "ExecuteTime": {
     "end_time": "2022-08-18T16:36:22.890609Z",
     "start_time": "2022-08-18T16:36:22.876662Z"
    }
   },
   "outputs": [
    {
     "data": {
      "text/plain": [
       "0.0004267827955218901"
      ]
     },
     "execution_count": 19,
     "metadata": {},
     "output_type": "execute_result"
    }
   ],
   "source": [
    "np.std(visibility_2D_map)"
   ]
  },
  {
   "cell_type": "code",
   "execution_count": 20,
   "metadata": {
    "ExecuteTime": {
     "end_time": "2022-08-18T16:36:23.049554Z",
     "start_time": "2022-08-18T16:36:22.892599Z"
    }
   },
   "outputs": [
    {
     "data": {
      "text/plain": [
       "[<matplotlib.lines.Line2D at 0x1f6546dffa0>]"
      ]
     },
     "execution_count": 20,
     "metadata": {},
     "output_type": "execute_result"
    },
    {
     "data": {
      "image/png": "[encoded data removed]",
      "text/plain": [
       "<Figure size 432x288 with 1 Axes>"
      ]
     },
     "metadata": {
      "needs_background": "light"
     },
     "output_type": "display_data"
    }
   ],
   "source": [
    "plt.plot((fidelity_up_def+fidelity_down_def)/2)"
   ]
  },
  {
   "cell_type": "code",
   "execution_count": 25,
   "metadata": {
    "ExecuteTime": {
     "end_time": "2022-08-18T16:45:34.840262Z",
     "start_time": "2022-08-18T16:45:34.835323Z"
    }
   },
   "outputs": [
    {
     "data": {
      "text/plain": [
       "0.9885699504950497"
      ]
     },
     "execution_count": 25,
     "metadata": {},
     "output_type": "execute_result"
    }
   ],
   "source": [
    "np.mean((fidelity_up_def+fidelity_down_def)/2)"
   ]
  },
  {
   "cell_type": "code",
   "execution_count": 26,
   "metadata": {
    "ExecuteTime": {
     "end_time": "2022-08-18T16:45:35.546543Z",
     "start_time": "2022-08-18T16:45:35.531593Z"
    }
   },
   "outputs": [
    {
     "data": {
      "text/plain": [
       "0.00021339139776094503"
      ]
     },
     "execution_count": 26,
     "metadata": {},
     "output_type": "execute_result"
    }
   ],
   "source": [
    "np.std((fidelity_up_def+fidelity_down_def)/2)"
   ]
  },
  {
   "cell_type": "code",
   "execution_count": 27,
   "metadata": {
    "ExecuteTime": {
     "end_time": "2022-08-18T16:45:35.968863Z",
     "start_time": "2022-08-18T16:45:35.963885Z"
    }
   },
   "outputs": [],
   "source": [
    "np.savez('./visibility_2D_map_JPA_OFF_error_virginia' +str(id_1)+ '.npz', factor=factor, t_max=t_max, visibility_2D_map=visibility_2D_map, fidelity_up_E=fidelity_up_def, fidelity_down_E=fidelity_down_def)\n",
    "\n"
   ]
  },
  {
   "cell_type": "markdown",
   "metadata": {},
   "source": [
    "\n",
    "\n",
    "## Error calcualted as David"
   ]
  },
  {
   "cell_type": "code",
   "execution_count": 44,
   "metadata": {
    "ExecuteTime": {
     "end_time": "2022-08-18T17:07:25.329277Z",
     "start_time": "2022-08-18T16:46:12.423995Z"
    }
   },
   "outputs": [],
   "source": [
    "# Generates distance\n",
    "\n",
    "# SIMULATION- CREATE DATA\n",
    "\n",
    "signal_low=signal_parameters_fit_read[\"mean_bg\"]\n",
    "signal_high=signal_parameters_fit_read[\"mean_up\"]\n",
    "std_bg=signal_parameters_fit_read[\"std_bg\"]\n",
    "std_up=signal_parameters_fit_read[\"std_up\"]\n",
    "\n",
    "\n",
    "t_in=signal_parameters_fit_read[\"t_in\"]\n",
    "t_out=signal_parameters_fit_read[\"t_out\"]\n",
    "\n",
    "A=signal_parameters_fit_read[\"A\"]\n",
    "\n",
    "\n",
    "t_max=[434]\n",
    "factor=20\n",
    "\n",
    "n_traces=1000000\n",
    "n_points_time=434\n",
    "acquisition_time=435\n",
    "\n",
    "sweep=np.linspace(0,acquisition_time,n_points_time)\n",
    "\n",
    "sim_distance_rem, spin_sim= simulate_distance(A,std_bg,std_up ,signal_low,signal_high,t_out,t_in,n_points_time, n_traces,sweep)\n",
    "\n",
    "\n",
    "\n",
    "np.savez('./Sim_traces_JPA_OFF_' +str(id_1)+ '.npz', A=A, t_in=t_in, t_out=t_out, std_up=std_up, std_bg=std_bg, signal_low=signal_low, signal_high=signal_high , t_max=t_max, spin_sim=spin_sim, sim_distance=sim_distance_rem )\n",
    "\n",
    "\n",
    "\n",
    "\n"
   ]
  },
  {
   "cell_type": "code",
   "execution_count": 45,
   "metadata": {
    "ExecuteTime": {
     "end_time": "2022-08-18T17:07:53.774492Z",
     "start_time": "2022-08-18T17:07:25.332267Z"
    }
   },
   "outputs": [
    {
     "name": "stdout",
     "output_type": "stream",
     "text": [
      "[ 0.  1.  2.  3.  4.  5.  6.  7.  8.  9. 10. 11. 12. 13. 14. 15. 16. 17.\n",
      " 18. 19. 20. 21. 22. 23. 24. 25. 26. 27. 28. 29. 30. 31. 32. 33. 34. 35.\n",
      " 36. 37. 38. 39. 40. 41. 42. 43. 44. 45. 46. 47. 48. 49. 50. 51. 52. 53.\n",
      " 54. 55. 56. 57. 58. 59. 60. 61. 62. 63. 64. 65. 66. 67. 68. 69. 70. 71.\n",
      " 72. 73. 74. 75. 76. 77. 78. 79. 80. 81. 82. 83. 84. 85. 86. 87. 88. 89.\n",
      " 90. 91. 92. 93. 94. 95. 96. 97. 98. 99.]\n"
     ]
    }
   ],
   "source": [
    "\n",
    "chunks=100\n",
    "chunks=np.linspace(0,chunks-1, chunks)\n",
    "print(chunks)\n",
    "\n",
    "sweep_rem=sweep\n",
    "\n",
    "visibility_2D_map=np.zeros( len(chunks))\n",
    "fidelity_up_def=np.zeros( len(chunks))\n",
    "fidelity_down_def=np.zeros( len(chunks))\n",
    "\n",
    "\n",
    "sim_distance_40_rem=np.zeros((len(sim_distance_rem),len( moving_average(sim_distance_rem[0], factor))))\n",
    "sweep_40_rem=np.zeros(len(moving_average(sim_distance_rem[0], factor)))\n",
    "\n",
    "for a in range(len(sim_distance_rem)):\n",
    "    sim_distance_40_rem[a]=moving_average(sim_distance_rem[a], factor)\n",
    "\n",
    "sweep_40_rem=moving_average(sweep_rem, factor)\n",
    "\n",
    "\n",
    "\n",
    "# HISTOGRAM WITH SIMULATION\n",
    "maximum_sim_rem=np.zeros(len(sim_distance_40_rem))\n",
    "\n",
    "for a in range(len(sim_distance_rem)):\n",
    "    minim= np.where(sweep_40_rem>= 0)[0][0]\n",
    "    maxim= np.where(sweep_40_rem>= sweep_40_rem.max())[0][0]\n",
    "\n",
    "\n",
    "    maximum_sim_rem[a]=sim_distance_40_rem[a][minim:maxim].max()\n",
    "range_min=maximum_sim_rem.min()\n",
    "range_max=maximum_sim_rem.max()\n",
    "\n",
    "chunk_size=n_traces/len(chunks)\n"
   ]
  },
  {
   "cell_type": "code",
   "execution_count": 46,
   "metadata": {
    "ExecuteTime": {
     "end_time": "2022-08-18T17:07:53.789443Z",
     "start_time": "2022-08-18T17:07:53.776485Z"
    }
   },
   "outputs": [
    {
     "data": {
      "text/plain": [
       "434"
      ]
     },
     "execution_count": 46,
     "metadata": {},
     "output_type": "execute_result"
    }
   ],
   "source": [
    "len(sim_distance_rem[0])"
   ]
  },
  {
   "cell_type": "code",
   "execution_count": 47,
   "metadata": {
    "ExecuteTime": {
     "end_time": "2022-08-18T17:08:11.902414Z",
     "start_time": "2022-08-18T17:07:53.792431Z"
    }
   },
   "outputs": [
    {
     "name": "stdout",
     "output_type": "stream",
     "text": [
      "0.0\n",
      "1.0\n",
      "2.0\n",
      "3.0\n",
      "4.0\n",
      "5.0\n",
      "6.0\n",
      "7.0\n",
      "8.0\n",
      "9.0\n",
      "10.0\n",
      "11.0\n",
      "12.0\n",
      "13.0\n",
      "14.0\n",
      "15.0\n",
      "16.0\n",
      "17.0\n",
      "18.0\n",
      "19.0\n",
      "20.0\n",
      "21.0\n",
      "22.0\n",
      "23.0\n",
      "24.0\n",
      "25.0\n",
      "26.0\n",
      "27.0\n",
      "28.0\n",
      "29.0\n",
      "30.0\n",
      "31.0\n",
      "32.0\n",
      "33.0\n",
      "34.0\n",
      "35.0\n",
      "36.0\n",
      "37.0\n",
      "38.0\n",
      "39.0\n",
      "40.0\n",
      "41.0\n",
      "42.0\n",
      "43.0\n",
      "44.0\n",
      "45.0\n",
      "46.0\n",
      "47.0\n",
      "48.0\n",
      "49.0\n",
      "50.0\n",
      "51.0\n",
      "52.0\n",
      "53.0\n",
      "54.0\n",
      "55.0\n",
      "56.0\n",
      "57.0\n",
      "58.0\n",
      "59.0\n",
      "60.0\n",
      "61.0\n",
      "62.0\n",
      "63.0\n",
      "64.0\n",
      "65.0\n",
      "66.0\n",
      "67.0\n",
      "68.0\n",
      "69.0\n",
      "70.0\n",
      "71.0\n",
      "72.0\n",
      "73.0\n",
      "74.0\n",
      "75.0\n",
      "76.0\n",
      "77.0\n",
      "78.0\n",
      "79.0\n",
      "80.0\n",
      "81.0\n",
      "82.0\n",
      "83.0\n",
      "84.0\n",
      "85.0\n",
      "86.0\n",
      "87.0\n",
      "88.0\n",
      "89.0\n",
      "90.0\n",
      "91.0\n",
      "92.0\n",
      "93.0\n",
      "94.0\n",
      "95.0\n",
      "96.0\n",
      "97.0\n",
      "98.0\n",
      "99.0\n"
     ]
    }
   ],
   "source": [
    "for d in chunks:\n",
    "   \n",
    "\n",
    "    chunks_for_analysis=np.append(maximum_sim_rem[0:int(d*chunk_size)], maximum_sim_rem[int((d+1)*chunk_size)::])\n",
    "    spin_sim_analysis=np.append(spin_sim[0:int(d*chunk_size)], spin_sim[int((d+1)*chunk_size)::])\n",
    "\n",
    "    chunks_for_fidelity=maximum_sim_rem[int(d*chunk_size):int((d+1)*chunk_size)]\n",
    "    spin_sim_fidelity=spin_sim[int(d*chunk_size):int((d+1)*chunk_size)]\n",
    "\n",
    "    ## Calculate the threshold fot the analysis chunks\n",
    "\n",
    "\n",
    "    epsilon=0.005\n",
    "    signal_threshold = np.linspace(range_min + epsilon, range_max - epsilon,50)\n",
    "\n",
    "    fidelity_up = []\n",
    "    fidelity_down = []\n",
    "\n",
    "    spin_up_maximums=chunks_for_analysis[np.where(spin_sim_analysis==0)[0]]\n",
    "    spin_down_maximums=chunks_for_analysis[np.where(spin_sim_analysis==1)[0]]\n",
    "    for signal in signal_threshold:\n",
    "\n",
    "                integ_up=len(np.where(spin_up_maximums<=signal)[0])\n",
    "                integ_down=len(np.where(spin_down_maximums>=signal)[0])\n",
    "\n",
    "                fidelity_up.append(1-integ_up/(n_traces-chunk_size))\n",
    "                fidelity_down.append(1-integ_down/(n_traces-chunk_size))\n",
    "\n",
    "\n",
    "    visibility=np.array(fidelity_up)+np.array(fidelity_down)-1\n",
    "    integer=np.where(visibility==visibility.max())[0][0]\n",
    "    \n",
    "    Threshold_chunks=signal_threshold[np.argmax(np.array(fidelity_up)+np.array(fidelity_down)-1)]\n",
    "    \n",
    "    \n",
    "    spin_up_maximums=chunks_for_fidelity[np.where(spin_sim_fidelity==0)[0]]\n",
    "    spin_down_maximums=chunks_for_fidelity[np.where(spin_sim_fidelity==1)[0]]\n",
    "    \n",
    "    integ_up=len(np.where(spin_up_maximums<=Threshold_chunks)[0])\n",
    "    integ_down=len(np.where(spin_down_maximums>=Threshold_chunks)[0])\n",
    "\n",
    "    fidelity_up_def[int(d)]=(1-integ_up/chunk_size)\n",
    "    fidelity_down_def[int(d)]=(1-integ_down/chunk_size)\n",
    "\n",
    "    \n",
    "    \n",
    "    \n",
    "    \n",
    "    #print (\"visibility\",visibility_2D_map[c][b])\n",
    "    print (d)\n",
    "    #plt.plot(factor,visibility_2D_map[c],label=\"t_max=\"+str(t_max[c]))\n",
    "    #plt.legend()\n",
    "    #plt.show()"
   ]
  },
  {
   "cell_type": "code",
   "execution_count": 48,
   "metadata": {
    "ExecuteTime": {
     "end_time": "2022-08-18T17:08:11.918357Z",
     "start_time": "2022-08-18T17:08:11.905401Z"
    }
   },
   "outputs": [
    {
     "data": {
      "text/plain": [
       "-2.5527800511822134"
      ]
     },
     "execution_count": 48,
     "metadata": {},
     "output_type": "execute_result"
    }
   ],
   "source": [
    "Threshold_chunks"
   ]
  },
  {
   "cell_type": "code",
   "execution_count": 49,
   "metadata": {
    "ExecuteTime": {
     "end_time": "2022-08-18T17:08:11.935546Z",
     "start_time": "2022-08-18T17:08:11.922344Z"
    }
   },
   "outputs": [
    {
     "data": {
      "text/plain": [
       "5002"
      ]
     },
     "execution_count": 49,
     "metadata": {},
     "output_type": "execute_result"
    }
   ],
   "source": [
    "len(spin_down_maximums)"
   ]
  },
  {
   "cell_type": "code",
   "execution_count": 50,
   "metadata": {
    "ExecuteTime": {
     "end_time": "2022-08-18T17:08:11.951247Z",
     "start_time": "2022-08-18T17:08:11.939288Z"
    }
   },
   "outputs": [
    {
     "data": {
      "text/plain": [
       "4998"
      ]
     },
     "execution_count": 50,
     "metadata": {},
     "output_type": "execute_result"
    }
   ],
   "source": [
    "len(spin_up_maximums)"
   ]
  },
  {
   "cell_type": "code",
   "execution_count": 51,
   "metadata": {
    "ExecuteTime": {
     "end_time": "2022-08-18T17:08:11.967120Z",
     "start_time": "2022-08-18T17:08:11.954237Z"
    }
   },
   "outputs": [
    {
     "data": {
      "text/plain": [
       "19"
      ]
     },
     "execution_count": 51,
     "metadata": {},
     "output_type": "execute_result"
    }
   ],
   "source": [
    "integ_down"
   ]
  },
  {
   "cell_type": "code",
   "execution_count": 52,
   "metadata": {
    "ExecuteTime": {
     "end_time": "2022-08-18T17:08:11.982070Z",
     "start_time": "2022-08-18T17:08:11.972105Z"
    }
   },
   "outputs": [
    {
     "data": {
      "text/plain": [
       "195"
      ]
     },
     "execution_count": 52,
     "metadata": {},
     "output_type": "execute_result"
    }
   ],
   "source": [
    "integ_up"
   ]
  },
  {
   "cell_type": "code",
   "execution_count": 53,
   "metadata": {
    "ExecuteTime": {
     "end_time": "2022-08-18T17:08:11.998017Z",
     "start_time": "2022-08-18T17:08:11.988053Z"
    }
   },
   "outputs": [
    {
     "data": {
      "text/plain": [
       "-2.5527800511822134"
      ]
     },
     "execution_count": 53,
     "metadata": {},
     "output_type": "execute_result"
    }
   ],
   "source": [
    "Threshold_chunks"
   ]
  },
  {
   "cell_type": "code",
   "execution_count": 54,
   "metadata": {
    "ExecuteTime": {
     "end_time": "2022-08-18T17:08:12.995679Z",
     "start_time": "2022-08-18T17:08:12.000010Z"
    }
   },
   "outputs": [
    {
     "name": "stderr",
     "output_type": "stream",
     "text": [
      "C:\\Users\\virgi\\AppData\\Local\\Temp/ipykernel_12148/2106906601.py:13: MatplotlibDeprecationWarning: savefig() got unexpected keyword argument \"rasterized\" which is no longer supported as of 3.3 and will become an error two minor releases later\n",
      "  plt.savefig(\"fidelity.png\",dpi=600, bbox_inches = \"tight\", rasterized='True')\n"
     ]
    },
    {
     "name": "stdout",
     "output_type": "stream",
     "text": [
      "max visibility = 0.9772585858585858 at -2.5527800511822134\n"
     ]
    },
    {
     "data": {
      "image/png": "[encoded data removed]",
      "text/plain": [
       "<Figure size 432x288 with 1 Axes>"
      ]
     },
     "metadata": {
      "needs_background": "light"
     },
     "output_type": "display_data"
    }
   ],
   "source": [
    "plt.plot(signal_threshold,fidelity_down, color=(120/255,120/255,120/255), label=r' Spin down')#Fidelity$_{\\downarrow}$')\n",
    "\n",
    "\n",
    "plt.plot(signal_threshold,fidelity_up, color= (255/255,66/255,66/255), label=r'Spin up')#Fidelity$_{\\uparrow}$' )\n",
    "plt.plot(signal_threshold,np.array(fidelity_up)+np.array(fidelity_down)-1,'--',label='Visbility',c='k')\n",
    "\n",
    "plt.legend(loc=1, fontsize=8)\n",
    "plt.xlabel(\"Threshold voltage (V) \", {'color': 'k', 'fontsize': 14})\n",
    "plt.ylabel(\"Fidelity\", {'color': 'k', 'fontsize': 14})\n",
    "plt.xticks( color='k', size=12)\n",
    "plt.yticks( color='k', size=12)\n",
    "\n",
    "plt.savefig(\"fidelity.png\",dpi=600, bbox_inches = \"tight\", rasterized='True')\n",
    "print(\"max visibility =\", np.max(np.array(fidelity_up)+np.array(fidelity_down)-1),'at', signal_threshold[np.argmax(np.array(fidelity_up)+np.array(fidelity_down)-1)])"
   ]
  },
  {
   "cell_type": "code",
   "execution_count": 58,
   "metadata": {
    "ExecuteTime": {
     "end_time": "2022-08-18T17:43:28.721957Z",
     "start_time": "2022-08-18T17:43:28.703016Z"
    }
   },
   "outputs": [
    {
     "data": {
      "text/plain": [
       "0.0007287345195611407"
      ]
     },
     "execution_count": 58,
     "metadata": {},
     "output_type": "execute_result"
    }
   ],
   "source": [
    "np.std((fidelity_up_def+fidelity_down_def)/2)"
   ]
  },
  {
   "cell_type": "code",
   "execution_count": 59,
   "metadata": {
    "ExecuteTime": {
     "end_time": "2022-08-18T17:43:29.083789Z",
     "start_time": "2022-08-18T17:43:29.068840Z"
    }
   },
   "outputs": [
    {
     "data": {
      "text/plain": [
       "0.988636"
      ]
     },
     "execution_count": 59,
     "metadata": {},
     "output_type": "execute_result"
    }
   ],
   "source": [
    "np.mean((fidelity_up_def+fidelity_down_def)/2)"
   ]
  },
  {
   "cell_type": "code",
   "execution_count": 60,
   "metadata": {
    "ExecuteTime": {
     "end_time": "2022-08-18T17:43:29.611240Z",
     "start_time": "2022-08-18T17:43:29.520545Z"
    }
   },
   "outputs": [
    {
     "data": {
      "text/plain": [
       "[<matplotlib.lines.Line2D at 0x1f65400d190>]"
      ]
     },
     "execution_count": 60,
     "metadata": {},
     "output_type": "execute_result"
    },
    {
     "data": {
      "image/png": "[encoded data removed]",
      "text/plain": [
       "<Figure size 432x288 with 1 Axes>"
      ]
     },
     "metadata": {
      "needs_background": "light"
     },
     "output_type": "display_data"
    }
   ],
   "source": [
    "plt.plot((fidelity_up_def+fidelity_down_def)/2)"
   ]
  },
  {
   "cell_type": "code",
   "execution_count": 61,
   "metadata": {
    "ExecuteTime": {
     "end_time": "2022-08-18T17:43:30.362164Z",
     "start_time": "2022-08-18T17:43:30.346254Z"
    }
   },
   "outputs": [
    {
     "data": {
      "text/plain": [
       "0.988636"
      ]
     },
     "execution_count": 61,
     "metadata": {},
     "output_type": "execute_result"
    }
   ],
   "source": [
    "np.mean((fidelity_up_def+fidelity_down_def)/2)"
   ]
  },
  {
   "cell_type": "code",
   "execution_count": 62,
   "metadata": {
    "ExecuteTime": {
     "end_time": "2022-08-18T17:43:33.924375Z",
     "start_time": "2022-08-18T17:43:33.905445Z"
    }
   },
   "outputs": [
    {
     "data": {
      "text/plain": [
       "0.0007287345195611407"
      ]
     },
     "execution_count": 62,
     "metadata": {},
     "output_type": "execute_result"
    }
   ],
   "source": [
    "np.std((fidelity_up_def+fidelity_down_def)/2)"
   ]
  },
  {
   "cell_type": "code",
   "execution_count": 63,
   "metadata": {
    "ExecuteTime": {
     "end_time": "2022-08-18T17:43:37.061019Z",
     "start_time": "2022-08-18T17:43:37.050985Z"
    }
   },
   "outputs": [],
   "source": [
    "np.savez('./visibility_2D_map_JPA_OFF_error_David' +str(id_1)+ '.npz', factor=factor, t_max=t_max, visibility_2D_map=visibility_2D_map, fidelity_up_E=fidelity_up_def, fidelity_down_E=fidelity_down_def)\n",
    "\n"
   ]
  },
  {
   "cell_type": "code",
   "execution_count": 5,
   "metadata": {
    "ExecuteTime": {
     "end_time": "2022-09-12T15:18:22.451475Z",
     "start_time": "2022-09-12T15:18:22.435115Z"
    }
   },
   "outputs": [
    {
     "data": {
      "text/plain": [
       "array([0. , 0.1, 0.2, 0.3, 0.4, 0.5, 0.6, 0.7, 0.8, 0.9, 1. , 1.1, 1.2,\n",
       "       1.3, 1.4, 1.5, 1.6, 1.7, 1.8, 1.9, 2. , 2.1, 2.2, 2.3, 2.4, 2.5,\n",
       "       2.6, 2.7, 2.8, 2.9, 3. , 3.1, 3.2, 3.3, 3.4, 3.5, 3.6, 3.7, 3.8,\n",
       "       3.9, 4. , 4.1, 4.2, 4.3, 4.4, 4.5, 4.6, 4.7, 4.8, 4.9, 5. , 5.1,\n",
       "       5.2, 5.3, 5.4, 5.5, 5.6, 5.7, 5.8, 5.9, 6. , 6.1, 6.2, 6.3, 6.4,\n",
       "       6.5, 6.6, 6.7, 6.8, 6.9, 7. , 7.1, 7.2, 7.3, 7.4, 7.5, 7.6, 7.7,\n",
       "       7.8, 7.9, 8. , 8.1, 8.2, 8.3, 8.4, 8.5, 8.6, 8.7, 8.8, 8.9, 9. ,\n",
       "       9.1, 9.2, 9.3, 9.4, 9.5, 9.6, 9.7, 9.8, 9.9])"
      ]
     },
     "execution_count": 5,
     "metadata": {},
     "output_type": "execute_result"
    }
   ],
   "source": [
    "import numpy as np\n",
    "t_max=10\n",
    "acq_rate=10\n",
    "sweep=np.arange(0,t_max, 1/acq_rate)\n",
    "sweep"
   ]
  },
  {
   "cell_type": "code",
   "execution_count": 15,
   "metadata": {
    "ExecuteTime": {
     "end_time": "2022-09-12T16:13:45.364289Z",
     "start_time": "2022-09-12T16:13:44.968127Z"
    }
   },
   "outputs": [
    {
     "name": "stdout",
     "output_type": "stream",
     "text": [
      "Microsoft Windows [Version 10.0.22000.856]\n",
      "(c) Microsoft Corporation. All rights reserved.\n",
      "\n",
      "(base) > cd simulating_traces\n",
      "\n",
      "(base) > py.test\n",
      "============================= test session starts =============================\n",
      "platform win32 -- Python 3.8.8, pytest-7.1.3, pluggy-1.0.0\n",
      "rootdir: C:\\Users\\virgi\\QMT Dropbox\\Virginia Ciriano\\experiments\\2_qubit_gate_raw_data\\W19\\2S28_1\\DATA_ANALYSIS\\git_Hub_code\\simulating_traces\n",
      "plugins: anyio-3.5.0\n",
      "collected 1 item\n",
      "\n",
      "test_simulation.py .                                                     [100%]\n",
      "\n",
      "============================== 1 passed in 0.08s ==============================\n",
      "\n",
      "(base) > "
     ]
    }
   ],
   "source": [
    "%%cmd\n",
    "cd simulating_traces\n",
    "py.test"
   ]
  },
  {
   "cell_type": "code",
   "execution_count": 13,
   "metadata": {
    "ExecuteTime": {
     "end_time": "2022-09-12T16:12:41.467835Z",
     "start_time": "2022-09-12T16:12:41.452876Z"
    }
   },
   "outputs": [
    {
     "data": {
      "text/plain": [
       "True"
      ]
     },
     "execution_count": 13,
     "metadata": {},
     "output_type": "execute_result"
    }
   ],
   "source": [
    "n_traces=4.3\n",
    "type(n_traces) != int"
   ]
  },
  {
   "cell_type": "code",
   "execution_count": 11,
   "metadata": {
    "ExecuteTime": {
     "end_time": "2022-09-12T16:12:34.851433Z",
     "start_time": "2022-09-12T16:12:34.843466Z"
    }
   },
   "outputs": [
    {
     "data": {
      "text/plain": [
       "int"
      ]
     },
     "execution_count": 11,
     "metadata": {},
     "output_type": "execute_result"
    }
   ],
   "source": [
    "type(n_traces)"
   ]
  },
  {
   "cell_type": "code",
   "execution_count": null,
   "metadata": {},
   "outputs": [],
   "source": []
  }
 ],
 "metadata": {
  "kernelspec": {
   "display_name": "Python 3 (ipykernel)",
   "language": "python",
   "name": "python3"
  },
  "language_info": {
   "codemirror_mode": {
    "name": "ipython",
    "version": 3
   },
   "file_extension": ".py",
   "mimetype": "text/x-python",
   "name": "python",
   "nbconvert_exporter": "python",
   "pygments_lexer": "ipython3",
   "version": "3.8.8"
  },
  "toc": {
   "base_numbering": 1,
   "nav_menu": {},
   "number_sections": true,
   "sideBar": true,
   "skip_h1_title": false,
   "title_cell": "Table of Contents",
   "title_sidebar": "Contents",
   "toc_cell": false,
   "toc_position": {
    "height": "549.581px",
    "left": "286px",
    "top": "110.89px",
    "width": "165px"
   },
   "toc_section_display": true,
   "toc_window_display": true
  }
 },
 "nbformat": 4,
 "nbformat_minor": 4
}
