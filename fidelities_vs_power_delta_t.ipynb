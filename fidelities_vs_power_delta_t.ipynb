{
 "cells": [
  {
   "cell_type": "code",
   "execution_count": 28,
   "metadata": {
    "ExecuteTime": {
     "end_time": "2021-12-01T16:34:24.101939Z",
     "start_time": "2021-12-01T16:34:24.085992Z"
    }
   },
   "outputs": [],
   "source": [
    "import qcodes.dataset.experiment_container as exc\n",
    "from qcodes.dataset.plotting import plot_by_id,  plot_dataset\n",
    "from qcodes.dataset.data_set import load_by_run_spec, load_by_id\n",
    "from qcodes.dataset.data_export import reshape_2D_data\n",
    "import pandas as pd\n",
    "import matplotlib.pyplot as plt\n",
    "import numpy as np\n",
    "\n",
    "import numpy as np\n",
    "import scipy.optimize as spopt\n",
    "from scipy import stats\n",
    "\n",
    "from IPython.display import display\n",
    "%matplotlib inline"
   ]
  },
  {
   "cell_type": "code",
   "execution_count": 29,
   "metadata": {
    "ExecuteTime": {
     "end_time": "2021-12-01T16:34:24.368480Z",
     "start_time": "2021-12-01T16:34:24.359507Z"
    }
   },
   "outputs": [],
   "source": [
    "import qcodes as qc\n",
    "import numpy as np\n",
    "import matplotlib.pyplot as plt\n",
    "#from ruamel_yaml import YAML"
   ]
  },
  {
   "cell_type": "code",
   "execution_count": 30,
   "metadata": {
    "ExecuteTime": {
     "end_time": "2021-12-01T16:34:24.681967Z",
     "start_time": "2021-12-01T16:34:24.674991Z"
    }
   },
   "outputs": [],
   "source": [
    "from fit_helpers_vir import *\n"
   ]
  },
  {
   "cell_type": "code",
   "execution_count": 31,
   "metadata": {
    "ExecuteTime": {
     "end_time": "2021-12-01T16:34:25.213837Z",
     "start_time": "2021-12-01T16:34:25.197887Z"
    }
   },
   "outputs": [],
   "source": [
    "import pandas as pd"
   ]
  },
  {
   "cell_type": "markdown",
   "metadata": {},
   "source": [
    "# functions"
   ]
  },
  {
   "cell_type": "code",
   "execution_count": 32,
   "metadata": {
    "ExecuteTime": {
     "end_time": "2021-12-01T16:34:26.298659Z",
     "start_time": "2021-12-01T16:34:26.244739Z"
    },
    "code_folding": [
     0,
     27,
     44,
     147,
     177,
     242,
     259
    ]
   },
   "outputs": [],
   "source": [
    "def charge_data(id_1): # opens the data \n",
    "\t'''\n",
    "    Opens database experiment\n",
    "    Parameters\n",
    "    ----------\n",
    "    id_1: int.\n",
    "        database id.\n",
    "    Returns\n",
    "    -------\n",
    "    integer: 1d array.\n",
    "        number of trace\n",
    "    X: 2d array.\n",
    "         reflectometry traces in I.\n",
    "    Y: 2d array.\n",
    "         reflectometry traces in Q.\n",
    "    sweep: 1d array.\n",
    "        Trace time in us.\n",
    "    '''\n",
    "\n",
    "\tdataset=load_by_id(id_1)\n",
    "\n",
    "\tinteger=np.unique(dataset.get_parameter_data()[\"Distance\"][\"integer\"])\n",
    "\tX=(dataset.get_parameter_data()[\"I\"][\"I\"])\n",
    "\tY=(dataset.get_parameter_data()[\"Q\"][\"Q\"])\n",
    "\tsweep=(dataset.get_parameter_data()[\"RF_sweep\"][\"RF_sweep\"] )[0]\t \n",
    "\n",
    "\treturn integer,X, Y, sweep\n",
    "def moving_average(a, n=20) :\n",
    "\t'''\n",
    "    Moving average on array a\n",
    "    Parameters\n",
    "    ----------\n",
    "    a: 1d array.\n",
    "        array with data.\n",
    "    n: int.\n",
    "        length of the moving average. When n=20 a moving average is perform on array a every 20 points\n",
    "    Returns\n",
    "    -------\n",
    "    1d array.\n",
    "        moving average of array a\n",
    "    '''\n",
    "\tret = np.cumsum(a, dtype=float)\n",
    "\tret[n:] = ret[n:] - ret[:-n]\n",
    "\treturn ret[n - 1:] / n \n",
    "def IQ_plot(id_1,jupyter_name,sweep, X,Y,signal_start,signal_end, bg_start,bg_end):\n",
    "\t'''\n",
    "    Plots maximums over two different time intervals in the IQ plane from the traces taken.\n",
    "    Calculate the center of the signal and std for the maximums over both time intervals.\n",
    "    The first interval si a mixture between signal and background.\n",
    "    The second interval corresponds to only background since the bleep (spin up) has already happened.\n",
    "    Parameters\n",
    "    ----------\n",
    "    id_1: int.\n",
    "        database id.\n",
    "    integer: 1d array.\n",
    "        number of trace\n",
    "    jupyter_name: string.\n",
    "         title of the plot.\n",
    "    X: 2d array.\n",
    "         reflectometry traces in I.\n",
    "    Y: 2d array.\n",
    "         reflectometry traces in Q.\n",
    "    sweep: 1d array.\n",
    "        Trace time in us.\n",
    "    signal_start: float.\n",
    "        start of the first interval in us.\n",
    "    signal_end: float.\n",
    "        end of the first interval in us.\n",
    "    bg_start: float.\n",
    "        start of the second interval in us.\n",
    "    bg_end: float.\n",
    "        end of the second interval in us.\n",
    "    Returns\n",
    "    -------\n",
    "    maximum_X: float.\n",
    "        mean in I of the maximums during first interval.\n",
    "    maximum_Y: float.\n",
    "        mean in Q of the maximums during first interval.\n",
    "    background_X: float.\n",
    "        mean in I of the maximums during second interval.\n",
    "    background_Y: float.\n",
    "        mean in I of the maximums during second interval.\n",
    "    '''\n",
    "\tmaximum_X=np.zeros(len(X))\n",
    "\tmaximum_Y=np.zeros(len(X))\n",
    "\n",
    "\tbackground_X=np.zeros(len(X))\n",
    "\tbackground_Y=np.zeros(len(X))\n",
    "\n",
    "\tfor a in range(len(X)):\n",
    "\t\tminim= np.where(sweep>= signal_start)[0][0]\n",
    "\t\tmaxim= np.where(sweep>= signal_end)[0][0]\n",
    "\t\tmaximum_X[a]=X[a][minim:maxim].min()\n",
    "\t\tmaximum_Y[a]=Y[a][minim:maxim].max()\n",
    "\n",
    "\t\tminim= np.where(sweep>= bg_start)[0][0]\n",
    "\t\tmaxim= np.where(sweep>= bg_end)[0][0]\n",
    "\t\tbackground_X[a]=X[a][minim:maxim].min()\n",
    "\t\tbackground_Y[a]=Y[a][minim:maxim].max()\n",
    "\t\t\n",
    "\tfig_width_pt = 320.0  # Get this from LaTeX using \\showthe\\columnwidth\n",
    "\tinches_per_pt = 1.0/72.27\t\t\t\t# Convert pt to inch\n",
    "\tgolden_mean = (math.sqrt(5)-1.0)/2.0\t\t # Aesthetic ratio\n",
    "\tfig_width = fig_width_pt*inches_per_pt\t# width in inches\n",
    "\tfig_height = fig_width\t\t# height in inches\n",
    "\tfig_size =\t[fig_width,fig_height]\n",
    "\tplt.rcParams['legend.fontsize'] = 8\n",
    "\tplt.rcParams['figure.figsize'] = fig_size\n",
    "\t\t\n",
    "\tplt.axis(\"Equal\")\n",
    "\tplt.scatter(maximum_X,maximum_Y ,label=\"signal.max\",alpha=0.9,s=19)\n",
    "\tplt.scatter(background_X,background_Y,label=\"background.max\",alpha=0.3,s=10)\n",
    "\t\n",
    "\n",
    "\tplt.xlabel(\"I_max (V)\")\n",
    "\tplt.ylabel(\"Q_max (V)\")\n",
    "\tplt.title(str(id_1)+\" \"+str(jupyter_name))\n",
    "\n",
    "\tplt.legend()\n",
    "\n",
    "\t\t\n",
    "\ttheta = np.linspace(0, 2*np.pi, 100)\n",
    "\n",
    "\t\n",
    "\tstand_dev_maximum=0\n",
    "\t\n",
    "\tfor b in range(len(maximum_X)):\n",
    "\t\tstand_dev_maximum=stand_dev_maximum+np.sqrt((maximum_X[b]-np.mean(maximum_X))**2+(maximum_Y[b]-np.mean(maximum_Y))**2)\n",
    "\t\n",
    "\t\n",
    "\tr = stand_dev_maximum/len(maximum_X)\n",
    "\n",
    "\tcirclex = r*np.cos(theta)+np.mean(maximum_X)\n",
    "\tcircley= r*np.sin(theta)+np.mean(maximum_Y)\n",
    "\tplt.plot(circlex,circley,'k')\n",
    "\n",
    "\tstand_dev_off=0\n",
    "\tfor b in range(len(maximum_X)):\n",
    "\t\tstand_dev_off=stand_dev_off+np.sqrt((background_X[b]-np.mean(background_X))**2+(background_Y[b]-np.mean(background_Y))**2)\n",
    "\n",
    "\tr = stand_dev_off/len(maximum_X)\n",
    "\n",
    "\tcirclex = r*np.cos(theta)+np.mean(background_X)\n",
    "\tcircley= r*np.sin(theta)+np.mean(background_Y)\n",
    "\tplt.plot(circlex,circley,'k')\n",
    "\tplt.show()\n",
    "\treturn maximum_X,maximum_Y,background_X,background_Y \n",
    "def projection(integer,X, Y, sweep,angle):\n",
    "\t'''\n",
    "    projects IQ data into an axis\n",
    "    Parameters\n",
    "    ----------\n",
    "    integer: 1d array.\n",
    "        number of trace\n",
    "    X: 2d array.\n",
    "         reflectometry traces in I.\n",
    "    Y: 2d array.\n",
    "         reflectometry traces in Q.\n",
    "    sweep: 1d array.\n",
    "        Trace time in us.\n",
    "    angle: float.\n",
    "        angle in radians between I axis and axis in which the signal is going to be projected onto.\n",
    "    Returns\n",
    "    -------\n",
    "    projected: 2d array.\n",
    "        IQ traces projected to best angle.\n",
    "    projected1: 2d array.\n",
    "        IQ traces projected perpendicularly to best angle. \n",
    "    '''\n",
    "\tX=np.resize(X, (len(integer),len(sweep))) \n",
    "\tY=np.resize(Y, (len(integer),len(sweep)))\n",
    "\tprojected=np.zeros((len(integer),len(sweep)))\n",
    "\tprojected1=np.zeros((len(integer),len(sweep)))\n",
    "\tfor a in range(int(len(integer))):\n",
    "\t\tprojected[a]=X[a]*np.cos(angle)+Y[a]*np.sin(angle)\n",
    "\t\tprojected1[a]=-X[a]*np.sin(angle)+Y[a]*np.cos(angle)\n",
    "\treturn projected, projected1 # \n",
    "def model_fit1( datax, datay, function, title,xlabel,ylabel,plot, init={}, bounds={},**kwargs):\n",
    "\t'''\n",
    "    Fits data to any function\n",
    "    Parameters\n",
    "    ----------\n",
    "    datax: 1d array.\n",
    "        x- axis from the data to be fitted\n",
    "    datay: 1d array.\n",
    "        y- axis from the data to be fitted\n",
    "    function: python function\n",
    "         function to be fitted\n",
    "    title: string.\n",
    "        title of the plot.\n",
    "    xlabel: string.\n",
    "        xlabel of the plot.\n",
    "    ylabel: string.\n",
    "        ylabel of the plot.\n",
    "    plot: bool.\n",
    "        True to plot, False to dont plot\n",
    "    Returns\n",
    "    -------\n",
    "    out.best_values: 1d array.\n",
    "        value of the fitted parameters.\n",
    "    errors: 1d array.\n",
    "        std of the parameters fitted\n",
    "    '''\n",
    "\tfrom lmfit import Model\n",
    "\tgmodel = Model(function)\n",
    "\tparams = gmodel.make_params()\n",
    "\t\n",
    "\tfor param in init.keys():\n",
    "\t\tif param in params:\n",
    "\t\t\tparams[param].value = init[param]\n",
    "\n",
    "\tfor param in bounds.keys():\n",
    "\t\tif param in params:\n",
    "\t\t\tparams[param].min = init[param][0]\n",
    "\t\t\tparams[param].max = init[param][1]\n",
    "\t\n",
    "\tout = gmodel.fit(datay,params, x=datax,sigma=2, **kwargs)\n",
    "\tdely = out.eval_uncertainty(x=datax,sigma=2)\n",
    "  \n",
    "\n",
    "\tif plot:\n",
    "\t\tplt.xlabel(xlabel, {'color': 'k', 'fontsize': 15}, )\n",
    "\t\tplt.ylabel(ylabel, {'color': 'k', 'fontsize': 15})\n",
    "\t\tplt.xticks( color='k', size=12)\n",
    "\t\tplt.yticks( color='k', size=12)\n",
    "\t\tplt.title(\"Model \"+title,size=16)\n",
    "\t\tplt.plot(datax, out.best_fit, 'r-', label='best fit')\n",
    "\t\tplt.scatter(datax , datay)\n",
    "\t\t#plt.fill_between(datax , out.best_fit-dely, out.best_fit+dely,color=\"#ABABAB\",label='$\\sigma$ uncertainty band')\n",
    "\t\tplt.legend(loc='best')\n",
    "\n",
    "\t\tplt.show()\n",
    "  \n",
    "\tkeys=list(params.valuesdict().keys() )\n",
    "\n",
    "\terror = {}\n",
    "\tfor i in range(len(keys)):\n",
    "\t\ttry:\n",
    "\t\t  error[keys[i]+\"_std\"] = np.absolute(out.covar[i][i])**0.5\n",
    "\t\texcept:\n",
    "\t\t  error[keys[i]+\"_std\"] = 0\n",
    "\treturn out.best_values, error\n",
    "def gaussian_function(x, mu, sigma):\n",
    "\t'''\n",
    "    Gaussian function\n",
    "    Parameters\n",
    "    ----------\n",
    "    datax: 1d array.\n",
    "        x- axis from the data to be fitted\n",
    "    mu: float.\n",
    "        median of the gaussian\n",
    "    sigma: float.\n",
    "         standard deviation of the gaussian\n",
    "    Returns\n",
    "    -------\n",
    "    1d array.\n",
    "        Gaussian fucntion\n",
    "    '''\n",
    "\treturn 1/sigma/np.sqrt(2*np.pi)*np.exp(-1/2*((x-mu)/sigma)**2)\n",
    "def fourier_transf(I,acqtime ):\n",
    "    I=I-np.mean(I)\n",
    "    #plt.plot(I)\n",
    "    fourier = np.fft.fft(I)\n",
    "    n = I.size\n",
    "    timestep = 1/n*acqtime\n",
    "    freq = np.fft.fftfreq(n, d=timestep)\n",
    "    #plt.scatter(freq, fourier)\n",
    "    plt.xlabel(\"Frequency (Hz)\")\n",
    "    return freq[0:int(n/2)], fourier[0:int(n/2)]\n",
    "def simulate_ss_out(A,std_down,std_up ,signal_low,signal_high,t_int,t_out,t_in,t_max,n_points_time, plot_trace = 0):\n",
    "    #v2 + add T_out\n",
    "    \n",
    "    # time list \n",
    "    #n_points_time = 1952 #number of points\n",
    "    #t_max = 2000 #mus\n",
    "    t = np.array(np.linspace(0,2000,n_points_time))\n",
    "    \n",
    "    # Indexes of time during which we will take the max of the trace + for the bg\n",
    "    \n",
    "    meas_time=t[(t<=t_max)]\n",
    "    #minim_time_bg= np.where(list_t>= 1460)[0][0]\n",
    "    #maxim_time_bg= np.where(list_t>= 1860)[0][0]\n",
    "        \n",
    "    # assign spin\n",
    "    choose_spin = np.random.binomial(1,A,1) #create 1 with proba A and 0 with proba (1-A)\n",
    "    \n",
    "    if choose_spin == 1 : # spin down because A = <P_down>\n",
    "    # create a blip of spin down i.e. noise centred at signal_low and take the max\n",
    "        line_spindown = moving_average(np.random.normal(signal_low,std_down,len(meas_time)),t_int) \n",
    "        \n",
    "        \n",
    "        max_ss = np.max(line_spindown)\n",
    "        #max_ss_bg = np.max(line_spindown[minim_time_bg:maxim_time_bg])\n",
    "        \n",
    "        if plot_trace == 1 :\n",
    "            plt.title('Spin down with Tint = %f, T_in = %f'%(t_int,t_in))\n",
    "            plt.plot(list_t,line_spindown)\n",
    "            plt.legend()\n",
    "            #plt.ylim((-0.05,0.25))\n",
    "            plt.grid()\n",
    "    \n",
    "    if choose_spin == 0 : #spin up\n",
    "    # create a blip of spin up and take the max\n",
    "        line_spinup =simple_ss_n_in_out(meas_time, t_in, t_out,std_down, std_up,t_int,signal_low, signal_high)\n",
    "        #line_spinup = ss_n_in_out_scaled_2std(t,t_in,t_out,t_bw,std_down,std_up,t_int,signal_low,signal_high)\n",
    "        max_ss = np.max(line_spinup)\n",
    "        #max_ss_bg = np.max(line_spinup[minim_time_bg:maxim_time_bg])\n",
    "        \n",
    "        if plot_trace == 1 :\n",
    "            plt.title('Spin up with Tint = %f, T_in = %f'%(t_int,t_in))\n",
    "            plt.plot(t_list,line_spinup)\n",
    "            plt.legend()\n",
    "            #plt.ylim((-0.05,0.25))\n",
    "            plt.grid()\n",
    "            \n",
    "    return(max_ss,choose_spin)  \n",
    "def simple_ss_n_in_out(t, t_in, t_out, std_low,std_high,t_int,signal_low =0, signal_high = 1):\n",
    "    ss_x=np.zeros(len(t))\n",
    "    \n",
    "    t_leave=np.random.exponential(t_out) #random t_out time\n",
    "    t_enter=np.random.exponential(t_in) #random t_in time\n",
    "    \n",
    "    i_leave = np.where(t<=t_leave)[0][-1]    \n",
    "    i_enter = np.where(t<=t_enter+t_leave)[0][-1]\n",
    "    \n",
    "    \n",
    "    ss_x[0:i_leave] = signal_low + np.random.normal(0,std_low,len(t[0:i_leave])) \n",
    "\n",
    "    if i_enter == i_leave : #means T_enter = 0\n",
    "        ss_x[i_leave:] =  signal_low + np.random.normal(0,std_low,len(t[i_leave:]))\n",
    "\n",
    "    else : \n",
    "        ss_x[i_leave:i_enter] = signal_high + np.random.normal(0,std_high,len(t[i_leave:i_enter]))\n",
    "        ss_x[i_enter:] = signal_low + np.random.normal(0,std_high,len(t[i_enter:])) #+1 to make it continuous]\n",
    "\n",
    "    # test another type of rolling avergae\n",
    "    ss_x = moving_average(ss_x,t_int)\n",
    "    return ss_x\n",
    "def histogram_data (data,Tint, number_bins =60, range_min = 0, range_max = 0.3):\n",
    "    x = np.array(data.maximum_distance)\n",
    "    y = np.array(data.maximum_bg)\n",
    "    \n",
    "    #make histogram\n",
    "    hist_max, bin_edges_max = np.histogram(x, bins=number_bins, range=(range_min,range_max))    \n",
    "    hist_max_bg, bin_edges_max_bg = np.histogram(y, bins=number_bins,range=(range_min,range_max) ) \n",
    "    \n",
    "    plt.figure()\n",
    "    plt.hist(x, bins=number_bins, range=(range_min,range_max),alpha = 0.7, label='signal')\n",
    "    #plt.hist(y, bins=number_bins, range=(range_min,range_max), alpha = 0.7,label='background' )\n",
    "    plt.title(\"histogram at Tint = %f us\" %Tint) \n",
    "    plt.show()\n",
    "    plt.legend()\n",
    "    #plt.savefig('1histogram.png')\n",
    "    \n",
    "    \n",
    "    #plt.figure()\n",
    "    plt.plot(get_inter_bins(bin_edges_max),hist_max, label='signal')\n",
    "    #plt.plot(get_inter_bins(bin_edges_max_bg),hist_max_bg,label ='background')\n",
    "    plt.legend()\n",
    "    plt.xlabel('Distance(V)')\n",
    "    plt.grid()\n",
    "    #plt.title('Tint = 2.5us')\n",
    "\n",
    "    return(get_inter_bins(bin_edges_max),hist_max,get_inter_bins(bin_edges_max_bg),hist_max_bg)\n",
    "# Create list with center of bin_edges so that we can plot the histogram as a curve \n",
    "def get_inter_bins(bins):\n",
    "    res = []\n",
    "    for i in range (len(bins)-1):\n",
    "        res.append( 1/2*(bins[i]+bins[i+1]))\n",
    "    return(res)\n",
    "def simulate_histogram_updown_Virginia(A,range_min,range_max,std_down,std_up, signal_low,signal_high,t_int,t_out,t_in,t_max,n_points_time,n_traces,num_bins = 60,plot_histo = 1):\n",
    "    #returns the histograms of spin up and down\n",
    "    \n",
    "    max_ss_up = []\n",
    "    max_ss_down = []\n",
    "    \n",
    "\n",
    "    # Do many traces and get max\n",
    "    for i in range(n_traces):\n",
    "        ss_readout = simulate_ss_out(A,std_down,std_up,signal_low,signal_high,t_int,t_out,t_in,t_max,n_points_time, 0)\n",
    "\n",
    "        if ss_readout[1] == 1 : #choose_spin = 1 so spin is down\n",
    "            max_ss_down.append(ss_readout[0])\n",
    "            \n",
    "\n",
    "        if ss_readout[1] == 0 : #choose_spin = 0 so spin is up\n",
    "            max_ss_up.append(ss_readout[0])\n",
    "            \n",
    "        \n",
    "        #if i==np.int(n_traces/2):\n",
    "        #    print('Progress>50%')\n",
    "    \n",
    "    max_ss_up = np.array(max_ss_up)\n",
    "    max_ss_down = np.array(max_ss_down)\n",
    "    \n",
    "    ma = np.append(max_ss_up,max_ss_down)\n",
    "   \n",
    "    \n",
    "\n",
    "    hist_max_ss_up, bin_edges_max_ss_up = np.histogram(max_ss_up,bins=num_bins,range = (range_min,range_max))    \n",
    "    hist_max_ss_down, bin_edges_max_ss_down = np.histogram(max_ss_down, bins=num_bins,range=(range_min,range_max) )\n",
    "\n",
    "    if plot_histo == 1:\n",
    "        # Plot the histogram \n",
    "        plt.hist(max_ss_up,bins=num_bins,range = (range_min,range_max), label = 'spin up', alpha = 0.5)  \n",
    "        plt.hist(max_ss_down,bins=num_bins,range = (range_min,range_max), label = 'spin down', alpha = 0.5)\n",
    "        plt.xlabel(\"Signal\")\n",
    "        plt.ylabel(\"Probability\")\n",
    "        plt.title('Simulated histogram')\n",
    "        print('Parameters for the simulation :')\n",
    "        print('T_int = %f us, T_in = %f us, T_out = %f us, T_bw = %f us' %(t_int,t_in,t_out,t_bw))\n",
    "        print('A = %f, std = %f'%(A,std))\n",
    "        plt.legend()\n",
    "        plt.show()\n",
    "        #plt.savefig('1histogram.png')\n",
    "\n",
    "\n",
    "    #return(get_inter_bins(bin_edges_max_ss),hist_max_ss,ma)\n",
    "    return(get_inter_bins(bin_edges_max_ss_up),hist_max_ss_up,get_inter_bins(bin_edges_max_ss_down),hist_max_ss_down)\n",
    "\n",
    "def fidelity_Virginia(threshold_signal, A, range_min,range_max,std_down,std_up, signal_low,signal_high,t_int,t_out,t_in,t_max,n_points_time,n_traces,num_bins = 60,plot_histo = 1, plot_distrib=0):\n",
    "    print(t_int)\n",
    "    res = simulate_histogram_updown_Virginia(A,range_min,range_max,std_bg,std_up, signal_low,signal_high,t_int,t_out,t_in,t_max,n_points_time,n_traces,num_bins , plot_histo)\n",
    "    \n",
    "    histo_up = (res[0],res[1])\n",
    "    histo_down = (res[2],res[3])\n",
    "    \n",
    "    #plot_distrib = 0\n",
    "    if plot_distrib == 1:\n",
    "        # -----------------------\n",
    "        plt.plot(histo_up[0], histo_up[1],label='spin up signal')\n",
    "        plt.plot(histo_down[0], histo_down[1],label='spin down signal')\n",
    "\n",
    "\n",
    "        # Caption\n",
    "        #------------------------\n",
    "        plt.legend()\n",
    "        plt.xlabel(\"Signal\")\n",
    "        plt.ylabel(\"Probability\")\n",
    "        plt.title('Simulated histogram Tin=%f'%t_in)\n",
    "        #plt.savefig('2_histogram_Tin=%f.png'%t_in)\n",
    "\n",
    "    f_hist_up = interp1d(histo_up[0], histo_up[1],kind='cubic')\n",
    "    f_hist_down = interp1d(histo_down[0], histo_down[1],kind='cubic')\n",
    "    \n",
    "    def f_total(x):\n",
    "        return(f_hist_up(x)+f_hist_down(x))\n",
    "    \n",
    "    fidelity_up = []\n",
    "    fidelity_down = []\n",
    "    fidelity_error = []\n",
    "    \n",
    "    if type(threshold_signal)==np.ndarray or type(threshold_signal)==list:\n",
    "        for signal in threshold_signal:\n",
    "            integ_up = integrate.quad(f_hist_up, np.min(histo_up[0]), signal)\n",
    "            integ_down = integrate.quad(f_hist_down, signal, np.max(histo_down[0]))\n",
    "\n",
    "            #integ_total = integrate.quad(f_total, range_min, range_max)\n",
    "            integ_total = np.array(integrate.quad(f_hist_up, np.min(histo_up[0]), np.max(histo_up[0]))) + np.array(integrate.quad(f_hist_down,  np.min(histo_down[0]),  np.max(histo_down[0])))\n",
    "\n",
    "            #print(integ_total)\n",
    "            error_total_integral = np.abs((histo_up[0][2]-histo_up[0][1])*n_traces - integ_total[0])\n",
    "            \n",
    "            fidelity_up.append(1-integ_up[0]/integ_total[0])\n",
    "            fidelity_down.append(1-integ_down[0]/integ_total[0])\n",
    "            fidelity_error.append(error_total_integral)\n",
    "            \n",
    "        return(fidelity_down,fidelity_up,fidelity_error)\n",
    "\n",
    "    \n",
    "    elif type(threshold_signal)==float or type(threshold_signal)==int:\n",
    "        integ_up = integrate.quad(f_hist_up, np.min(histo_up[0]), signal)\n",
    "        integ_down = integrate.quad(f_hist_down, signal, np.max(histo_down[0]))\n",
    "\n",
    "        #integ_total = integrate.quad(f_total, range_min, range_max)\n",
    "        integ_total = np.array(integrate.quad(f_hist_up, np.min(histo_up[0]), np.max(histo_up[0]))) + np.array(integrate.quad(f_hist_down,  np.min(histo_down[0]),  np.max(histo_down[0])))\n",
    "\n",
    "        #print(integ_total)\n",
    "        error_total_integral = np.abs((histo_up[0][2]-histo_up[0][1])*n_traces - integ_total[0])\n",
    "           \n",
    "        return(1-integ_down[0]/integ_total[0],1-integ_up[0]/integ_total[0],error_total_integral)"
   ]
  },
  {
   "cell_type": "code",
   "execution_count": 33,
   "metadata": {
    "ExecuteTime": {
     "end_time": "2021-12-01T16:34:26.689203Z",
     "start_time": "2021-12-01T16:34:26.669270Z"
    }
   },
   "outputs": [],
   "source": [
    "# perform a fit using lmfit given inital values and bounds\n",
    "def fit(x, y, func, init={}, bounds={}, fixed = {}, steps = {}, step_size = 1e-7):\n",
    "    \n",
    "    gmodel = Model(func)\n",
    "    params = gmodel.make_params()\n",
    "    \n",
    "    for param in fixed.keys():\n",
    "        if param in params:\n",
    "            params[param].set(fixed[param],vary=False)\n",
    "    \n",
    "    for param in init.keys():\n",
    "        if param in params:\n",
    "            params[param].value = init[param]\n",
    "\n",
    "    for param in bounds.keys():\n",
    "        if param in params:\n",
    "            params[param].min = bounds[param][0]\n",
    "            params[param].max = bounds[param][1]\n",
    "    \n",
    "    for param in steps.keys():\n",
    "        if param in params:\n",
    "            params[param].set(brute_step=steps[param])\n",
    "    \n",
    "            \n",
    "    #return gmodel.fit(y, params, x=x,method='brute')\n",
    "    return (gmodel.fit(y, params, x=x, fit_kws = {'epsfcn':step_size}))\n",
    "\n",
    "\n",
    "\n",
    "def simulate_histogram_out(A,range_min,range_max,std_down,std_up, signal_low,signal_high,t_int,t_out,t_in,t_max,n_points_time,n_traces,num_bins = 60,plot_histo = 1): \n",
    "    max_ss_up = []\n",
    "    max_ss_down = []\n",
    "    max_ss_bg = []\n",
    "\n",
    "    # Do many traces and get max\n",
    "    for i in range(n_traces):\n",
    "        \n",
    "        # Plot the traces for the first 5 traces \n",
    "        #if i<5 :\n",
    "        #    ss_readout = simulate_ss_out(A,std_down,signal_low,signal_high,t_int,t_out,t_in,t_max,n_points_time, 1)\n",
    "\n",
    "        #else :\n",
    "        ss_readout = simulate_ss_out(A,std_down,std_up,signal_low,signal_high,t_int,t_out,t_in,t_max,n_points_time, 0)\n",
    "            \n",
    "        if ss_readout[1] == 1 : #choose_spin = 1 so spin is down\n",
    "            max_ss_down.append(ss_readout[0])\n",
    "            #max_ss_bg.append(ss_readout[1])\n",
    "\n",
    "        if ss_readout[1] == 0 : #choose_spin = 0 so spin is up\n",
    "            max_ss_up.append(ss_readout[0])\n",
    "            #max_ss_bg.append(ss_readout[1])\n",
    "        \n",
    "        #if i==np.int(n_traces/2):\n",
    "        #    print('Progress>50%')\n",
    "    \n",
    "    ma = np.append(np.array(max_ss_up),np.array(max_ss_down))\n",
    "    #max_ss_bg = np.array(max_ss_bg)\n",
    "\n",
    "\n",
    "    hist_max_ss, bin_edges_max_ss = np.histogram(ma,bins=num_bins,range = (range_min,range_max))    \n",
    "    #hist_max_ss_bg, bin_edges_max_ss_bg = np.histogram(max_ss_bg, bins=num_bins,range=(range_min,range_max) )\n",
    "    \n",
    "    bin_axis_ss= bin_edges_max_ss[0:-1]+( bin_edges_max_ss[1]- bin_edges_max_ss[0])/2\n",
    "    normalisation=( bin_edges_max_ss[1]- bin_edges_max_ss[0])*n_traces\n",
    "    \n",
    "    \n",
    "    #print('number of traces for bg =',len(max_ss_bg),'number of up traces =',len(max_ss_up))\n",
    "    if plot_histo == 1:\n",
    "        # Plot the histogram \n",
    "        plt.figure()\n",
    "        plt.hist(ma,bins=num_bins,label='total', alpha = 0.6,range = (range_min,range_max))\n",
    "        #plt.hist(max_ss_bg,bins=num_bins ,label='background', alpha = 0.5,range = (range_min,range_max))\n",
    "        plt.xlabel(\"Signal\")\n",
    "        plt.ylabel(\"Probability\")\n",
    "        plt.title('Simulated histogram')\n",
    "        print('Parameters for the simulation :')\n",
    "        print('T_int = %f us, T_in = %f us, T_out = %f us' %(t_int,t_in,t_out))\n",
    "        print('A = %f, std = %f'%(A,std_down))\n",
    "        plt.legend()\n",
    "        plt.show()\n",
    "        #plt.savefig('1histogram.png')\n",
    "\n",
    "        #Plot the histogram as lines \n",
    "        plt.title('Simulated histogram as lines')\n",
    "        plt.plot(get_inter_bins(bin_edges_max_ss),hist_max_ss, label='signal')\n",
    "        plt.plot(get_inter_bins(bin_edges_max_ss_bg),hist_max_ss_bg,label ='background')\n",
    "        plt.legend()\n",
    "        plt.xlabel('Distance(V)')\n",
    "        plt.grid()\n",
    "        #plt.title('Tint = 2.5us')\n",
    "\n",
    "    return(bin_axis_ss,hist_max_ss/normalisation)\n",
    "\n",
    "\n",
    "def fit_histogram_v2(x,A,range_min,range_max,std_low, std_up,signal_low,signal_high,t_int,t_out,t_in,t_max,n_points_time,n_traces,num_bins = 60, plot_histo = 0):\n",
    "    #interpolate the histogram after generating it\n",
    "    \n",
    "    #print('x=',x)\n",
    "    #print('signal_high=',signal_high)\n",
    "    #print(\"std_up\",std_up)\n",
    "    #print(\"A\",A)\n",
    "    (inter_bin_simu, hist_max_simu) =  simulate_histogram_out(A,range_min,range_max,std_low,std_up, signal_low,signal_high,t_int,t_out,t_in,t_max,n_points_time,n_traces,num_bins ,plot_histo  )\n",
    "    f_hist_inter = interp1d(inter_bin_simu, hist_max_simu, kind='cubic')\n",
    "    \n",
    "    return(f_hist_inter(x))"
   ]
  },
  {
   "cell_type": "code",
   "execution_count": 34,
   "metadata": {
    "ExecuteTime": {
     "end_time": "2021-12-01T16:34:27.063271Z",
     "start_time": "2021-12-01T16:34:27.051306Z"
    }
   },
   "outputs": [],
   "source": [
    "def simple_ss_n_in_out_sim(t, t_in, t_out, std_low, std_up, signal_low =0, signal_high = 1):\n",
    "    ss_x=np.zeros(len(t))\n",
    "    \n",
    "    t_leave=np.random.exponential(t_out) #random t_out time\n",
    "    t_enter=np.random.exponential(t_in) #random t_in time\n",
    "    \n",
    "    i_leave = np.where(t<=t_leave)[0][-1]    \n",
    "    i_enter = np.where(t<=t_enter+t_leave)[0][-1]\n",
    "    \n",
    "    \n",
    "    ss_x[0:i_leave] = signal_low + np.random.normal(0,std_low,len(t[0:i_leave])) \n",
    "\n",
    "    if i_enter == i_leave : #means T_enter = 0\n",
    "        ss_x[i_leave:] =  signal_low + np.random.normal(0,std_low,len(t[i_leave:]))\n",
    "\n",
    "    else : \n",
    "        ss_x[i_leave:i_enter] = signal_high + np.random.normal(0,std_low,len(t[i_leave:i_enter]))\n",
    "        ss_x[i_enter:] = signal_low + np.random.normal(0,std_low,len(t[i_enter:])) #+1 to make it continuous]\n",
    "\n",
    "    # test another type of rolling avergae\n",
    "   # ss_x = moving_average(ss_x,t_int)\n",
    "    return ss_x\n",
    "\n",
    "\n",
    "\n",
    "def simulate_distance(A,std_down,std_up ,signal_low,signal_high,t_out,t_in,n_points_time, n_traces,sweep):\n",
    "    ss = []\n",
    "    spin_number=np.empty(0)\n",
    "    \n",
    "    for i in range(n_traces):\n",
    "        choose_spin = np.random.binomial(1,A,1) #create 1 with proba A and 0 with proba (1-A)\n",
    "        spin_number = np.append(spin_number, choose_spin)\n",
    "        \n",
    "        if choose_spin == 1 : # spin down because A = <P_down>\n",
    "        # create a blip of spin down i.e. noise centred at signal_low and take the max\n",
    "            line_spin_down = signal_low + np.random.normal(0,std_down,n_points_time)\n",
    "            ss.append(line_spin_down )\n",
    "            \n",
    "            \n",
    "        if choose_spin == 0 : #spin up\n",
    "        # create a blip of spin up and take the max\n",
    "            line_spin_up =simple_ss_n_in_out_sim(sweep, t_in, t_out,std_down, std_up,signal_low, signal_high)\n",
    "            \n",
    "            ss.append( line_spin_up )\n",
    "            \n",
    "    ss=np.array(ss)\n",
    "    return(ss,spin_number)  \n",
    "\n",
    "def standard_deviation_error(x):\n",
    "    mean=np.mean(x)\n",
    "    n=len(x)\n",
    "    mu_4=1/n*np.sum((x-mean)**4)\n",
    "    se_s2=np.sqrt(1/n*(mu_4-(n-3)/(n-1)*np.std(x)**4))\n",
    "    return se_s2"
   ]
  },
  {
   "cell_type": "markdown",
   "metadata": {},
   "source": [
    "# ID_1_2"
   ]
  },
  {
   "cell_type": "code",
   "execution_count": 239,
   "metadata": {
    "ExecuteTime": {
     "end_time": "2021-12-01T18:10:53.034181Z",
     "start_time": "2021-12-01T18:10:53.012993Z"
    }
   },
   "outputs": [],
   "source": [
    "# load database\n",
    "qc.config.core.db_location = './fidelity_vs_power_readout-0.01112.db' \n",
    "#qc.config.core.db_location = './fidelity_vs_readout_pos.db' \n",
    "# open data\n",
    "id_1=5\n",
    "dataset=load_by_id(id_1)\n"
   ]
  },
  {
   "cell_type": "code",
   "execution_count": 240,
   "metadata": {
    "ExecuteTime": {
     "end_time": "2021-12-01T18:10:53.517916Z",
     "start_time": "2021-12-01T18:10:53.501803Z"
    }
   },
   "outputs": [
    {
     "data": {
      "text/plain": [
       "4"
      ]
     },
     "execution_count": 240,
     "metadata": {},
     "output_type": "execute_result"
    }
   ],
   "source": [
    "import json\n",
    "with open('JPA_off_vs_power_'+str(id_1)+'.json', 'r') as file:\n",
    "    signal_parameters_fit_read=json.load(file)\n",
    "    \n",
    "power=dataset.snapshot[\"station\"][\"instruments\"][\"RF\"][\"parameters\"][\"power\"][\"value\"]\n",
    "power"
   ]
  },
  {
   "cell_type": "code",
   "execution_count": 241,
   "metadata": {
    "ExecuteTime": {
     "end_time": "2021-12-01T18:10:53.950351Z",
     "start_time": "2021-12-01T18:10:53.936399Z"
    }
   },
   "outputs": [],
   "source": [
    "A=signal_parameters_fit_read[\"A\"]\n",
    "std_low=signal_parameters_fit_read[\"std_bg\"]\n",
    "std_up=signal_parameters_fit_read[\"std_up\"]\n",
    "signal_low=signal_parameters_fit_read[\"mean_bg\"]\n",
    "signal_high=signal_parameters_fit_read[\"mean_up\"]\n",
    "\n",
    "t_in=signal_parameters_fit_read[\"t_in\"]\n",
    "t_out=signal_parameters_fit_read[\"t_out\"]"
   ]
  },
  {
   "cell_type": "code",
   "execution_count": 242,
   "metadata": {
    "ExecuteTime": {
     "end_time": "2021-12-01T18:11:09.402754Z",
     "start_time": "2021-12-01T18:10:54.509375Z"
    }
   },
   "outputs": [],
   "source": [
    "# Generates distance\n",
    "\n",
    "# SIMULATION- CREATE DATA\n",
    "\n",
    "signal_low=signal_parameters_fit_read[\"mean_bg\"]\n",
    "signal_high=signal_parameters_fit_read[\"mean_up\"]\n",
    "std_bg=signal_parameters_fit_read[\"std_bg\"]\n",
    "std_up=signal_parameters_fit_read[\"std_up\"]\n",
    "\n",
    "#t_out= 31.160407033908214\n",
    "#A=0.4630301498361565\n",
    "#t_in= 185.78804551121178\n",
    "\n",
    "t_in=signal_parameters_fit_read[\"t_in\"]\n",
    "t_out=signal_parameters_fit_read[\"t_out\"]\n",
    "\n",
    "A=signal_parameters_fit_read[\"A\"]\n",
    "\n",
    "n_traces=100000\n",
    "n_points_time=1951\n",
    "acquisition_time=2000\n",
    "\n",
    "sweep=np.linspace(0,acquisition_time,n_points_time)\n",
    "\n",
    "\n",
    "\n",
    "sim_distance, spin_sim= simulate_distance(A,std_bg,std_up ,signal_low,signal_high,t_out,t_in,n_points_time, n_traces,sweep)\n",
    "\n"
   ]
  },
  {
   "cell_type": "markdown",
   "metadata": {},
   "source": [
    "## Loop in t_max and t_int"
   ]
  },
  {
   "cell_type": "code",
   "execution_count": 243,
   "metadata": {
    "ExecuteTime": {
     "end_time": "2021-12-01T18:11:25.188039Z",
     "start_time": "2021-12-01T18:11:09.403687Z"
    }
   },
   "outputs": [
    {
     "name": "stdout",
     "output_type": "stream",
     "text": [
      "[ 2  9 17 25 33 41 48 56 64 72 80]\n"
     ]
    },
    {
     "ename": "IndexError",
     "evalue": "index 0 is out of bounds for axis 0 with size 0",
     "output_type": "error",
     "traceback": [
      "\u001b[1;31m---------------------------------------------------------------------------\u001b[0m",
      "\u001b[1;31mIndexError\u001b[0m                                Traceback (most recent call last)",
      "\u001b[1;32m~\\AppData\\Local\\Temp/ipykernel_11816/2429608673.py\u001b[0m in \u001b[0;36m<module>\u001b[1;34m\u001b[0m\n\u001b[0;32m     38\u001b[0m \u001b[1;33m\u001b[0m\u001b[0m\n\u001b[0;32m     39\u001b[0m         \u001b[1;32mfor\u001b[0m \u001b[0ma\u001b[0m \u001b[1;32min\u001b[0m \u001b[0mrange\u001b[0m\u001b[1;33m(\u001b[0m\u001b[0mlen\u001b[0m\u001b[1;33m(\u001b[0m\u001b[0msim_distance_rem\u001b[0m\u001b[1;33m)\u001b[0m\u001b[1;33m)\u001b[0m\u001b[1;33m:\u001b[0m\u001b[1;33m\u001b[0m\u001b[1;33m\u001b[0m\u001b[0m\n\u001b[1;32m---> 40\u001b[1;33m             \u001b[0mminim\u001b[0m\u001b[1;33m=\u001b[0m \u001b[0mnp\u001b[0m\u001b[1;33m.\u001b[0m\u001b[0mwhere\u001b[0m\u001b[1;33m(\u001b[0m\u001b[0msweep_40_rem\u001b[0m\u001b[1;33m>=\u001b[0m \u001b[1;36m0\u001b[0m\u001b[1;33m)\u001b[0m\u001b[1;33m[\u001b[0m\u001b[1;36m0\u001b[0m\u001b[1;33m]\u001b[0m\u001b[1;33m[\u001b[0m\u001b[1;36m0\u001b[0m\u001b[1;33m]\u001b[0m\u001b[1;33m\u001b[0m\u001b[1;33m\u001b[0m\u001b[0m\n\u001b[0m\u001b[0;32m     41\u001b[0m             \u001b[0mmaxim\u001b[0m\u001b[1;33m=\u001b[0m \u001b[0mnp\u001b[0m\u001b[1;33m.\u001b[0m\u001b[0mwhere\u001b[0m\u001b[1;33m(\u001b[0m\u001b[0msweep_40_rem\u001b[0m\u001b[1;33m>=\u001b[0m \u001b[0msweep_40_rem\u001b[0m\u001b[1;33m.\u001b[0m\u001b[0mmax\u001b[0m\u001b[1;33m(\u001b[0m\u001b[1;33m)\u001b[0m\u001b[1;33m)\u001b[0m\u001b[1;33m[\u001b[0m\u001b[1;36m0\u001b[0m\u001b[1;33m]\u001b[0m\u001b[1;33m[\u001b[0m\u001b[1;36m0\u001b[0m\u001b[1;33m]\u001b[0m\u001b[1;33m\u001b[0m\u001b[1;33m\u001b[0m\u001b[0m\n\u001b[0;32m     42\u001b[0m \u001b[1;33m\u001b[0m\u001b[0m\n",
      "\u001b[1;31mIndexError\u001b[0m: index 0 is out of bounds for axis 0 with size 0"
     ]
    }
   ],
   "source": [
    "\n",
    "t_max=np.logspace(np.log10(50),np.log10(1999),11)\n",
    "#t_max=np.linspace((300),(310),1)\n",
    "factor=np.linspace((2),(80),11)\n",
    "\n",
    "#print(factor)\n",
    "factor = factor.astype(int)\n",
    "print(factor)\n",
    "visibility_2D_map=np.zeros((len(t_max), len(factor)))\n",
    "fidelity_up_def=np.zeros((len(t_max), len(factor)))\n",
    "fidelity_down_def=np.zeros((len(t_max), len(factor)))\n",
    "\n",
    "for c in range(len(t_max)):\n",
    "\n",
    "    ## Define your t_max\n",
    "    #t_max=200\n",
    "    n_point_max= np.where(sweep>= t_max[c])[0][0]\n",
    "\n",
    "    to_remove=np.linspace(n_point_max,n_points_time-1,n_points_time-n_point_max )\n",
    "    to_remove=to_remove.astype(int)\n",
    "    sweep_rem = sweep[0:n_point_max]\n",
    "    sim_distance_rem=np.delete(sim_distance, to_remove,1)\n",
    "\n",
    "    for b in range(len(factor)):\n",
    "        ## SIMULATION MOVING AVERAGE\n",
    "        #factor=10\n",
    "        sim_distance_40_rem=np.zeros((len(sim_distance_rem),len( moving_average(sim_distance_rem[0], factor[b]))))\n",
    "        sweep_40_rem=np.zeros(len(moving_average(sim_distance_rem[0], factor[b])))\n",
    "\n",
    "        for a in range(len(sim_distance_rem)):\n",
    "            sim_distance_40_rem[a]=moving_average(sim_distance_rem[a], factor[b])\n",
    "\n",
    "        sweep_40_rem=moving_average(sweep_rem, factor[b])\n",
    "\n",
    "\n",
    "\n",
    "        # HISTOGRAM WITH SIMULATION\n",
    "        maximum_sim_rem=np.zeros(len(sim_distance_40_rem))\n",
    "\n",
    "        for a in range(len(sim_distance_rem)):\n",
    "            minim= np.where(sweep_40_rem>= 0)[0][0]\n",
    "            maxim= np.where(sweep_40_rem>= sweep_40_rem.max())[0][0]\n",
    "\n",
    "\n",
    "            maximum_sim_rem[a]=sim_distance_40_rem[a][minim:maxim].max()\n",
    "        range_min=maximum_sim_rem.min()\n",
    "        range_max=maximum_sim_rem.max()\n",
    "\n",
    "        ## fidelity with histogram\n",
    "\n",
    "\n",
    "        epsilon=0.005\n",
    "        signal_threshold = np.linspace(range_min + epsilon, range_max - epsilon,50)\n",
    "\n",
    "        fidelity_up = []\n",
    "        fidelity_down = []\n",
    "\n",
    "        spin_up_maximums=maximum_sim_rem[np.where(spin_sim==0)[0]]\n",
    "        spin_down_maximums=maximum_sim_rem[np.where(spin_sim==1)[0]]\n",
    "        for signal in signal_threshold:\n",
    "\n",
    "                    integ_up=len(np.where(spin_up_maximums<=signal)[0])\n",
    "                    integ_down=len(np.where(spin_down_maximums>=signal)[0])\n",
    "\n",
    "                    fidelity_up.append(1-integ_up/n_traces)\n",
    "                    fidelity_down.append(1-integ_down/n_traces)\n",
    "\n",
    "\n",
    "        visibility=np.array(fidelity_up)+np.array(fidelity_down)-1\n",
    "        integer=np.where(visibility==visibility.max())[0][0]\n",
    "        fidelity_up_def[c][b]=np.array(fidelity_up)[integer]\n",
    "        fidelity_down_def[c][b]=np.array(fidelity_down)[integer]\n",
    "        visibility_2D_map[c][b]=visibility.max()\n",
    "    #print (\"visibility\",visibility_2D_map[c][b])\n",
    "    print (c)\n",
    "    #plt.plot(factor,visibility_2D_map[c],label=\"t_max=\"+str(t_max[c]))\n",
    "    #plt.legend()\n",
    "    #plt.show()"
   ]
  },
  {
   "cell_type": "code",
   "execution_count": null,
   "metadata": {
    "ExecuteTime": {
     "end_time": "2021-12-01T18:11:25.191183Z",
     "start_time": "2021-12-01T18:11:25.191183Z"
    }
   },
   "outputs": [],
   "source": [
    "\n",
    "np.savez('./power_dependency/visibility_2D_map_JPA_OFF_P=' +str(power)+ '.npz', factor=factor, t_max=t_max, visibility_2D_map=visibility_2D_map, fidelity_up_E=fidelity_up_def, fidelity_down_E=fidelity_down_def)\n",
    "\n"
   ]
  },
  {
   "cell_type": "code",
   "execution_count": 217,
   "metadata": {
    "ExecuteTime": {
     "end_time": "2021-12-01T18:07:26.783491Z",
     "start_time": "2021-12-01T18:07:26.771531Z"
    }
   },
   "outputs": [],
   "source": [
    "np.savez('./power_dependency/visibility_JPA_OFF_P=' +str(power)+ '_factor=15.npz', factor=factor, t_max=t_max, visibility_2D_map=visibility_2D_map, fidelity_up_E=fidelity_up_def, fidelity_down_E=fidelity_down_def)\n"
   ]
  },
  {
   "cell_type": "markdown",
   "metadata": {},
   "source": [
    "# power -2 id_1=1"
   ]
  },
  {
   "cell_type": "code",
   "execution_count": 126,
   "metadata": {
    "ExecuteTime": {
     "end_time": "2021-12-01T17:09:53.030968Z",
     "start_time": "2021-12-01T17:09:53.023039Z"
    }
   },
   "outputs": [],
   "source": [
    "power=-2\n",
    "id_1=1"
   ]
  },
  {
   "cell_type": "code",
   "execution_count": 127,
   "metadata": {
    "ExecuteTime": {
     "end_time": "2021-12-01T17:09:53.359182Z",
     "start_time": "2021-12-01T17:09:53.347222Z"
    }
   },
   "outputs": [
    {
     "data": {
      "text/plain": [
       "0.6021073894048742"
      ]
     },
     "execution_count": 127,
     "metadata": {},
     "output_type": "execute_result"
    }
   ],
   "source": [
    "import json\n",
    "with open('JPA_off_vs_power_'+str(id_1)+'.json', 'r') as file:\n",
    "    signal_parameters_fit_read=json.load(file)\n",
    "\n",
    "    \n",
    "A=signal_parameters_fit_read[\"A\"]\n",
    "std_low=signal_parameters_fit_read[\"std_bg\"]\n",
    "std_up=signal_parameters_fit_read[\"std_up\"]\n",
    "signal_low=signal_parameters_fit_read[\"mean_bg\"]\n",
    "signal_high=signal_parameters_fit_read[\"mean_up\"]\n",
    "\n",
    "t_in=signal_parameters_fit_read[\"t_in\"]\n",
    "t_out=signal_parameters_fit_read[\"t_out\"]\n",
    "\n",
    "\n",
    "SNR=((signal_high-signal_low)/((std_low+std_up)/2))**2\n",
    "SNR"
   ]
  },
  {
   "cell_type": "code",
   "execution_count": 128,
   "metadata": {
    "ExecuteTime": {
     "end_time": "2021-12-01T17:09:53.809696Z",
     "start_time": "2021-12-01T17:09:53.801719Z"
    }
   },
   "outputs": [
    {
     "data": {
      "text/plain": [
       "517.1980097410014"
      ]
     },
     "execution_count": 128,
     "metadata": {},
     "output_type": "execute_result"
    }
   ],
   "source": [
    "t_in"
   ]
  },
  {
   "cell_type": "code",
   "execution_count": 88,
   "metadata": {
    "ExecuteTime": {
     "end_time": "2021-12-01T16:57:58.587277Z",
     "start_time": "2021-12-01T16:57:58.573324Z"
    }
   },
   "outputs": [],
   "source": [
    "np.load('./power_dependency/visibility_2D_map_JPA_OFF_P='+str(power)+  '.npz').files\n",
    "\n",
    "factor=np.load('./power_dependency/visibility_2D_map_JPA_OFF_P=' +str(power)+  '.npz')[\"factor\"]\n",
    "visibility_2D_map=np.load('./power_dependency/visibility_2D_map_JPA_OFF_P=' +str(power)+  '.npz')[\"visibility_2D_map\"]\n",
    "t_max=np.load('./power_dependency/visibility_2D_map_JPA_OFF_P=' +str(power)+  '.npz')[\"t_max\"]\n",
    "fidelity_up_E=np.load('./power_dependency/visibility_2D_map_JPA_OFF_P=' +str(power)+  '.npz')[\"fidelity_up_E\"]\n",
    "fidelity_down_E=np.load('./power_dependency/visibility_2D_map_JPA_OFF_P=' +str(power)+  '.npz')[\"fidelity_down_E\"]\n",
    "\n"
   ]
  },
  {
   "cell_type": "code",
   "execution_count": 89,
   "metadata": {
    "ExecuteTime": {
     "end_time": "2021-12-01T16:57:59.122460Z",
     "start_time": "2021-12-01T16:57:59.105514Z"
    }
   },
   "outputs": [
    {
     "data": {
      "text/plain": [
       "array([ 100.        ,  134.92828477,  182.0564203 ,  245.64560522,\n",
       "        331.44540173,  447.2135955 ,  603.41763365,  814.18106307,\n",
       "       1098.56054331, 1482.26889821, 2000.        ])"
      ]
     },
     "execution_count": 89,
     "metadata": {},
     "output_type": "execute_result"
    }
   ],
   "source": [
    "t_max"
   ]
  },
  {
   "cell_type": "code",
   "execution_count": 90,
   "metadata": {
    "ExecuteTime": {
     "end_time": "2021-12-01T16:58:03.225791Z",
     "start_time": "2021-12-01T16:58:03.217814Z"
    }
   },
   "outputs": [
    {
     "data": {
      "text/plain": [
       "0.6021073894048742"
      ]
     },
     "execution_count": 90,
     "metadata": {},
     "output_type": "execute_result"
    }
   ],
   "source": []
  },
  {
   "cell_type": "code",
   "execution_count": 91,
   "metadata": {
    "ExecuteTime": {
     "end_time": "2021-12-01T16:58:04.183986Z",
     "start_time": "2021-12-01T16:58:03.900695Z"
    }
   },
   "outputs": [
    {
     "name": "stderr",
     "output_type": "stream",
     "text": [
      "C:\\Users\\virgi\\QMT Dropbox\\Virginia Ciriano\\experiments\\2_qubit_gate_raw_data\\W19\\2S28_1\\DATA_ANALYSIS\\Spin_fidelity_JPA_off_vs\\fit_helpers_vir.py:210: MatplotlibDeprecationWarning: shading='flat' when X and Y have the same dimensions as C is deprecated since 3.3.  Either specify the corners of the quadrilaterals with X and Y, or pass shading='auto', 'nearest' or 'gouraud', or set rcParams['pcolor.shading'].  This will become an error two minor releases later.\n",
      "  cs = ax.pcolormesh(Y, X, Z,vmin=level_min,vmax=level_max,  cmap='viridis')\n"
     ]
    },
    {
     "data": {
      "image/png": "[encoded data removed]",
      "text/plain": [
       "<Figure size 239.103x147.774 with 2 Axes>"
      ]
     },
     "metadata": {
      "needs_background": "light"
     },
     "output_type": "display_data"
    }
   ],
   "source": [
    "from fit_helpers_vir import *\n",
    "\n",
    "%matplotlib inline\n",
    "D2_map(factor,t_max,(visibility_2D_map),0.97,visibility_2D_map.max(),\"linear\", \"visibility 2D map\",\"factor\",\"meas_time $(\\mu s)$\",\"2D_MAP\")\n"
   ]
  },
  {
   "cell_type": "code",
   "execution_count": 93,
   "metadata": {
    "ExecuteTime": {
     "end_time": "2021-12-01T16:58:28.683429Z",
     "start_time": "2021-12-01T16:58:28.669902Z"
    }
   },
   "outputs": [
    {
     "data": {
      "text/plain": [
       "40"
      ]
     },
     "execution_count": 93,
     "metadata": {},
     "output_type": "execute_result"
    }
   ],
   "source": [
    "factor[-3]"
   ]
  },
  {
   "cell_type": "code",
   "execution_count": 75,
   "metadata": {
    "ExecuteTime": {
     "end_time": "2021-12-01T16:55:58.448742Z",
     "start_time": "2021-12-01T16:55:58.431198Z"
    }
   },
   "outputs": [],
   "source": [
    "\n"
   ]
  },
  {
   "cell_type": "code",
   "execution_count": null,
   "metadata": {
    "ExecuteTime": {
     "end_time": "2021-12-01T16:55:16.020919Z",
     "start_time": "2021-12-01T16:55:16.020919Z"
    }
   },
   "outputs": [],
   "source": []
  },
  {
   "cell_type": "code",
   "execution_count": 100,
   "metadata": {
    "ExecuteTime": {
     "end_time": "2021-12-01T17:04:44.838483Z",
     "start_time": "2021-12-01T17:04:44.820543Z"
    }
   },
   "outputs": [],
   "source": [
    "np.load('./power_dependency/visibility_JPA_OFF_P='+str(power)+  '_factor=40.npz').files\n",
    "\n",
    "visibility_2D_map=np.load('./power_dependency/visibility_JPA_OFF_P=' +str(power)+  '_factor=40.npz')[\"visibility_2D_map\"]\n",
    "t_max=np.load('./power_dependency/visibility_JPA_OFF_P=' +str(power)+  '_factor=40.npz')[\"t_max\"]\n",
    "fidelity_down_E=np.load('./power_dependency/visibility_JPA_OFF_P=' +str(power)+  '_factor=40.npz')[\"fidelity_down_E\"]\n",
    "fidelity_up_E=np.load('./power_dependency/visibility_JPA_OFF_P=' +str(power)+  '_factor=40.npz')[\"fidelity_up_E\"]"
   ]
  },
  {
   "cell_type": "code",
   "execution_count": 101,
   "metadata": {
    "ExecuteTime": {
     "end_time": "2021-12-01T17:04:45.589403Z",
     "start_time": "2021-12-01T17:04:45.247731Z"
    }
   },
   "outputs": [
    {
     "data": {
      "text/plain": [
       "421.20585347147204"
      ]
     },
     "execution_count": 101,
     "metadata": {},
     "output_type": "execute_result"
    },
    {
     "data": {
      "image/png": "[encoded data removed]",
      "text/plain": [
       "<Figure size 239.103x147.774 with 1 Axes>"
      ]
     },
     "metadata": {
      "needs_background": "light"
     },
     "output_type": "display_data"
    }
   ],
   "source": [
    "plt.scatter(t_max[:-1], 1-(fidelity_down_E[:-1]+fidelity_up_E[:-1])/2)\n",
    "plt.yscale(\"log\")\n",
    "plt.xscale(\"log\")\n",
    "max_vis=np.where((fidelity_down_E+fidelity_up_E)==(fidelity_down_E+fidelity_up_E).max())[0][0]\n",
    "t_max[max_vis]"
   ]
  },
  {
   "cell_type": "code",
   "execution_count": 102,
   "metadata": {
    "ExecuteTime": {
     "end_time": "2021-12-01T17:05:00.247298Z",
     "start_time": "2021-12-01T17:05:00.232348Z"
    }
   },
   "outputs": [
    {
     "data": {
      "text/plain": [
       "array([0.97379])"
      ]
     },
     "execution_count": 102,
     "metadata": {},
     "output_type": "execute_result"
    }
   ],
   "source": [
    "fidelity_up_E[max_vis]"
   ]
  },
  {
   "cell_type": "code",
   "execution_count": 103,
   "metadata": {
    "ExecuteTime": {
     "end_time": "2021-12-01T17:05:10.531751Z",
     "start_time": "2021-12-01T17:05:10.524719Z"
    }
   },
   "outputs": [
    {
     "data": {
      "text/plain": [
       "array([0.9974])"
      ]
     },
     "execution_count": 103,
     "metadata": {},
     "output_type": "execute_result"
    }
   ],
   "source": [
    "fidelity_down_E[max_vis]"
   ]
  },
  {
   "cell_type": "markdown",
   "metadata": {},
   "source": [
    "# power 0 id_1=2"
   ]
  },
  {
   "cell_type": "code",
   "execution_count": null,
   "metadata": {},
   "outputs": [],
   "source": [
    "power=0\n",
    "id_1=2"
   ]
  },
  {
   "cell_type": "code",
   "execution_count": null,
   "metadata": {},
   "outputs": [],
   "source": [
    "import json\n",
    "with open('JPA_off_vs_power_'+str(id_1)+'.json', 'r') as file:\n",
    "    signal_parameters_fit_read=json.load(file)\n",
    "\n",
    "    \n",
    "A=signal_parameters_fit_read[\"A\"]\n",
    "std_low=signal_parameters_fit_read[\"std_bg\"]\n",
    "std_up=signal_parameters_fit_read[\"std_up\"]\n",
    "signal_low=signal_parameters_fit_read[\"mean_bg\"]\n",
    "signal_high=signal_parameters_fit_read[\"mean_up\"]\n",
    "\n",
    "t_in=signal_parameters_fit_read[\"t_in\"]\n",
    "t_out=signal_parameters_fit_read[\"t_out\"]\n",
    "\n",
    "\n",
    "SNR=((signal_high-signal_low)/((std_low+std_up)/2))**2\n",
    "SNR"
   ]
  },
  {
   "cell_type": "code",
   "execution_count": 40,
   "metadata": {
    "ExecuteTime": {
     "end_time": "2021-12-01T16:40:10.243699Z",
     "start_time": "2021-12-01T16:40:09.653251Z"
    }
   },
   "outputs": [
    {
     "name": "stderr",
     "output_type": "stream",
     "text": [
      "C:\\Users\\virgi\\QMT Dropbox\\Virginia Ciriano\\experiments\\2_qubit_gate_raw_data\\W19\\2S28_1\\DATA_ANALYSIS\\Spin_fidelity_JPA_off_vs\\fit_helpers_vir.py:210: MatplotlibDeprecationWarning: shading='flat' when X and Y have the same dimensions as C is deprecated since 3.3.  Either specify the corners of the quadrilaterals with X and Y, or pass shading='auto', 'nearest' or 'gouraud', or set rcParams['pcolor.shading'].  This will become an error two minor releases later.\n",
      "  cs = ax.pcolormesh(Y, X, Z,vmin=level_min,vmax=level_max,  cmap='viridis')\n"
     ]
    },
    {
     "data": {
      "image/png": "[encoded data removed]",
      "text/plain": [
       "<Figure size 239.103x147.774 with 2 Axes>"
      ]
     },
     "metadata": {
      "needs_background": "light"
     },
     "output_type": "display_data"
    }
   ],
   "source": [
    "from fit_helpers_vir import *\n",
    "\n",
    "%matplotlib inline\n",
    "D2_map(factor,t_max,(visibility_2D_map),0.97,visibility_2D_map.max(),\"linear\", \"visibility 2D map\",\"factor\",\"meas_time $(\\mu s)$\",\"2D_MAP\")\n"
   ]
  },
  {
   "cell_type": "code",
   "execution_count": 107,
   "metadata": {
    "ExecuteTime": {
     "end_time": "2021-12-01T17:07:33.748188Z",
     "start_time": "2021-12-01T17:07:33.732155Z"
    }
   },
   "outputs": [],
   "source": [
    "np.load('./power_dependency/visibility_2D_map_JPA_OFF_P=0_factor=25.npz').files\n",
    "\n",
    "factor=np.load('./power_dependency/visibility_2D_map_JPA_OFF_P=0_factor=25.npz')[\"factor\"]\n",
    "visibility_2D_map=np.load('./power_dependency/visibility_2D_map_JPA_OFF_P=0_factor=25.npz')[\"visibility_2D_map\"]\n",
    "t_max=np.load('./power_dependency/visibility_2D_map_JPA_OFF_P=0_factor=25.npz')[\"t_max\"]\n",
    "fidelity_up_E=np.load('./power_dependency/visibility_2D_map_JPA_OFF_P=0_factor=25.npz')[\"fidelity_up_E\"]\n",
    "fidelity_down_E=np.load('./power_dependency/visibility_2D_map_JPA_OFF_P=0_factor=25.npz')[\"fidelity_down_E\"]\n",
    "\n"
   ]
  },
  {
   "cell_type": "code",
   "execution_count": 108,
   "metadata": {
    "ExecuteTime": {
     "end_time": "2021-12-01T17:07:43.604916Z",
     "start_time": "2021-12-01T17:07:43.244293Z"
    }
   },
   "outputs": [
    {
     "data": {
      "text/plain": [
       "447.10177812216347"
      ]
     },
     "execution_count": 108,
     "metadata": {},
     "output_type": "execute_result"
    },
    {
     "data": {
      "image/png": "[encoded data removed]",
      "text/plain": [
       "<Figure size 239.103x147.774 with 1 Axes>"
      ]
     },
     "metadata": {
      "needs_background": "light"
     },
     "output_type": "display_data"
    }
   ],
   "source": [
    "plt.scatter(t_max[:-1], 1-(fidelity_down_E[:-1]+fidelity_up_E[:-1])/2)\n",
    "plt.yscale(\"log\")\n",
    "plt.xscale(\"log\")\n",
    "max_vis=np.where((fidelity_down_E+fidelity_up_E)==(fidelity_down_E+fidelity_up_E).max())[0][0]\n",
    "t_max[max_vis]"
   ]
  },
  {
   "cell_type": "code",
   "execution_count": 109,
   "metadata": {
    "ExecuteTime": {
     "end_time": "2021-12-01T17:07:44.345753Z",
     "start_time": "2021-12-01T17:07:44.330803Z"
    }
   },
   "outputs": [
    {
     "data": {
      "text/plain": [
       "array([0.97898])"
      ]
     },
     "execution_count": 109,
     "metadata": {},
     "output_type": "execute_result"
    }
   ],
   "source": [
    "fidelity_up_E[max_vis]"
   ]
  },
  {
   "cell_type": "code",
   "execution_count": 110,
   "metadata": {
    "ExecuteTime": {
     "end_time": "2021-12-01T17:07:45.048303Z",
     "start_time": "2021-12-01T17:07:45.035343Z"
    }
   },
   "outputs": [
    {
     "data": {
      "text/plain": [
       "array([0.99754])"
      ]
     },
     "execution_count": 110,
     "metadata": {},
     "output_type": "execute_result"
    }
   ],
   "source": [
    "fidelity_down_E[max_vis]"
   ]
  },
  {
   "cell_type": "markdown",
   "metadata": {},
   "source": [
    "# power 2 id_1=3"
   ]
  },
  {
   "cell_type": "code",
   "execution_count": 151,
   "metadata": {
    "ExecuteTime": {
     "end_time": "2021-12-01T17:13:50.652044Z",
     "start_time": "2021-12-01T17:13:50.638016Z"
    }
   },
   "outputs": [],
   "source": [
    "power=2\n",
    "id_1=3"
   ]
  },
  {
   "cell_type": "code",
   "execution_count": 152,
   "metadata": {
    "ExecuteTime": {
     "end_time": "2021-12-01T17:13:51.402333Z",
     "start_time": "2021-12-01T17:13:51.390274Z"
    }
   },
   "outputs": [
    {
     "data": {
      "text/plain": [
       "1.519163699611947"
      ]
     },
     "execution_count": 152,
     "metadata": {},
     "output_type": "execute_result"
    }
   ],
   "source": [
    "import json\n",
    "with open('JPA_off_vs_power_'+str(id_1)+'.json', 'r') as file:\n",
    "    signal_parameters_fit_read=json.load(file)\n",
    "\n",
    "    \n",
    "A=signal_parameters_fit_read[\"A\"]\n",
    "std_low=signal_parameters_fit_read[\"std_bg\"]\n",
    "std_up=signal_parameters_fit_read[\"std_up\"]\n",
    "signal_low=signal_parameters_fit_read[\"mean_bg\"]\n",
    "signal_high=signal_parameters_fit_read[\"mean_up\"]\n",
    "\n",
    "t_in=signal_parameters_fit_read[\"t_in\"]\n",
    "t_out=signal_parameters_fit_read[\"t_out\"]\n",
    "\n",
    "\n",
    "SNR=((signal_high-signal_low)/((std_low+std_up)/2))**2\n",
    "SNR"
   ]
  },
  {
   "cell_type": "code",
   "execution_count": 154,
   "metadata": {
    "ExecuteTime": {
     "end_time": "2021-12-01T17:14:16.760057Z",
     "start_time": "2021-12-01T17:14:16.751086Z"
    }
   },
   "outputs": [
    {
     "data": {
      "text/plain": [
       "22.419067336281234"
      ]
     },
     "execution_count": 154,
     "metadata": {},
     "output_type": "execute_result"
    }
   ],
   "source": [
    "t_out"
   ]
  },
  {
   "cell_type": "code",
   "execution_count": 166,
   "metadata": {
    "ExecuteTime": {
     "end_time": "2021-12-01T17:34:10.657700Z",
     "start_time": "2021-12-01T17:34:10.635774Z"
    }
   },
   "outputs": [],
   "source": [
    "np.load('./power_dependency/visibility_2D_map_JPA_OFF_P='+str(power)+  '.npz').files\n",
    "\n",
    "factor=np.load('./power_dependency/visibility_2D_map_JPA_OFF_P=' +str(power)+  '.npz')[\"factor\"]\n",
    "visibility_2D_map=np.load('./power_dependency/visibility_2D_map_JPA_OFF_P=' +str(power)+  '.npz')[\"visibility_2D_map\"]\n",
    "t_max=np.load('./power_dependency/visibility_2D_map_JPA_OFF_P=' +str(power)+  '.npz')[\"t_max\"]\n",
    "fidelity_up_E=np.load('./power_dependency/visibility_2D_map_JPA_OFF_P=' +str(power)+  '.npz')[\"fidelity_up_E\"]\n",
    "fidelity_down_E=np.load('./power_dependency/visibility_2D_map_JPA_OFF_P=' +str(power)+  '.npz')[\"fidelity_down_E\"]\n",
    "\n"
   ]
  },
  {
   "cell_type": "code",
   "execution_count": 167,
   "metadata": {
    "ExecuteTime": {
     "end_time": "2021-12-01T17:34:12.722600Z",
     "start_time": "2021-12-01T17:34:12.452078Z"
    }
   },
   "outputs": [
    {
     "name": "stderr",
     "output_type": "stream",
     "text": [
      "C:\\Users\\virgi\\QMT Dropbox\\Virginia Ciriano\\experiments\\2_qubit_gate_raw_data\\W19\\2S28_1\\DATA_ANALYSIS\\Spin_fidelity_JPA_off_vs\\fit_helpers_vir.py:210: MatplotlibDeprecationWarning: shading='flat' when X and Y have the same dimensions as C is deprecated since 3.3.  Either specify the corners of the quadrilaterals with X and Y, or pass shading='auto', 'nearest' or 'gouraud', or set rcParams['pcolor.shading'].  This will become an error two minor releases later.\n",
      "  cs = ax.pcolormesh(Y, X, Z,vmin=level_min,vmax=level_max,  cmap='viridis')\n"
     ]
    },
    {
     "data": {
      "image/png": "[encoded data removed]",
      "text/plain": [
       "<Figure size 239.103x147.774 with 2 Axes>"
      ]
     },
     "metadata": {
      "needs_background": "light"
     },
     "output_type": "display_data"
    }
   ],
   "source": [
    "from fit_helpers_vir import *\n",
    "\n",
    "%matplotlib inline\n",
    "D2_map(factor,t_max,(visibility_2D_map),0.97,visibility_2D_map.max(),\"linear\", \"visibility 2D map\",\"factor\",\"meas_time $(\\mu s)$\",\"2D_MAP\")\n"
   ]
  },
  {
   "cell_type": "code",
   "execution_count": 75,
   "metadata": {
    "ExecuteTime": {
     "end_time": "2021-12-01T16:55:58.448742Z",
     "start_time": "2021-12-01T16:55:58.431198Z"
    }
   },
   "outputs": [],
   "source": [
    "\n"
   ]
  },
  {
   "cell_type": "code",
   "execution_count": null,
   "metadata": {
    "ExecuteTime": {
     "end_time": "2021-12-01T16:55:16.020919Z",
     "start_time": "2021-12-01T16:55:16.020919Z"
    }
   },
   "outputs": [],
   "source": []
  },
  {
   "cell_type": "code",
   "execution_count": 170,
   "metadata": {
    "ExecuteTime": {
     "end_time": "2021-12-01T17:37:26.433707Z",
     "start_time": "2021-12-01T17:37:26.419897Z"
    }
   },
   "outputs": [],
   "source": [
    "np.load('./power_dependency/visibility_JPA_OFF_P='+str(power)+  '_factor=20.npz').files\n",
    "\n",
    "visibility_2D_map=np.load('./power_dependency/visibility_JPA_OFF_P=' +str(power)+  '_factor=20.npz')[\"visibility_2D_map\"]\n",
    "t_max=np.load('./power_dependency/visibility_JPA_OFF_P=' +str(power)+  '_factor=20.npz')[\"t_max\"]\n",
    "fidelity_down_E=np.load('./power_dependency/visibility_JPA_OFF_P=' +str(power)+  '_factor=20.npz')[\"fidelity_down_E\"]\n",
    "fidelity_up_E=np.load('./power_dependency/visibility_JPA_OFF_P=' +str(power)+  '_factor=20.npz')[\"fidelity_up_E\"]"
   ]
  },
  {
   "cell_type": "code",
   "execution_count": 171,
   "metadata": {
    "ExecuteTime": {
     "end_time": "2021-12-01T17:37:26.789581Z",
     "start_time": "2021-12-01T17:37:26.435622Z"
    }
   },
   "outputs": [
    {
     "data": {
      "text/plain": [
       "182.03821101835672"
      ]
     },
     "execution_count": 171,
     "metadata": {},
     "output_type": "execute_result"
    },
    {
     "data": {
      "image/png": "[encoded data removed]",
      "text/plain": [
       "<Figure size 239.103x147.774 with 1 Axes>"
      ]
     },
     "metadata": {
      "needs_background": "light"
     },
     "output_type": "display_data"
    }
   ],
   "source": [
    "plt.scatter(t_max[:-1], 1-(fidelity_down_E[:-1]+fidelity_up_E[:-1])/2)\n",
    "plt.yscale(\"log\")\n",
    "plt.xscale(\"log\")\n",
    "max_vis=np.where((fidelity_down_E+fidelity_up_E)==(fidelity_down_E+fidelity_up_E).max())[0][0]\n",
    "t_max[max_vis]"
   ]
  },
  {
   "cell_type": "code",
   "execution_count": 172,
   "metadata": {
    "ExecuteTime": {
     "end_time": "2021-12-01T17:37:26.805533Z",
     "start_time": "2021-12-01T17:37:26.791575Z"
    }
   },
   "outputs": [
    {
     "data": {
      "text/plain": [
       "array([0.98134])"
      ]
     },
     "execution_count": 172,
     "metadata": {},
     "output_type": "execute_result"
    }
   ],
   "source": [
    "fidelity_up_E[max_vis]"
   ]
  },
  {
   "cell_type": "code",
   "execution_count": 173,
   "metadata": {
    "ExecuteTime": {
     "end_time": "2021-12-01T17:37:26.821572Z",
     "start_time": "2021-12-01T17:37:26.807950Z"
    }
   },
   "outputs": [
    {
     "data": {
      "text/plain": [
       "array([0.99723])"
      ]
     },
     "execution_count": 173,
     "metadata": {},
     "output_type": "execute_result"
    }
   ],
   "source": [
    "fidelity_down_E[max_vis]"
   ]
  },
  {
   "cell_type": "markdown",
   "metadata": {},
   "source": [
    "# power 6 id_1=4"
   ]
  },
  {
   "cell_type": "code",
   "execution_count": 193,
   "metadata": {
    "ExecuteTime": {
     "end_time": "2021-12-01T17:46:01.823230Z",
     "start_time": "2021-12-01T17:46:01.816253Z"
    }
   },
   "outputs": [],
   "source": [
    "power=6\n",
    "id_1=4"
   ]
  },
  {
   "cell_type": "code",
   "execution_count": 194,
   "metadata": {
    "ExecuteTime": {
     "end_time": "2021-12-01T17:46:04.599528Z",
     "start_time": "2021-12-01T17:46:04.590495Z"
    }
   },
   "outputs": [
    {
     "data": {
      "text/plain": [
       "2.3728946968730615"
      ]
     },
     "execution_count": 194,
     "metadata": {},
     "output_type": "execute_result"
    }
   ],
   "source": [
    "import json\n",
    "with open('JPA_off_vs_power_'+str(id_1)+'.json', 'r') as file:\n",
    "    signal_parameters_fit_read=json.load(file)\n",
    "\n",
    "    \n",
    "A=signal_parameters_fit_read[\"A\"]\n",
    "std_low=signal_parameters_fit_read[\"std_bg\"]\n",
    "std_up=signal_parameters_fit_read[\"std_up\"]\n",
    "signal_low=signal_parameters_fit_read[\"mean_bg\"]\n",
    "signal_high=signal_parameters_fit_read[\"mean_up\"]\n",
    "\n",
    "t_in=signal_parameters_fit_read[\"t_in\"]\n",
    "t_out=signal_parameters_fit_read[\"t_out\"]\n",
    "\n",
    "\n",
    "SNR=((signal_high-signal_low)/((std_low+std_up)/2))**2\n",
    "SNR"
   ]
  },
  {
   "cell_type": "code",
   "execution_count": 195,
   "metadata": {
    "ExecuteTime": {
     "end_time": "2021-12-01T17:46:30.391493Z",
     "start_time": "2021-12-01T17:46:30.383519Z"
    },
    "scrolled": true
   },
   "outputs": [
    {
     "data": {
      "text/plain": [
       "93.33348642407351"
      ]
     },
     "execution_count": 195,
     "metadata": {},
     "output_type": "execute_result"
    }
   ],
   "source": [
    "t_in"
   ]
  },
  {
   "cell_type": "code",
   "execution_count": 206,
   "metadata": {
    "ExecuteTime": {
     "end_time": "2021-12-01T17:48:24.114913Z",
     "start_time": "2021-12-01T17:48:24.092982Z"
    }
   },
   "outputs": [],
   "source": [
    "np.load('./power_dependency/visibility_2D_map_JPA_OFF_P='+str(power)+  '.npz').files\n",
    "\n",
    "factor=np.load('./power_dependency/visibility_2D_map_JPA_OFF_P=' +str(power)+  '.npz')[\"factor\"]\n",
    "visibility_2D_map=np.load('./power_dependency/visibility_2D_map_JPA_OFF_P=' +str(power)+  '.npz')[\"visibility_2D_map\"]\n",
    "t_max=np.load('./power_dependency/visibility_2D_map_JPA_OFF_P=' +str(power)+  '.npz')[\"t_max\"]\n",
    "fidelity_up_E=np.load('./power_dependency/visibility_2D_map_JPA_OFF_P=' +str(power)+  '.npz')[\"fidelity_up_E\"]\n",
    "fidelity_down_E=np.load('./power_dependency/visibility_2D_map_JPA_OFF_P=' +str(power)+  '.npz')[\"fidelity_down_E\"]\n",
    "\n"
   ]
  },
  {
   "cell_type": "code",
   "execution_count": 207,
   "metadata": {
    "ExecuteTime": {
     "end_time": "2021-12-01T17:48:24.491148Z",
     "start_time": "2021-12-01T17:48:24.482174Z"
    }
   },
   "outputs": [
    {
     "data": {
      "text/plain": [
       "array([ 2. ,  9.8, 17.6, 25.4, 33.2, 41. , 48.8, 56.6, 64.4, 72.2, 80. ])"
      ]
     },
     "execution_count": 207,
     "metadata": {},
     "output_type": "execute_result"
    }
   ],
   "source": [
    "factor"
   ]
  },
  {
   "cell_type": "code",
   "execution_count": 208,
   "metadata": {
    "ExecuteTime": {
     "end_time": "2021-12-01T17:48:25.352689Z",
     "start_time": "2021-12-01T17:48:25.073354Z"
    }
   },
   "outputs": [
    {
     "name": "stderr",
     "output_type": "stream",
     "text": [
      "C:\\Users\\virgi\\QMT Dropbox\\Virginia Ciriano\\experiments\\2_qubit_gate_raw_data\\W19\\2S28_1\\DATA_ANALYSIS\\Spin_fidelity_JPA_off_vs\\fit_helpers_vir.py:210: MatplotlibDeprecationWarning: shading='flat' when X and Y have the same dimensions as C is deprecated since 3.3.  Either specify the corners of the quadrilaterals with X and Y, or pass shading='auto', 'nearest' or 'gouraud', or set rcParams['pcolor.shading'].  This will become an error two minor releases later.\n",
      "  cs = ax.pcolormesh(Y, X, Z,vmin=level_min,vmax=level_max,  cmap='viridis')\n"
     ]
    },
    {
     "data": {
      "image/png": "[encoded data removed]",
      "text/plain": [
       "<Figure size 239.103x147.774 with 2 Axes>"
      ]
     },
     "metadata": {
      "needs_background": "light"
     },
     "output_type": "display_data"
    }
   ],
   "source": [
    "from fit_helpers_vir import *\n",
    "\n",
    "%matplotlib inline\n",
    "D2_map(factor,t_max,(visibility_2D_map),visibility_2D_map.min(),visibility_2D_map.max(),\"linear\", \"visibility 2D map\",\"factor\",\"meas_time $(\\mu s)$\",\"2D_MAP\")\n"
   ]
  },
  {
   "cell_type": "code",
   "execution_count": 218,
   "metadata": {
    "ExecuteTime": {
     "end_time": "2021-12-01T18:07:32.740024Z",
     "start_time": "2021-12-01T18:07:32.724937Z"
    }
   },
   "outputs": [],
   "source": [
    "np.load('./power_dependency/visibility_JPA_OFF_P='+str(power)+  '_factor=15.npz').files\n",
    "\n",
    "visibility_2D_map=np.load('./power_dependency/visibility_JPA_OFF_P=' +str(power)+  '_factor=15.npz')[\"visibility_2D_map\"]\n",
    "t_max=np.load('./power_dependency/visibility_JPA_OFF_P=' +str(power)+  '_factor=15.npz')[\"t_max\"]\n",
    "fidelity_down_E=np.load('./power_dependency/visibility_JPA_OFF_P=' +str(power)+  '_factor=15.npz')[\"fidelity_down_E\"]\n",
    "fidelity_up_E=np.load('./power_dependency/visibility_JPA_OFF_P=' +str(power)+  '_factor=15.npz')[\"fidelity_up_E\"]"
   ]
  },
  {
   "cell_type": "code",
   "execution_count": 219,
   "metadata": {
    "ExecuteTime": {
     "end_time": "2021-12-01T18:07:33.314642Z",
     "start_time": "2021-12-01T18:07:33.034714Z"
    }
   },
   "outputs": [
    {
     "data": {
      "text/plain": [
       "130.4515157600832"
      ]
     },
     "execution_count": 219,
     "metadata": {},
     "output_type": "execute_result"
    },
    {
     "data": {
      "image/png": "[encoded data removed]",
      "text/plain": [
       "<Figure size 239.103x147.774 with 1 Axes>"
      ]
     },
     "metadata": {
      "needs_background": "light"
     },
     "output_type": "display_data"
    }
   ],
   "source": [
    "plt.scatter(t_max[:-1], 1-(fidelity_down_E[:-1]+fidelity_up_E[:-1])/2)\n",
    "plt.yscale(\"log\")\n",
    "plt.xscale(\"log\")\n",
    "max_vis=np.where((fidelity_down_E+fidelity_up_E)==(fidelity_down_E+fidelity_up_E).max())[0][0]\n",
    "t_max[max_vis]"
   ]
  },
  {
   "cell_type": "code",
   "execution_count": 220,
   "metadata": {
    "ExecuteTime": {
     "end_time": "2021-12-01T18:07:33.378363Z",
     "start_time": "2021-12-01T18:07:33.367397Z"
    }
   },
   "outputs": [
    {
     "data": {
      "text/plain": [
       "array([0.95726])"
      ]
     },
     "execution_count": 220,
     "metadata": {},
     "output_type": "execute_result"
    }
   ],
   "source": [
    "fidelity_up_E[max_vis]"
   ]
  },
  {
   "cell_type": "code",
   "execution_count": 221,
   "metadata": {
    "ExecuteTime": {
     "end_time": "2021-12-01T18:07:34.693223Z",
     "start_time": "2021-12-01T18:07:34.674120Z"
    }
   },
   "outputs": [
    {
     "data": {
      "text/plain": [
       "array([0.99406])"
      ]
     },
     "execution_count": 221,
     "metadata": {},
     "output_type": "execute_result"
    }
   ],
   "source": [
    "fidelity_down_E[max_vis]"
   ]
  },
  {
   "cell_type": "markdown",
   "metadata": {},
   "source": [
    "# power 6 id_1=4"
   ]
  },
  {
   "cell_type": "code",
   "execution_count": 229,
   "metadata": {
    "ExecuteTime": {
     "end_time": "2021-12-01T18:08:52.744773Z",
     "start_time": "2021-12-01T18:08:52.729773Z"
    }
   },
   "outputs": [],
   "source": [
    "power=4\n",
    "id_1=5"
   ]
  },
  {
   "cell_type": "code",
   "execution_count": 230,
   "metadata": {
    "ExecuteTime": {
     "end_time": "2021-12-01T18:08:54.142722Z",
     "start_time": "2021-12-01T18:08:54.132754Z"
    }
   },
   "outputs": [
    {
     "data": {
      "text/plain": [
       "1.6109938798398529"
      ]
     },
     "execution_count": 230,
     "metadata": {},
     "output_type": "execute_result"
    }
   ],
   "source": [
    "import json\n",
    "with open('JPA_off_vs_power_'+str(id_1)+'.json', 'r') as file:\n",
    "    signal_parameters_fit_read=json.load(file)\n",
    "\n",
    "    \n",
    "A=signal_parameters_fit_read[\"A\"]\n",
    "std_low=signal_parameters_fit_read[\"std_bg\"]\n",
    "std_up=signal_parameters_fit_read[\"std_up\"]\n",
    "signal_low=signal_parameters_fit_read[\"mean_bg\"]\n",
    "signal_high=signal_parameters_fit_read[\"mean_up\"]\n",
    "\n",
    "t_in=signal_parameters_fit_read[\"t_in\"]\n",
    "t_out=signal_parameters_fit_read[\"t_out\"]\n",
    "\n",
    "\n",
    "SNR=((signal_high-signal_low)/((std_low+std_up)/2))**2\n",
    "SNR"
   ]
  },
  {
   "cell_type": "code",
   "execution_count": 232,
   "metadata": {
    "ExecuteTime": {
     "end_time": "2021-12-01T18:09:11.193698Z",
     "start_time": "2021-12-01T18:09:11.175798Z"
    },
    "scrolled": true
   },
   "outputs": [
    {
     "data": {
      "text/plain": [
       "40.39030145786056"
      ]
     },
     "execution_count": 232,
     "metadata": {},
     "output_type": "execute_result"
    }
   ],
   "source": [
    "t_out"
   ]
  },
  {
   "cell_type": "code",
   "execution_count": 206,
   "metadata": {
    "ExecuteTime": {
     "end_time": "2021-12-01T17:48:24.114913Z",
     "start_time": "2021-12-01T17:48:24.092982Z"
    }
   },
   "outputs": [],
   "source": [
    "np.load('./power_dependency/visibility_2D_map_JPA_OFF_P='+str(power)+  '.npz').files\n",
    "\n",
    "factor=np.load('./power_dependency/visibility_2D_map_JPA_OFF_P=' +str(power)+  '.npz')[\"factor\"]\n",
    "visibility_2D_map=np.load('./power_dependency/visibility_2D_map_JPA_OFF_P=' +str(power)+  '.npz')[\"visibility_2D_map\"]\n",
    "t_max=np.load('./power_dependency/visibility_2D_map_JPA_OFF_P=' +str(power)+  '.npz')[\"t_max\"]\n",
    "fidelity_up_E=np.load('./power_dependency/visibility_2D_map_JPA_OFF_P=' +str(power)+  '.npz')[\"fidelity_up_E\"]\n",
    "fidelity_down_E=np.load('./power_dependency/visibility_2D_map_JPA_OFF_P=' +str(power)+  '.npz')[\"fidelity_down_E\"]\n",
    "\n"
   ]
  },
  {
   "cell_type": "code",
   "execution_count": 207,
   "metadata": {
    "ExecuteTime": {
     "end_time": "2021-12-01T17:48:24.491148Z",
     "start_time": "2021-12-01T17:48:24.482174Z"
    }
   },
   "outputs": [
    {
     "data": {
      "text/plain": [
       "array([ 2. ,  9.8, 17.6, 25.4, 33.2, 41. , 48.8, 56.6, 64.4, 72.2, 80. ])"
      ]
     },
     "execution_count": 207,
     "metadata": {},
     "output_type": "execute_result"
    }
   ],
   "source": [
    "factor"
   ]
  },
  {
   "cell_type": "code",
   "execution_count": 208,
   "metadata": {
    "ExecuteTime": {
     "end_time": "2021-12-01T17:48:25.352689Z",
     "start_time": "2021-12-01T17:48:25.073354Z"
    }
   },
   "outputs": [
    {
     "name": "stderr",
     "output_type": "stream",
     "text": [
      "C:\\Users\\virgi\\QMT Dropbox\\Virginia Ciriano\\experiments\\2_qubit_gate_raw_data\\W19\\2S28_1\\DATA_ANALYSIS\\Spin_fidelity_JPA_off_vs\\fit_helpers_vir.py:210: MatplotlibDeprecationWarning: shading='flat' when X and Y have the same dimensions as C is deprecated since 3.3.  Either specify the corners of the quadrilaterals with X and Y, or pass shading='auto', 'nearest' or 'gouraud', or set rcParams['pcolor.shading'].  This will become an error two minor releases later.\n",
      "  cs = ax.pcolormesh(Y, X, Z,vmin=level_min,vmax=level_max,  cmap='viridis')\n"
     ]
    },
    {
     "data": {
      "image/png": "[encoded data removed]",
      "text/plain": [
       "<Figure size 239.103x147.774 with 2 Axes>"
      ]
     },
     "metadata": {
      "needs_background": "light"
     },
     "output_type": "display_data"
    }
   ],
   "source": [
    "from fit_helpers_vir import *\n",
    "\n",
    "%matplotlib inline\n",
    "D2_map(factor,t_max,(visibility_2D_map),visibility_2D_map.min(),visibility_2D_map.max(),\"linear\", \"visibility 2D map\",\"factor\",\"meas_time $(\\mu s)$\",\"2D_MAP\")\n"
   ]
  },
  {
   "cell_type": "code",
   "execution_count": 218,
   "metadata": {
    "ExecuteTime": {
     "end_time": "2021-12-01T18:07:32.740024Z",
     "start_time": "2021-12-01T18:07:32.724937Z"
    }
   },
   "outputs": [],
   "source": [
    "np.load('./power_dependency/visibility_JPA_OFF_P='+str(power)+  '_factor=15.npz').files\n",
    "\n",
    "visibility_2D_map=np.load('./power_dependency/visibility_JPA_OFF_P=' +str(power)+  '_factor=15.npz')[\"visibility_2D_map\"]\n",
    "t_max=np.load('./power_dependency/visibility_JPA_OFF_P=' +str(power)+  '_factor=15.npz')[\"t_max\"]\n",
    "fidelity_down_E=np.load('./power_dependency/visibility_JPA_OFF_P=' +str(power)+  '_factor=15.npz')[\"fidelity_down_E\"]\n",
    "fidelity_up_E=np.load('./power_dependency/visibility_JPA_OFF_P=' +str(power)+  '_factor=15.npz')[\"fidelity_up_E\"]"
   ]
  },
  {
   "cell_type": "code",
   "execution_count": 219,
   "metadata": {
    "ExecuteTime": {
     "end_time": "2021-12-01T18:07:33.314642Z",
     "start_time": "2021-12-01T18:07:33.034714Z"
    }
   },
   "outputs": [
    {
     "data": {
      "text/plain": [
       "130.4515157600832"
      ]
     },
     "execution_count": 219,
     "metadata": {},
     "output_type": "execute_result"
    },
    {
     "data": {
      "image/png": "[encoded data removed]",
      "text/plain": [
       "<Figure size 239.103x147.774 with 1 Axes>"
      ]
     },
     "metadata": {
      "needs_background": "light"
     },
     "output_type": "display_data"
    }
   ],
   "source": [
    "plt.scatter(t_max[:-1], 1-(fidelity_down_E[:-1]+fidelity_up_E[:-1])/2)\n",
    "plt.yscale(\"log\")\n",
    "plt.xscale(\"log\")\n",
    "max_vis=np.where((fidelity_down_E+fidelity_up_E)==(fidelity_down_E+fidelity_up_E).max())[0][0]\n",
    "t_max[max_vis]"
   ]
  },
  {
   "cell_type": "code",
   "execution_count": 220,
   "metadata": {
    "ExecuteTime": {
     "end_time": "2021-12-01T18:07:33.378363Z",
     "start_time": "2021-12-01T18:07:33.367397Z"
    }
   },
   "outputs": [
    {
     "data": {
      "text/plain": [
       "array([0.95726])"
      ]
     },
     "execution_count": 220,
     "metadata": {},
     "output_type": "execute_result"
    }
   ],
   "source": [
    "fidelity_up_E[max_vis]"
   ]
  },
  {
   "cell_type": "code",
   "execution_count": 221,
   "metadata": {
    "ExecuteTime": {
     "end_time": "2021-12-01T18:07:34.693223Z",
     "start_time": "2021-12-01T18:07:34.674120Z"
    }
   },
   "outputs": [
    {
     "data": {
      "text/plain": [
       "array([0.99406])"
      ]
     },
     "execution_count": 221,
     "metadata": {},
     "output_type": "execute_result"
    }
   ],
   "source": [
    "fidelity_down_E[max_vis]"
   ]
  },
  {
   "cell_type": "markdown",
   "metadata": {},
   "source": [
    "# Summary"
   ]
  },
  {
   "cell_type": "markdown",
   "metadata": {},
   "source": [
    "![alt text](fidelity_combined.PNG \"Fidelity STC\")"
   ]
  },
  {
   "cell_type": "code",
   "execution_count": 244,
   "metadata": {
    "ExecuteTime": {
     "end_time": "2021-12-01T18:12:31.801166Z",
     "start_time": "2021-12-01T18:12:31.593950Z"
    }
   },
   "outputs": [
    {
     "data": {
      "image/png": "[encoded data removed]",
      "text/plain": [
       "<Figure size 239.103x147.774 with 1 Axes>"
      ]
     },
     "metadata": {
      "needs_background": "light"
     },
     "output_type": "display_data"
    }
   ],
   "source": [
    "power=np.array([-2,0, 2,6])\n",
    "SNR=np.array([0.6021073894048742,0.984499969842666, 1.51916369,2.37289, 1.610])\n",
    "F_E_up_max=np.array([0.97379, 0.97898, 0.98134, 0.95726])\n",
    "F_E_down_max=np.array([0.9974, 0.99754, 0.99723, 0.99406])\n",
    "t_out_up=np.array([53.71,52.61, 22.41, 18.01,40.39])\n",
    "t_in_down=np.array([439.4,518, 313.8,93, 215.4])\n",
    "delta_t_max=np.array([421.20, 447, 182.03,130.451])\n",
    "factor=np.array([40,25,20,15])\n",
    "\n",
    "\n",
    "plt.scatter(power, 1-(F_E_up_max+F_E_down_max)/2)\n",
    "plt.yscale(\"log\")"
   ]
  },
  {
   "cell_type": "code",
   "execution_count": 238,
   "metadata": {
    "ExecuteTime": {
     "end_time": "2021-12-01T18:10:29.128966Z",
     "start_time": "2021-12-01T18:10:28.948149Z"
    }
   },
   "outputs": [
    {
     "data": {
      "image/png": "[encoded data removed]",
      "text/plain": [
       "<Figure size 239.103x147.774 with 1 Axes>"
      ]
     },
     "metadata": {
      "needs_background": "light"
     },
     "output_type": "display_data"
    }
   ],
   "source": [
    "plt.scatter(power, SNR)\n",
    "plt.yscale(\"log\")"
   ]
  },
  {
   "cell_type": "code",
   "execution_count": null,
   "metadata": {},
   "outputs": [],
   "source": []
  }
 ],
 "metadata": {
  "kernelspec": {
   "display_name": "Python 3",
   "language": "python",
   "name": "python3"
  },
  "language_info": {
   "codemirror_mode": {
    "name": "ipython",
    "version": 3
   },
   "file_extension": ".py",
   "mimetype": "text/x-python",
   "name": "python",
   "nbconvert_exporter": "python",
   "pygments_lexer": "ipython3",
   "version": "3.8.8"
  },
  "toc": {
   "base_numbering": 1,
   "nav_menu": {},
   "number_sections": true,
   "sideBar": true,
   "skip_h1_title": false,
   "title_cell": "Table of Contents",
   "title_sidebar": "Contents",
   "toc_cell": false,
   "toc_position": {
    "height": "calc(100% - 180px)",
    "left": "10px",
    "top": "150px",
    "width": "279.263px"
   },
   "toc_section_display": true,
   "toc_window_display": true
  }
 },
 "nbformat": 4,
 "nbformat_minor": 4
}
